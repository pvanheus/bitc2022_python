{
 "cells": [
  {
   "cell_type": "markdown",
   "id": "c770acca-cecc-4f14-b7f5-3aee7ff6eeb9",
   "metadata": {},
   "source": [
    "## Chapter 4 - Lists and loops"
   ]
  },
  {
   "cell_type": "code",
   "execution_count": 1,
   "id": "5e09c200-3b13-47b3-861f-e741d235eef8",
   "metadata": {},
   "outputs": [],
   "source": [
    "seq_1 = \"ATCGTACGATCGATCGATCGCTAGACGTATCG\"\n",
    "seq_2 = \"actgatcgacgatcgatcgatcacgact\"\n",
    "seq_3 = \"ACTGAC-ACTGT-ACTGTA----CATGTG\""
   ]
  },
  {
   "cell_type": "code",
   "execution_count": 3,
   "id": "59fc7f7e-6118-45ae-ac51-fa821c406348",
   "metadata": {},
   "outputs": [],
   "source": [
    "apes = [\"Homo sapiens\", \"Pan troglodytes\", \"Gorilla gorilla\"]\n",
    "conserved_sites = [24, 56, 232]"
   ]
  },
  {
   "cell_type": "code",
   "execution_count": 5,
   "id": "a01d20a5-cc55-42a1-90ea-5921cdb020af",
   "metadata": {},
   "outputs": [
    {
     "name": "stdout",
     "output_type": "stream",
     "text": [
      "P\n"
     ]
    }
   ],
   "source": [
    "my_name = \"Peter\"\n",
    "print(my_name[0])"
   ]
  },
  {
   "cell_type": "code",
   "execution_count": 6,
   "id": "44fa266b-7157-4627-b633-79977f308dcb",
   "metadata": {},
   "outputs": [
    {
     "name": "stdout",
     "output_type": "stream",
     "text": [
      "Homo sapiens\n"
     ]
    }
   ],
   "source": [
    "print(apes[0])"
   ]
  },
  {
   "cell_type": "code",
   "execution_count": 7,
   "id": "166b7412-93cc-4ab7-bfcd-8977bc61ae67",
   "metadata": {},
   "outputs": [
    {
     "name": "stdout",
     "output_type": "stream",
     "text": [
      "232\n"
     ]
    }
   ],
   "source": [
    "first_site = conserved_sites[2]\n",
    "print(first_site)"
   ]
  },
  {
   "cell_type": "code",
   "execution_count": 8,
   "id": "f52db5a8-e002-40f0-aebd-865fac0c729c",
   "metadata": {},
   "outputs": [
    {
     "name": "stdout",
     "output_type": "stream",
     "text": [
      "5\n"
     ]
    }
   ],
   "source": [
    "print(len(my_name))"
   ]
  },
  {
   "cell_type": "code",
   "execution_count": 9,
   "id": "313562de-8f85-4717-b590-1152e7f2ca7e",
   "metadata": {},
   "outputs": [
    {
     "name": "stdout",
     "output_type": "stream",
     "text": [
      "3\n"
     ]
    }
   ],
   "source": [
    "print(len(apes))"
   ]
  },
  {
   "cell_type": "code",
   "execution_count": 14,
   "id": "c06a1bd4-0736-4e93-9df0-3f9e5b4d0a66",
   "metadata": {},
   "outputs": [
    {
     "name": "stdout",
     "output_type": "stream",
     "text": [
      "Homo sapiens\n",
      "Pan troglodytes\n",
      "Gorilla gorilla\n",
      "\n",
      "Homo sapiens\n",
      "Pan troglodytes\n",
      "Gorilla gorilla\n"
     ]
    }
   ],
   "source": [
    "apes = [\"Homo sapiens\", \"Pan troglodytes\", \"Gorilla gorilla\"]\n",
    "#               0            1                 2\n",
    "#               -3           -2               -1\n",
    "print(apes[0])\n",
    "print(apes[1])\n",
    "print(apes[2])\n",
    "print()\n",
    "print(apes[-3])\n",
    "print(apes[-2])\n",
    "print(apes[-1])"
   ]
  },
  {
   "cell_type": "code",
   "execution_count": 22,
   "id": "4b1abc82-8249-49c7-8fc8-f3ca0ad80b64",
   "metadata": {},
   "outputs": [
    {
     "name": "stdout",
     "output_type": "stream",
     "text": [
      "['Homo sapiens', 'Pan troglodytes']\n",
      "['Pan troglodytes']\n",
      "['Pan troglodytes', 'Gorilla gorilla']\n",
      "['Pan troglodytes', 'Gorilla gorilla']\n",
      "['Homo sapiens', 'Pan troglodytes']\n",
      "['Homo sapiens', 'Pan troglodytes']\n"
     ]
    }
   ],
   "source": [
    "# start at element 0\n",
    "# end before element 2\n",
    "print(apes[0:2])\n",
    "print(apes[1:-1])\n",
    "print(apes[1:50])  # second coordinate aka second index is past the end of the list\n",
    "print(apes[1:])    # from index 1 to the end\n",
    "print(apes[0:2])\n",
    "print(apes[:2])    # from the start, stop before index 2"
   ]
  },
  {
   "cell_type": "code",
   "execution_count": 25,
   "id": "ffd6a845-af2c-4b2b-825a-b326c3037974",
   "metadata": {},
   "outputs": [
    {
     "name": "stdout",
     "output_type": "stream",
     "text": [
      "Pan troglodytes\n",
      "['Pan troglodytes', 'Gorilla gorilla']\n",
      "['Homo sapiens', 'Pan troglodytes']\n"
     ]
    }
   ],
   "source": [
    "apes = [\"Homo sapiens\", \"Pan troglodytes\", \"Gorilla gorilla\"]\n",
    "#               0            1                 2\n",
    "#               -3           -2               -1\n",
    "print(apes[-2])\n",
    "print(apes[-2:])\n",
    "print(apes[0:-1])"
   ]
  },
  {
   "cell_type": "code",
   "execution_count": 32,
   "id": "a44244dc-c0a7-469e-88a1-2afb8b5be914",
   "metadata": {},
   "outputs": [
    {
     "name": "stdout",
     "output_type": "stream",
     "text": [
      "['Homo sapiens', 'Pan troglodytes', 'Gorilla gorilla', 'Pan paniscus']\n"
     ]
    }
   ],
   "source": [
    "# lists are mutable\n",
    "# if we do something to a list, the list changes\n",
    "apes = [\"Homo sapiens\", \"Pan troglodytes\", \"Gorilla gorilla\"]\n",
    "apes.append(\"Pan paniscus\")\n",
    "print(apes)"
   ]
  },
  {
   "cell_type": "code",
   "execution_count": 36,
   "id": "ef974416-5c63-40e7-987c-8989312be28c",
   "metadata": {},
   "outputs": [
    {
     "name": "stdout",
     "output_type": "stream",
     "text": [
      "Pete\n",
      "Pete\n",
      "PETE\n"
     ]
    }
   ],
   "source": [
    "# strings are immutable\n",
    "# if we do something to a string, the original string doesn't change\n",
    "my_name = \"Pete\"\n",
    "my_name + \"r\"\n",
    "print(my_name)\n",
    "result = my_name.upper()\n",
    "print(my_name)\n",
    "print(result)"
   ]
  },
  {
   "cell_type": "code",
   "execution_count": 33,
   "id": "cc15d70e-0d12-4958-bf24-60a82e7bb4c2",
   "metadata": {},
   "outputs": [
    {
     "name": "stdout",
     "output_type": "stream",
     "text": [
      "None\n"
     ]
    }
   ],
   "source": [
    "apes = [\"Homo sapiens\", \"Pan troglodytes\", \"Gorilla gorilla\"]\n",
    "result = apes.append(\"Pan paniscus\")\n",
    "print(result)"
   ]
  },
  {
   "cell_type": "code",
   "execution_count": 34,
   "id": "2a25f90e-7762-4c8c-8245-3e037ca2a27d",
   "metadata": {},
   "outputs": [
    {
     "name": "stdout",
     "output_type": "stream",
     "text": [
      "None\n"
     ]
    }
   ],
   "source": [
    "apes = [\"Homo sapiens\", \"Pan troglodytes\", \"Gorilla gorilla\"]\n",
    "apes = apes.append(\"Pan paniscus\")\n",
    "print(apes)"
   ]
  },
  {
   "cell_type": "code",
   "execution_count": 37,
   "id": "3c678862-ee3c-4110-827f-fdecfd5d006c",
   "metadata": {},
   "outputs": [
    {
     "name": "stdout",
     "output_type": "stream",
     "text": [
      "['Homo sapiens', 'Pan troglodytes', 'Gorilla gorilla', 'Papio ursinus', 'Macaca mulatta']\n"
     ]
    }
   ],
   "source": [
    "apes = [\"Homo sapiens\", \"Pan troglodytes\", \"Gorilla gorilla\"]\n",
    "monkeys = [\"Papio ursinus\", \"Macaca mulatta\"]\n",
    "primates = apes + monkeys\n",
    "print(primates)"
   ]
  },
  {
   "cell_type": "code",
   "execution_count": 38,
   "id": "6b9e97d4-edf6-406f-b86c-33eea8c4ba99",
   "metadata": {},
   "outputs": [
    {
     "ename": "TypeError",
     "evalue": "can only concatenate list (not \"str\") to list",
     "output_type": "error",
     "traceback": [
      "\u001b[0;31m---------------------------------------------------------------------------\u001b[0m",
      "\u001b[0;31mTypeError\u001b[0m                                 Traceback (most recent call last)",
      "\u001b[0;32m/tmp/ipykernel_542886/4099572186.py\u001b[0m in \u001b[0;36m<module>\u001b[0;34m\u001b[0m\n\u001b[1;32m      1\u001b[0m \u001b[0mapes\u001b[0m \u001b[0;34m=\u001b[0m \u001b[0;34m[\u001b[0m\u001b[0;34m\"Homo sapiens\"\u001b[0m\u001b[0;34m]\u001b[0m\u001b[0;34m\u001b[0m\u001b[0;34m\u001b[0m\u001b[0m\n\u001b[0;32m----> 2\u001b[0;31m \u001b[0mmore_apes\u001b[0m \u001b[0;34m=\u001b[0m \u001b[0mapes\u001b[0m \u001b[0;34m+\u001b[0m \u001b[0;34m\"Pan troglodytes\"\u001b[0m\u001b[0;34m\u001b[0m\u001b[0;34m\u001b[0m\u001b[0m\n\u001b[0m\u001b[1;32m      3\u001b[0m \u001b[0mprint\u001b[0m\u001b[0;34m(\u001b[0m\u001b[0mmore_apes\u001b[0m\u001b[0;34m)\u001b[0m\u001b[0;34m\u001b[0m\u001b[0;34m\u001b[0m\u001b[0m\n",
      "\u001b[0;31mTypeError\u001b[0m: can only concatenate list (not \"str\") to list"
     ]
    }
   ],
   "source": [
    "apes = [\"Homo sapiens\"]\n",
    "more_apes = apes + \"Pan troglodytes\"\n",
    "print(more_apes)"
   ]
  },
  {
   "cell_type": "code",
   "execution_count": 40,
   "id": "cecd5ea2-09f5-4aed-85bf-289d91427268",
   "metadata": {},
   "outputs": [
    {
     "name": "stdout",
     "output_type": "stream",
     "text": [
      "['Homo sapiens', 'Pan troglodytes']\n"
     ]
    }
   ],
   "source": [
    "apes = [\"Homo sapiens\"]\n",
    "apes.append(\"Pan troglodytes\")\n",
    "print(apes)"
   ]
  },
  {
   "cell_type": "code",
   "execution_count": 43,
   "id": "3dfe1177-5afc-4e61-8692-f733cfc869e9",
   "metadata": {},
   "outputs": [
    {
     "name": "stdout",
     "output_type": "stream",
     "text": [
      "['Homo sapiens', 'Pan troglodytes']\n"
     ]
    }
   ],
   "source": [
    "# when I am adding I must add a list\n",
    "apes = [\"Homo sapiens\"]\n",
    "more_apes = apes + [\"Pan troglodytes\"]\n",
    "print(more_apes)"
   ]
  },
  {
   "cell_type": "code",
   "execution_count": 44,
   "id": "2d3f7fa9-6fe1-40af-bae1-b074532565fc",
   "metadata": {},
   "outputs": [
    {
     "name": "stdout",
     "output_type": "stream",
     "text": [
      "['Homo sapiens', ['Pan troglodytes']]\n"
     ]
    }
   ],
   "source": [
    "# when I am appending I must append a value\n",
    "apes = [\"Homo sapiens\"]\n",
    "apes.append([\"Pan troglodytes\"])\n",
    "print(apes)"
   ]
  },
  {
   "cell_type": "code",
   "execution_count": 45,
   "id": "9da26800-9b08-438c-aa63-d8c9e06fe262",
   "metadata": {},
   "outputs": [
    {
     "name": "stdout",
     "output_type": "stream",
     "text": [
      "['kingdom', 'phylum', 'class', 'order', 'family']\n",
      "['family', 'order', 'class', 'phylum', 'kingdom']\n"
     ]
    }
   ],
   "source": [
    "ranks = [\"kingdom\", \"phylum\", \"class\", \"order\", \"family\"]\n",
    "print(ranks)\n",
    "ranks.reverse()\n",
    "print(ranks)"
   ]
  },
  {
   "cell_type": "code",
   "execution_count": 46,
   "id": "a18dd2fe-5057-449b-98eb-f8f6cdffc10e",
   "metadata": {},
   "outputs": [
    {
     "name": "stdout",
     "output_type": "stream",
     "text": [
      "['kingdom', 'phylum', 'class', 'order', 'family']\n",
      "['class', 'family', 'kingdom', 'order', 'phylum']\n"
     ]
    }
   ],
   "source": [
    "ranks = [\"kingdom\", \"phylum\", \"class\", \"order\", \"family\"]\n",
    "print(ranks)\n",
    "ranks.sort()\n",
    "print(ranks)"
   ]
  },
  {
   "cell_type": "code",
   "execution_count": 47,
   "id": "7c49e4e8-4d9b-4a43-a641-12a48a9f0235",
   "metadata": {},
   "outputs": [
    {
     "name": "stdout",
     "output_type": "stream",
     "text": [
      "[1, 2, 3, 4, 7]\n"
     ]
    }
   ],
   "source": [
    "numbers = [1, 4, 3, 2, 7]\n",
    "numbers.sort()\n",
    "print(numbers)"
   ]
  },
  {
   "cell_type": "code",
   "execution_count": 48,
   "id": "5c42f5eb-60d8-4f04-8fb5-96a8dd6f71fc",
   "metadata": {},
   "outputs": [
    {
     "name": "stdout",
     "output_type": "stream",
     "text": [
      "['1', '10', '15', '3', '7']\n"
     ]
    }
   ],
   "source": [
    "# number strings are sorted in aphabetic order\n",
    "numbers = [\"1\", \"7\", \"10\", \"15\", \"3\"]\n",
    "numbers.sort()\n",
    "print(numbers)"
   ]
  },
  {
   "cell_type": "code",
   "execution_count": 49,
   "id": "2764a847-b675-4731-ae41-48d7141eec47",
   "metadata": {},
   "outputs": [
    {
     "name": "stdout",
     "output_type": "stream",
     "text": [
      "[7, 4, 3, 2, 1]\n"
     ]
    }
   ],
   "source": [
    "numbers = [1, 4, 3, 2, 7]\n",
    "numbers.sort(reverse=True)\n",
    "print(numbers)"
   ]
  },
  {
   "cell_type": "code",
   "execution_count": 50,
   "id": "7a0c53b6-358a-4dd9-a098-9fece5939a0a",
   "metadata": {},
   "outputs": [
    {
     "name": "stdout",
     "output_type": "stream",
     "text": [
      "[1, 2, 3, 4, 5, 7, 12, 13, 27]\n",
      "27\n"
     ]
    }
   ],
   "source": [
    "numbers = [1, 4, 3, 2, 7, 5, 27, 13, 12]\n",
    "numbers.sort()\n",
    "print(numbers)\n",
    "biggest_number = numbers[-1]\n",
    "print(biggest_number)"
   ]
  },
  {
   "cell_type": "code",
   "execution_count": 51,
   "id": "82c60509-b345-4100-bc45-8bd194199967",
   "metadata": {},
   "outputs": [
    {
     "name": "stdout",
     "output_type": "stream",
     "text": [
      "[27, 13, 12, 7, 5, 4, 3, 2, 1]\n",
      "27\n"
     ]
    }
   ],
   "source": [
    "numbers = [1, 4, 3, 2, 7, 5, 27, 13, 12]\n",
    "numbers.sort(reverse=True)\n",
    "print(numbers)\n",
    "biggest_number = numbers[0]\n",
    "print(biggest_number)"
   ]
  },
  {
   "cell_type": "code",
   "execution_count": 53,
   "id": "23754fdf-b175-4887-9297-8c20a24c0335",
   "metadata": {},
   "outputs": [
    {
     "name": "stdout",
     "output_type": "stream",
     "text": [
      "[27, 13, 12, 7, 5, 4, 3, 2, 1]\n",
      "27\n"
     ]
    }
   ],
   "source": [
    "numbers = [1, 4, 3, 2, 7, 5, 27, 13, 12]\n",
    "numbers.sort()\n",
    "numbers.reverse()\n",
    "print(numbers)\n",
    "biggest_number = numbers[0]\n",
    "print(biggest_number)"
   ]
  },
  {
   "cell_type": "markdown",
   "id": "0e7c1181-2d60-4545-b2f6-ce8efeda933e",
   "metadata": {},
   "source": [
    "### Loops"
   ]
  },
  {
   "cell_type": "code",
   "execution_count": 56,
   "id": "82ce0c4f-da08-4eb2-bfd5-c745a31b2552",
   "metadata": {},
   "outputs": [
    {
     "name": "stdout",
     "output_type": "stream",
     "text": [
      "Homo sapiens is an ape\n",
      "Pan troglodytes is an ape\n",
      "Gorilla gorilla is an ape\n"
     ]
    },
    {
     "ename": "IndexError",
     "evalue": "list index out of range",
     "output_type": "error",
     "traceback": [
      "\u001b[0;31m---------------------------------------------------------------------------\u001b[0m",
      "\u001b[0;31mIndexError\u001b[0m                                Traceback (most recent call last)",
      "\u001b[0;32m/tmp/ipykernel_542886/115877295.py\u001b[0m in \u001b[0;36m<module>\u001b[0;34m\u001b[0m\n\u001b[1;32m      3\u001b[0m \u001b[0mprint\u001b[0m\u001b[0;34m(\u001b[0m\u001b[0mapes\u001b[0m\u001b[0;34m[\u001b[0m\u001b[0;36m1\u001b[0m\u001b[0;34m]\u001b[0m \u001b[0;34m+\u001b[0m \u001b[0;34m\" is an ape\"\u001b[0m\u001b[0;34m)\u001b[0m\u001b[0;34m\u001b[0m\u001b[0;34m\u001b[0m\u001b[0m\n\u001b[1;32m      4\u001b[0m \u001b[0mprint\u001b[0m\u001b[0;34m(\u001b[0m\u001b[0mapes\u001b[0m\u001b[0;34m[\u001b[0m\u001b[0;36m2\u001b[0m\u001b[0;34m]\u001b[0m \u001b[0;34m+\u001b[0m \u001b[0;34m\" is an ape\"\u001b[0m\u001b[0;34m)\u001b[0m\u001b[0;34m\u001b[0m\u001b[0;34m\u001b[0m\u001b[0m\n\u001b[0;32m----> 5\u001b[0;31m \u001b[0mprint\u001b[0m\u001b[0;34m(\u001b[0m\u001b[0mapes\u001b[0m\u001b[0;34m[\u001b[0m\u001b[0;36m3\u001b[0m\u001b[0;34m]\u001b[0m \u001b[0;34m+\u001b[0m \u001b[0;34m\" is an ape\"\u001b[0m\u001b[0;34m)\u001b[0m\u001b[0;34m\u001b[0m\u001b[0;34m\u001b[0m\u001b[0m\n\u001b[0m",
      "\u001b[0;31mIndexError\u001b[0m: list index out of range"
     ]
    }
   ],
   "source": [
    "apes = [\"Homo sapiens\", \"Pan troglodytes\", \"Gorilla gorilla\"]\n",
    "print(apes[0] + \" is an ape\")\n",
    "print(apes[1] + \" is an ape\")\n",
    "print(apes[2] + \" is an ape\")\n",
    "print(apes[3] + \" is an ape\")"
   ]
  },
  {
   "cell_type": "code",
   "execution_count": 57,
   "id": "d40bc929-8a8b-4110-a39d-da023c32e75f",
   "metadata": {},
   "outputs": [
    {
     "name": "stdout",
     "output_type": "stream",
     "text": [
      "Homo sapiensis an ape\n",
      "Pan troglodytesis an ape\n",
      "Gorilla gorillais an ape\n"
     ]
    }
   ],
   "source": [
    "apes = [\"Homo sapiens\", \"Pan troglodytes\", \"Gorilla gorilla\"]\n",
    "for ape in apes:\n",
    "    print(ape + \"is an ape\")"
   ]
  },
  {
   "cell_type": "code",
   "execution_count": 59,
   "id": "d5ffeea0-4204-4876-ba1c-6eec5c022620",
   "metadata": {},
   "outputs": [
    {
     "name": "stdout",
     "output_type": "stream",
     "text": [
      "Homo sapiens is an ape\n",
      "apes are fun\n",
      "Pan troglodytes is an ape\n",
      "apes are fun\n",
      "Gorilla gorilla is an ape\n",
      "apes are fun\n"
     ]
    }
   ],
   "source": [
    "# for LOOP_VARIABLE in SEQUENCE:\n",
    "#     do something\n",
    "for var in apes:\n",
    " print(var + \" is an ape\")\n",
    " print(\"apes are fun\")"
   ]
  },
  {
   "cell_type": "code",
   "execution_count": 60,
   "id": "e5ab81e9-fd52-4081-b710-adc4b54f5ded",
   "metadata": {},
   "outputs": [
    {
     "ename": "IndentationError",
     "evalue": "unexpected indent (1800601841.py, line 5)",
     "output_type": "error",
     "traceback": [
      "\u001b[0;36m  File \u001b[0;32m\"/tmp/ipykernel_542886/1800601841.py\"\u001b[0;36m, line \u001b[0;32m5\u001b[0m\n\u001b[0;31m    print(\"apes are fun\")\u001b[0m\n\u001b[0m    ^\u001b[0m\n\u001b[0;31mIndentationError\u001b[0m\u001b[0;31m:\u001b[0m unexpected indent\n"
     ]
    }
   ],
   "source": [
    "# for LOOP_VARIABLE in SEQUENCE:\n",
    "#     do something\n",
    "for var in apes:\n",
    " print(var + \" is an ape\")\n",
    "     print(\"apes are fun\")"
   ]
  },
  {
   "cell_type": "code",
   "execution_count": 61,
   "id": "62566ed1-980e-41b0-8bd3-791a570a283a",
   "metadata": {},
   "outputs": [
    {
     "name": "stdout",
     "output_type": "stream",
     "text": [
      "Homo sapiens is an ape\n",
      "Pan troglodytes is an ape\n",
      "Gorilla gorilla is an ape\n"
     ]
    }
   ],
   "source": [
    "apes = [\"Homo sapiens\", \"Pan troglodytes\", \"Gorilla gorilla\"]\n",
    "for ape in apes:\n",
    "    print(ape, \"is an ape\")"
   ]
  },
  {
   "cell_type": "code",
   "execution_count": 66,
   "id": "ce23f38f-a20f-4414-817e-0677dfdc72ed",
   "metadata": {},
   "outputs": [
    {
     "name": "stdout",
     "output_type": "stream",
     "text": [
      "Homo sapiens is an ape. Its name starts with H\n",
      "Its name has 12 letters\n",
      "\n",
      "Pan troglodytes is an ape. Its name starts with P\n",
      "Its name has 15 letters\n",
      "\n",
      "Gorilla gorilla is an ape. Its name starts with G\n",
      "Its name has 15 letters\n",
      "\n",
      "end of the loop\n"
     ]
    }
   ],
   "source": [
    "# one line by itself is a simple statement\n",
    "apes = [\"Homo sapiens\", \"Pan troglodytes\", \"Gorilla gorilla\"]\n",
    "# a loop is a kind of compound statement\n",
    "for ape in apes:\n",
    "    # inside the loop body\n",
    "    name_length = len(ape)\n",
    "    first_letter = ape[0]\n",
    "    print(ape, \"is an ape. Its name starts with\", first_letter)\n",
    "    # print with multiple parameters converts each parameter to a string\n",
    "    print(\"Its name has\", name_length, \"letters\")\n",
    "    print()\n",
    "# outside the loop body\n",
    "print(\"end of the loop\")"
   ]
  },
  {
   "cell_type": "code",
   "execution_count": 69,
   "id": "6075e18b-1197-4892-aa0a-fd844f436577",
   "metadata": {},
   "outputs": [
    {
     "name": "stdout",
     "output_type": "stream",
     "text": [
      "one character is: m\n",
      "one character is: a\n",
      "one character is: r\n",
      "one character is: t\n",
      "one character is: i\n",
      "one character is: n\n"
     ]
    }
   ],
   "source": [
    "name = \"martin\"\n",
    "for character in name:\n",
    "    print(\"one character is:\", character)\n",
    "# sequence types like loops and strings are iterable"
   ]
  },
  {
   "cell_type": "code",
   "execution_count": 68,
   "id": "4da79b46-2385-42b8-b89e-22a5b8d12f4e",
   "metadata": {},
   "outputs": [
    {
     "name": "stdout",
     "output_type": "stream",
     "text": [
      "m\n"
     ]
    }
   ],
   "source": [
    "name = \"martin\"\n",
    "print(name[0])"
   ]
  },
  {
   "cell_type": "code",
   "execution_count": 76,
   "id": "310198fe-a7eb-4155-9a1b-5b2a76bbfacf",
   "metadata": {},
   "outputs": [
    {
     "name": "stdout",
     "output_type": "stream",
     "text": [
      "['melanogaster', 'simulans', 'yakuba', 'ananassae']\n",
      "melanogaster\n",
      "simulans\n",
      "yakuba\n",
      "ananassae\n"
     ]
    }
   ],
   "source": [
    "# from string to list\n",
    "names = \"melanogaster,simulans,yakuba,ananassae\"\n",
    "species = names.split(\",\")\n",
    "print(species)\n",
    "for sp in species:\n",
    "    print(sp)"
   ]
  },
  {
   "cell_type": "code",
   "execution_count": 77,
   "id": "c392082e-2577-4777-b441-3f6366cb0e4b",
   "metadata": {},
   "outputs": [
    {
     "name": "stdout",
     "output_type": "stream",
     "text": [
      "peter,paul,mary\n"
     ]
    },
    {
     "data": {
      "text/plain": [
       "'peter,paul,mary'"
      ]
     },
     "execution_count": 77,
     "metadata": {},
     "output_type": "execute_result"
    }
   ],
   "source": [
    "# join a list together to make a string\n",
    "names = [\"peter\", \"paul\", \"mary\"]\n",
    "join_with = \",\"\n",
    "# join is a string method\n",
    "# it takes a string and then joins the elements of the list using that string\n",
    "joined = join_with.join(names)\n",
    "print(joined)\n",
    "joined"
   ]
  },
  {
   "cell_type": "code",
   "execution_count": 75,
   "id": "7ed4671f-1b2c-4f15-9afb-c10fda523fbe",
   "metadata": {},
   "outputs": [
    {
     "ename": "AttributeError",
     "evalue": "'list' object has no attribute 'join'",
     "output_type": "error",
     "traceback": [
      "\u001b[0;31m---------------------------------------------------------------------------\u001b[0m",
      "\u001b[0;31mAttributeError\u001b[0m                            Traceback (most recent call last)",
      "\u001b[0;32m/tmp/ipykernel_542886/3559753971.py\u001b[0m in \u001b[0;36m<module>\u001b[0;34m\u001b[0m\n\u001b[1;32m      1\u001b[0m \u001b[0mnames\u001b[0m \u001b[0;34m=\u001b[0m \u001b[0;34m[\u001b[0m\u001b[0;34m\"peter\"\u001b[0m\u001b[0;34m,\u001b[0m \u001b[0;34m\"paul\"\u001b[0m\u001b[0;34m,\u001b[0m \u001b[0;34m\"mary\"\u001b[0m\u001b[0;34m]\u001b[0m\u001b[0;34m\u001b[0m\u001b[0;34m\u001b[0m\u001b[0m\n\u001b[0;32m----> 2\u001b[0;31m \u001b[0mnames\u001b[0m\u001b[0;34m.\u001b[0m\u001b[0mjoin\u001b[0m\u001b[0;34m(\u001b[0m\u001b[0;34m\",\"\u001b[0m\u001b[0;34m)\u001b[0m\u001b[0;34m\u001b[0m\u001b[0;34m\u001b[0m\u001b[0m\n\u001b[0m",
      "\u001b[0;31mAttributeError\u001b[0m: 'list' object has no attribute 'join'"
     ]
    }
   ],
   "source": [
    "# join is not a list method\n",
    "names = [\"peter\", \"paul\", \"mary\"]\n",
    "names.join(\",\")"
   ]
  },
  {
   "cell_type": "markdown",
   "id": "fb0cf981-858b-44d1-8883-e9327481a9a3",
   "metadata": {},
   "source": [
    "## Iterating over lines in a file"
   ]
  },
  {
   "cell_type": "code",
   "execution_count": 79,
   "id": "843ce5b8-e403-472f-b38f-cbfaa9de8aff",
   "metadata": {},
   "outputs": [
    {
     "name": "stdout",
     "output_type": "stream",
     "text": [
      "ACTGATCGATTACGTATAGTAG\n",
      "AATTCTATCATACATATATATCGATGCGTTCAT\n"
     ]
    }
   ],
   "source": [
    "input_file = open(\"mydna.txt\")\n",
    "for line in input_file:\n",
    "    print(line.rstrip(\"\\n\"))"
   ]
  },
  {
   "cell_type": "code",
   "execution_count": 82,
   "id": "be4d5e86-8751-40f2-a827-50110a28d255",
   "metadata": {},
   "outputs": [
    {
     "name": "stdout",
     "output_type": "stream",
     "text": [
      "ACTGATCGATTACGTATAGTAG\n",
      "22\n",
      "AATTCTATCATACATATATATCGATGCGTTCAT\n",
      "33\n"
     ]
    }
   ],
   "source": [
    "input_file = open(\"mydna.txt\")\n",
    "for line in input_file:\n",
    "    # replace line variable with the line with end of line (and other whitespace) removed\n",
    "    line = line.rstrip()\n",
    "    print(line)\n",
    "    print(len(line))"
   ]
  },
  {
   "cell_type": "code",
   "execution_count": 83,
   "id": "48299743-335b-4f16-99fd-3a9950d18112",
   "metadata": {},
   "outputs": [
    {
     "name": "stdout",
     "output_type": "stream",
     "text": [
      "ACTGATCGATTACGTATAGTAG\n",
      "22\n",
      "AATTCTATCATACATATATATCGATGCGTTCAT\n",
      "33\n"
     ]
    }
   ],
   "source": [
    "input_file = open(\"mydna.txt\")\n",
    "for line in input_file:\n",
    "    # replace line variable with the line with end of line (and other whitespace) removed\n",
    "    dna = line.rstrip()\n",
    "    print(dna)\n",
    "    print(len(dna))"
   ]
  },
  {
   "cell_type": "markdown",
   "id": "0b6dcd40-ce8c-463d-8376-46893b9b9c7f",
   "metadata": {},
   "source": [
    "### Using ranges to iterate"
   ]
  },
  {
   "cell_type": "code",
   "execution_count": 84,
   "id": "a7945c00-b5d3-4328-8a77-8e67bb8e7d8e",
   "metadata": {},
   "outputs": [
    {
     "name": "stdout",
     "output_type": "stream",
     "text": [
      "v\n",
      "l\n",
      "s\n",
      "p\n"
     ]
    }
   ],
   "source": [
    "protein = \"vlspadktnv\"\n",
    "#          0123456789\n",
    "protein_part = protein[:4]\n",
    "for amino_acid in protein_part:\n",
    "    print(amino_acid)"
   ]
  },
  {
   "cell_type": "code",
   "execution_count": 85,
   "id": "c46bb8d6-6b60-47ae-bea3-23c30284b2b0",
   "metadata": {},
   "outputs": [
    {
     "name": "stdout",
     "output_type": "stream",
     "text": [
      "vlsp\n",
      "vlspa\n",
      "vlspad\n"
     ]
    }
   ],
   "source": [
    "protein = \"vlspadktnv\"\n",
    "protein_part1 = protein[:4]\n",
    "protein_part2 = protein[:5]\n",
    "protein_part3 = protein[:6]\n",
    "parts = [protein_part1, protein_part2, protein_part3]\n",
    "for part in parts:\n",
    "    print(part)"
   ]
  },
  {
   "cell_type": "code",
   "execution_count": 86,
   "id": "fa343372-1331-41e5-8972-2af819f3af81",
   "metadata": {},
   "outputs": [
    {
     "name": "stdout",
     "output_type": "stream",
     "text": [
      "0\n",
      "1\n",
      "2\n",
      "3\n",
      "4\n"
     ]
    }
   ],
   "source": [
    "for number in range(5):\n",
    "    print(number)"
   ]
  },
  {
   "cell_type": "code",
   "execution_count": 87,
   "id": "676ab8de-5f8c-479f-a729-4cd116d8351d",
   "metadata": {},
   "outputs": [
    {
     "name": "stdout",
     "output_type": "stream",
     "text": [
      "range(0, 5)\n"
     ]
    }
   ],
   "source": [
    "print(range(5))"
   ]
  },
  {
   "cell_type": "code",
   "execution_count": 88,
   "id": "5053ae23-392b-4f38-8880-5070d9d345e2",
   "metadata": {},
   "outputs": [
    {
     "name": "stdout",
     "output_type": "stream",
     "text": [
      "3\n",
      "4\n"
     ]
    }
   ],
   "source": [
    "for number in range(3, 5):\n",
    "    print(number)"
   ]
  },
  {
   "cell_type": "code",
   "execution_count": 89,
   "id": "4922b938-867b-40fa-914f-444898bd336c",
   "metadata": {},
   "outputs": [
    {
     "name": "stdout",
     "output_type": "stream",
     "text": [
      "4\n",
      "5\n",
      "6\n"
     ]
    }
   ],
   "source": [
    "for number in range(4, 7):\n",
    "    print(number)"
   ]
  },
  {
   "cell_type": "code",
   "execution_count": 90,
   "id": "e4b9cdc9-3057-4593-b023-7af43449839b",
   "metadata": {},
   "outputs": [
    {
     "name": "stdout",
     "output_type": "stream",
     "text": [
      "vlsp\n",
      "vlspa\n",
      "vlspad\n"
     ]
    }
   ],
   "source": [
    "protein = \"vlspadktnv\"\n",
    "for num in range(4, 7):\n",
    "    protein_part = protein[:num]\n",
    "    print(protein_part)"
   ]
  },
  {
   "cell_type": "markdown",
   "id": "45e8d859-da65-483c-9ce6-61f4a513a8b6",
   "metadata": {},
   "source": [
    "#### Accumulator pattern"
   ]
  },
  {
   "cell_type": "code",
   "execution_count": 95,
   "id": "20d4823b-6efe-4e21-be02-2736b231d44a",
   "metadata": {},
   "outputs": [
    {
     "name": "stdout",
     "output_type": "stream",
     "text": [
      "number: 1\n",
      "number: 2\n",
      "number: 3\n",
      "6\n"
     ]
    }
   ],
   "source": [
    "# challenge: add the numbers from 1 to 3\n",
    "total = 0\n",
    "for num in range(1, 4):\n",
    "    print(\"number:\", num)\n",
    "    total = total + num\n",
    "print(total)"
   ]
  },
  {
   "cell_type": "code",
   "execution_count": 96,
   "id": "a703f7b8-6f3d-408c-bc77-1daeb34c3793",
   "metadata": {},
   "outputs": [
    {
     "name": "stdout",
     "output_type": "stream",
     "text": [
      "number: 1\n",
      "number: 2\n",
      "number: 3\n",
      "6\n"
     ]
    }
   ],
   "source": [
    "total = 0\n",
    "num = 1\n",
    "print(\"number:\", num)\n",
    "total = total + num\n",
    "num = 2\n",
    "print(\"number:\", num)\n",
    "total = total + num\n",
    "num = 3\n",
    "print(\"number:\", num)\n",
    "total = total + num\n",
    "print(total)"
   ]
  },
  {
   "cell_type": "code",
   "execution_count": 99,
   "id": "8a117309-7d6d-4860-802d-b83b367cab2a",
   "metadata": {},
   "outputs": [
    {
     "name": "stdout",
     "output_type": "stream",
     "text": [
      "number: 1\n",
      "number: 2\n",
      "number: 3\n",
      "total: 6\n"
     ]
    }
   ],
   "source": [
    "# challenge: multiply together the numbers from 1 to 3\n",
    "# multiply operator: *\n",
    "total = 1  # start off with the mathematical identity for this operation\n",
    "for num in range(1, 4):\n",
    "    print(\"number:\", num)\n",
    "    total = total * num\n",
    "print(\"total:\", total)"
   ]
  },
  {
   "cell_type": "code",
   "execution_count": 100,
   "id": "98dc9f18-62a9-460a-a82b-bca953df0181",
   "metadata": {},
   "outputs": [
    {
     "name": "stdout",
     "output_type": "stream",
     "text": [
      "number: 1\n",
      "number: 2\n",
      "number: 3\n",
      "number: 4\n",
      "number: 5\n",
      "number: 6\n",
      "number: 7\n",
      "number: 8\n",
      "number: 9\n",
      "number: 10\n",
      "total: 3628800\n"
     ]
    }
   ],
   "source": [
    "# challenge: multiply together the numbers from 1 to 10\n",
    "# multiply operator: *\n",
    "total = 1  # start off with the mathematical identity for this operation\n",
    "for num in range(1, 11):\n",
    "    print(\"number:\", num)\n",
    "    total = total * num\n",
    "print(\"total:\", total)"
   ]
  },
  {
   "cell_type": "code",
   "execution_count": 101,
   "id": "ee96abdd-9fe1-4f94-8f94-dcd5459d632f",
   "metadata": {},
   "outputs": [
    {
     "name": "stdout",
     "output_type": "stream",
     "text": [
      "number: 1\n",
      "number: 2\n",
      "number: 3\n",
      "number: 4\n",
      "number: 5\n",
      "number: 6\n",
      "number: 7\n",
      "number: 8\n",
      "number: 9\n",
      "number: 10\n",
      "number: 11\n",
      "number: 12\n",
      "number: 13\n",
      "number: 14\n",
      "number: 15\n",
      "number: 16\n",
      "number: 17\n",
      "number: 18\n",
      "number: 19\n",
      "number: 20\n",
      "number: 21\n",
      "number: 22\n",
      "number: 23\n",
      "number: 24\n",
      "number: 25\n",
      "number: 26\n",
      "number: 27\n",
      "number: 28\n",
      "number: 29\n",
      "number: 30\n",
      "number: 31\n",
      "number: 32\n",
      "number: 33\n",
      "number: 34\n",
      "number: 35\n",
      "number: 36\n",
      "number: 37\n",
      "number: 38\n",
      "number: 39\n",
      "number: 40\n",
      "number: 41\n",
      "number: 42\n",
      "number: 43\n",
      "number: 44\n",
      "number: 45\n",
      "number: 46\n",
      "number: 47\n",
      "number: 48\n",
      "number: 49\n",
      "number: 50\n",
      "number: 51\n",
      "number: 52\n",
      "number: 53\n",
      "number: 54\n",
      "number: 55\n",
      "number: 56\n",
      "number: 57\n",
      "number: 58\n",
      "number: 59\n",
      "number: 60\n",
      "number: 61\n",
      "number: 62\n",
      "number: 63\n",
      "number: 64\n",
      "number: 65\n",
      "number: 66\n",
      "number: 67\n",
      "number: 68\n",
      "number: 69\n",
      "number: 70\n",
      "number: 71\n",
      "number: 72\n",
      "number: 73\n",
      "number: 74\n",
      "number: 75\n",
      "number: 76\n",
      "number: 77\n",
      "number: 78\n",
      "number: 79\n",
      "number: 80\n",
      "number: 81\n",
      "number: 82\n",
      "number: 83\n",
      "number: 84\n",
      "number: 85\n",
      "number: 86\n",
      "number: 87\n",
      "number: 88\n",
      "number: 89\n",
      "number: 90\n",
      "number: 91\n",
      "number: 92\n",
      "number: 93\n",
      "number: 94\n",
      "number: 95\n",
      "number: 96\n",
      "number: 97\n",
      "number: 98\n",
      "number: 99\n",
      "number: 100\n",
      "total: 93326215443944152681699238856266700490715968264381621468592963895217599993229915608941463976156518286253697920827223758251185210916864000000000000000000000000\n"
     ]
    }
   ],
   "source": [
    "# challenge: multiply together the numbers from 1 to 100\n",
    "# multiply operator: *\n",
    "total = 1  # start off with the mathematical identity for this operation\n",
    "for num in range(1, 101):\n",
    "    print(\"number:\", num)\n",
    "    total = total * num\n",
    "print(\"total:\", total)"
   ]
  },
  {
   "cell_type": "markdown",
   "id": "7b635eff-0a46-40a2-b64e-b30bfbe5dd6d",
   "metadata": {},
   "source": [
    "letters = ['a', 'b', 'c', 'd', 'e']\n",
    "string = ''\n",
    "for letter in letters:\n",
    "    string = string + letter\n",
    "print(string)"
   ]
  },
  {
   "cell_type": "code",
   "execution_count": 104,
   "id": "ab26cbb8-0f38-41d6-955a-7b636ac42f6a",
   "metadata": {},
   "outputs": [
    {
     "name": "stdout",
     "output_type": "stream",
     "text": [
      "a|b|c|d|e|\n"
     ]
    }
   ],
   "source": [
    "letters = ['a', 'b', 'c', 'd', 'e']\n",
    "string = ''\n",
    "for letter in letters:\n",
    "    string = string + letter + '|'\n",
    "print(string)"
   ]
  },
  {
   "cell_type": "code",
   "execution_count": 105,
   "id": "27dd3220-0ea4-4eba-89bd-1a93e065a7ba",
   "metadata": {},
   "outputs": [
    {
     "name": "stdout",
     "output_type": "stream",
     "text": [
      "16\n"
     ]
    }
   ],
   "source": [
    "sequences = ['ACTG', 'AAATGGT', 'AGGTC']\n",
    "total_length = 0\n",
    "for sequence in sequences:\n",
    "    length = len(sequence)\n",
    "    total_length = total_length + length\n",
    "print(total_length)"
   ]
  },
  {
   "cell_type": "markdown",
   "id": "20e6a12b-c9aa-4516-8eae-8aa03ceed579",
   "metadata": {},
   "source": [
    "### Exercises"
   ]
  },
  {
   "cell_type": "code",
   "execution_count": 113,
   "id": "a48bdfde-6dd9-464b-a654-4dd402852151",
   "metadata": {},
   "outputs": [
    {
     "name": "stdout",
     "output_type": "stream",
     "text": [
      "ATGCCATGATC\n",
      "ACCTGATGAA\n",
      "ATTGAACGGACGATGG\n",
      "total length: 37\n"
     ]
    }
   ],
   "source": [
    "# read in the sequences from dna_strings.txt\n",
    "# and count the total length of sequences in dna_strings.txt\n",
    "input_file = open(\"dna_strings.txt\")\n",
    "total_length = 0\n",
    "for line in input_file:\n",
    "    sequence = line.rstrip(\"\\n\")\n",
    "    total_length = total_length + len(sequence)\n",
    "    print(sequence)\n",
    "print(\"total length:\", total_length)"
   ]
  },
  {
   "cell_type": "code",
   "execution_count": 116,
   "id": "6339194c-0a9a-4958-81ec-d8dc39cba44d",
   "metadata": {},
   "outputs": [
    {
     "name": "stdout",
     "output_type": "stream",
     "text": [
      "37\n"
     ]
    }
   ],
   "source": [
    "input_file = open(\"dna_strings.txt\")\n",
    "file_contents = input_file.read()\n",
    "without_end_of_lines = file_contents.replace('\\n', '')\n",
    "without_end_of_lines\n",
    "total_length = len(without_end_of_lines)\n",
    "print(total_length)"
   ]
  },
  {
   "cell_type": "markdown",
   "id": "443c565f-3c3f-4124-9c66-b6ccc99f39e0",
   "metadata": {},
   "source": [
    "#### Processing DNA in a file\n"
   ]
  },
  {
   "cell_type": "code",
   "execution_count": 117,
   "id": "dc225066-cb33-4078-b70d-02d2caa5f4a8",
   "metadata": {},
   "outputs": [],
   "source": [
    "# 1. Make a file with each line starting with the same sequence at the start\n",
    "# ACTAAAGTTGAACTAAGGA\n",
    "# ACTAAGTTAACGGT\n",
    "# ACTAAGGGACCAGGT\n",
    "# 2. Call this file dna_with_adapter.txt\n",
    "# 3. Read in the file and remove the adapter string (ACTAA) from each line\n",
    "# 4. Write the sequences without the adapter to a new file (dna_without_adapter.txt)\n",
    "# 5. print to the screen the length of each sequence without the adapter\n"
   ]
  },
  {
   "cell_type": "code",
   "execution_count": null,
   "id": "8b23a26c-82a8-4e8f-89e3-74ce64f68b32",
   "metadata": {},
   "outputs": [],
   "source": []
  }
 ],
 "metadata": {
  "kernelspec": {
   "display_name": "Python 3 (ipykernel)",
   "language": "python",
   "name": "python3"
  },
  "language_info": {
   "codemirror_mode": {
    "name": "ipython",
    "version": 3
   },
   "file_extension": ".py",
   "mimetype": "text/x-python",
   "name": "python",
   "nbconvert_exporter": "python",
   "pygments_lexer": "ipython3",
   "version": "3.9.7"
  }
 },
 "nbformat": 4,
 "nbformat_minor": 5
}
