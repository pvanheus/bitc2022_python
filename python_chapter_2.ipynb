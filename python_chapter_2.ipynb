{
 "cells": [
  {
   "cell_type": "markdown",
   "id": "52c0b9c0-2972-421d-b80d-f9587816e4b9",
   "metadata": {},
   "source": [
    "### Python for Biologists: Chapter 2 \n",
    "\n",
    "This is Chapter 2 from [Python for Biologists](http://userpages.fu-berlin.de/digga/p4b.pdf)"
   ]
  },
  {
   "cell_type": "code",
   "execution_count": 1,
   "id": "f807c30f-82f5-4474-97b2-d7906207e3ed",
   "metadata": {},
   "outputs": [
    {
     "name": "stdout",
     "output_type": "stream",
     "text": [
      "Hello World\n"
     ]
    }
   ],
   "source": [
    "print(\"Hello World\")"
   ]
  },
  {
   "cell_type": "code",
   "execution_count": 2,
   "id": "1e0d36f7-1ee3-415c-9fd4-1992679520e1",
   "metadata": {},
   "outputs": [
    {
     "data": {
      "text/plain": [
       "<function print>"
      ]
     },
     "execution_count": 2,
     "metadata": {},
     "output_type": "execute_result"
    }
   ],
   "source": [
    "print"
   ]
  },
  {
   "cell_type": "code",
   "execution_count": 3,
   "id": "4b5e0f59-259d-457a-9ab1-0c00e16f3c0d",
   "metadata": {},
   "outputs": [
    {
     "name": "stdout",
     "output_type": "stream",
     "text": [
      "\n"
     ]
    }
   ],
   "source": [
    "print()"
   ]
  },
  {
   "cell_type": "code",
   "execution_count": 4,
   "id": "b7fb6405-ac83-4ae3-a566-f30abeccb778",
   "metadata": {},
   "outputs": [
    {
     "name": "stdout",
     "output_type": "stream",
     "text": [
      "Hello World\n",
      "Hello World\n"
     ]
    }
   ],
   "source": [
    "print('Hello World')\n",
    "print(\"Hello World\")"
   ]
  },
  {
   "cell_type": "code",
   "execution_count": 5,
   "id": "ce7e61b0-36d0-4264-9b09-6632e3850ada",
   "metadata": {},
   "outputs": [
    {
     "name": "stdout",
     "output_type": "stream",
     "text": [
      "He said, 'Hello world'\n",
      "She said, \"Hello world\"\n"
     ]
    }
   ],
   "source": [
    "print(\"He said, 'Hello world'\")\n",
    "print('She said, \"Hello world\"')"
   ]
  },
  {
   "cell_type": "code",
   "execution_count": 6,
   "id": "4337e2fc-74ab-423e-a906-7e45df999935",
   "metadata": {},
   "outputs": [
    {
     "ename": "SyntaxError",
     "evalue": "EOL while scanning string literal (3285044097.py, line 1)",
     "output_type": "error",
     "traceback": [
      "\u001b[0;36m  File \u001b[0;32m\"/tmp/ipykernel_343362/3285044097.py\"\u001b[0;36m, line \u001b[0;32m1\u001b[0m\n\u001b[0;31m    print(\"Hello world')\u001b[0m\n\u001b[0m                        ^\u001b[0m\n\u001b[0;31mSyntaxError\u001b[0m\u001b[0;31m:\u001b[0m EOL while scanning string literal\n"
     ]
    }
   ],
   "source": [
    "print(\"Hello world')"
   ]
  },
  {
   "cell_type": "code",
   "execution_count": 7,
   "id": "c0f45e92-4f6d-46c6-87f1-ff66764fb7f3",
   "metadata": {},
   "outputs": [
    {
     "name": "stdout",
     "output_type": "stream",
     "text": [
      "Comments are useful\n",
      "Hello world\n"
     ]
    }
   ],
   "source": [
    "# this is a commnet, it will be ignored by the computer\n",
    "print(\"Comments are useful\")\n",
    "print(\"Hello world\") # print a friendly greeting"
   ]
  },
  {
   "cell_type": "code",
   "execution_count": 8,
   "id": "80a29a18-fda0-4819-b7e5-42586d6c840a",
   "metadata": {},
   "outputs": [
    {
     "ename": "SyntaxError",
     "evalue": "invalid syntax (3449611317.py, line 1)",
     "output_type": "error",
     "traceback": [
      "\u001b[0;36m  File \u001b[0;32m\"/tmp/ipykernel_343362/3449611317.py\"\u001b[0;36m, line \u001b[0;32m1\u001b[0m\n\u001b[0;31m    print(Hello world)\u001b[0m\n\u001b[0m                ^\u001b[0m\n\u001b[0;31mSyntaxError\u001b[0m\u001b[0;31m:\u001b[0m invalid syntax\n"
     ]
    }
   ],
   "source": [
    "print(Hello world)"
   ]
  },
  {
   "cell_type": "code",
   "execution_count": 9,
   "id": "19ff9a88-1886-4582-b2e7-e157b81eae76",
   "metadata": {},
   "outputs": [
    {
     "ename": "NameError",
     "evalue": "name 'prin' is not defined",
     "output_type": "error",
     "traceback": [
      "\u001b[0;31m---------------------------------------------------------------------------\u001b[0m",
      "\u001b[0;31mNameError\u001b[0m                                 Traceback (most recent call last)",
      "\u001b[0;32m/tmp/ipykernel_343362/1011031874.py\u001b[0m in \u001b[0;36m<module>\u001b[0;34m\u001b[0m\n\u001b[0;32m----> 1\u001b[0;31m \u001b[0mprin\u001b[0m\u001b[0;34m(\u001b[0m\u001b[0;34m\"Hello world\"\u001b[0m\u001b[0;34m)\u001b[0m\u001b[0;34m\u001b[0m\u001b[0;34m\u001b[0m\u001b[0m\n\u001b[0m",
      "\u001b[0;31mNameError\u001b[0m: name 'prin' is not defined"
     ]
    }
   ],
   "source": [
    "prin(\"Hello world\")"
   ]
  },
  {
   "cell_type": "code",
   "execution_count": 10,
   "id": "b2cc0f95-86be-4cd1-a0af-e778cf58f200",
   "metadata": {},
   "outputs": [
    {
     "ename": "SyntaxError",
     "evalue": "EOL while scanning string literal (3102223401.py, line 1)",
     "output_type": "error",
     "traceback": [
      "\u001b[0;36m  File \u001b[0;32m\"/tmp/ipykernel_343362/3102223401.py\"\u001b[0;36m, line \u001b[0;32m1\u001b[0m\n\u001b[0;31m    print(\"Hello\u001b[0m\n\u001b[0m                ^\u001b[0m\n\u001b[0;31mSyntaxError\u001b[0m\u001b[0;31m:\u001b[0m EOL while scanning string literal\n"
     ]
    }
   ],
   "source": [
    "print(\"Hello\n",
    "      World\")\n",
    "      "
   ]
  },
  {
   "cell_type": "code",
   "execution_count": 11,
   "id": "559676d9-3961-472a-8b08-a8464b349463",
   "metadata": {},
   "outputs": [
    {
     "name": "stdout",
     "output_type": "stream",
     "text": [
      "Hello\n",
      "World\n"
     ]
    }
   ],
   "source": [
    "# this is a backslash: \\\n",
    "print(\"Hello\\nWorld\")"
   ]
  },
  {
   "cell_type": "code",
   "execution_count": 13,
   "id": "8d4fb993-593b-4f37-ac2f-677b173a331d",
   "metadata": {},
   "outputs": [
    {
     "name": "stdout",
     "output_type": "stream",
     "text": [
      "one\ttwo\n",
      "three\tfour\n"
     ]
    }
   ],
   "source": [
    "# special characters:\n",
    "# \\n - newline\n",
    "# \\t - tab\n",
    "# \\\\ - a backlash\n",
    "print(\"one\\ttwo\")\n",
    "print(\"three\\tfour\")"
   ]
  },
  {
   "cell_type": "code",
   "execution_count": 15,
   "id": "3afed1d5-4b49-4383-8764-6341d934ad05",
   "metadata": {},
   "outputs": [
    {
     "ename": "SyntaxError",
     "evalue": "invalid syntax (3333434138.py, line 5)",
     "output_type": "error",
     "traceback": [
      "\u001b[0;36m  File \u001b[0;32m\"/tmp/ipykernel_343362/3333434138.py\"\u001b[0;36m, line \u001b[0;32m5\u001b[0m\n\u001b[0;31m    1mydna = \"ATGCGTA\" # warning: invalid variant name\u001b[0m\n\u001b[0m     ^\u001b[0m\n\u001b[0;31mSyntaxError\u001b[0m\u001b[0;31m:\u001b[0m invalid syntax\n"
     ]
    }
   ],
   "source": [
    "# store a short DNA sequence in the variable my_dna\n",
    "my_dna = \"ATGCGTA\"\n",
    "my_dna1 = \"ATGCGTA\"\n",
    "myDNA = \"ATGCGTA\"\n",
    "1mydna = \"ATGCGTA\" # warning: invalid variant name"
   ]
  },
  {
   "cell_type": "code",
   "execution_count": 16,
   "id": "c9a4bdea-ee81-4958-853f-2f92b48210e5",
   "metadata": {},
   "outputs": [
    {
     "name": "stdout",
     "output_type": "stream",
     "text": [
      "ATGCGTA\n"
     ]
    }
   ],
   "source": [
    "print(my_dna)"
   ]
  },
  {
   "cell_type": "code",
   "execution_count": 17,
   "id": "7f083083-d1a9-4810-aea6-2cd3585c01c7",
   "metadata": {},
   "outputs": [
    {
     "ename": "NameError",
     "evalue": "name 'my_dna2' is not defined",
     "output_type": "error",
     "traceback": [
      "\u001b[0;31m---------------------------------------------------------------------------\u001b[0m",
      "\u001b[0;31mNameError\u001b[0m                                 Traceback (most recent call last)",
      "\u001b[0;32m/tmp/ipykernel_343362/4284100065.py\u001b[0m in \u001b[0;36m<module>\u001b[0;34m\u001b[0m\n\u001b[0;32m----> 1\u001b[0;31m \u001b[0mprint\u001b[0m\u001b[0;34m(\u001b[0m\u001b[0mmy_dna2\u001b[0m\u001b[0;34m)\u001b[0m\u001b[0;34m\u001b[0m\u001b[0;34m\u001b[0m\u001b[0m\n\u001b[0m",
      "\u001b[0;31mNameError\u001b[0m: name 'my_dna2' is not defined"
     ]
    }
   ],
   "source": [
    "print(my_dna2)"
   ]
  },
  {
   "cell_type": "code",
   "execution_count": 18,
   "id": "1dd1657b-5061-4c20-9e34-a501fe0066ef",
   "metadata": {},
   "outputs": [
    {
     "ename": "NameError",
     "evalue": "name 'My_dna' is not defined",
     "output_type": "error",
     "traceback": [
      "\u001b[0;31m---------------------------------------------------------------------------\u001b[0m",
      "\u001b[0;31mNameError\u001b[0m                                 Traceback (most recent call last)",
      "\u001b[0;32m/tmp/ipykernel_343362/3320839353.py\u001b[0m in \u001b[0;36m<module>\u001b[0;34m\u001b[0m\n\u001b[0;32m----> 1\u001b[0;31m \u001b[0mprint\u001b[0m\u001b[0;34m(\u001b[0m\u001b[0mMy_dna\u001b[0m\u001b[0;34m)\u001b[0m\u001b[0;34m\u001b[0m\u001b[0;34m\u001b[0m\u001b[0m\n\u001b[0m",
      "\u001b[0;31mNameError\u001b[0m: name 'My_dna' is not defined"
     ]
    }
   ],
   "source": [
    "print(My_dna)"
   ]
  },
  {
   "cell_type": "code",
   "execution_count": 19,
   "id": "8d8201e2-5731-498d-ba3a-e56ae9f123fe",
   "metadata": {},
   "outputs": [
    {
     "name": "stdout",
     "output_type": "stream",
     "text": [
      "ATGCGTA\n"
     ]
    }
   ],
   "source": [
    "# store a short DNA sequence in the variable banana\n",
    "banana = \"ATGCGTA\"\n",
    "# new print the DNA sequence\n",
    "print(banana)"
   ]
  },
  {
   "cell_type": "code",
   "execution_count": 20,
   "id": "b52f4ee1-22c7-478e-87be-fe8730e9b8e0",
   "metadata": {},
   "outputs": [
    {
     "name": "stdout",
     "output_type": "stream",
     "text": [
      "my_dna\n"
     ]
    }
   ],
   "source": [
    "print(\"my_dna\")"
   ]
  },
  {
   "cell_type": "code",
   "execution_count": 21,
   "id": "bbc5a2f8-8ee9-42be-a92a-117fa049a77d",
   "metadata": {},
   "outputs": [
    {
     "name": "stdout",
     "output_type": "stream",
     "text": [
      "ATGCGTA\n"
     ]
    }
   ],
   "source": [
    "print(my_dna)"
   ]
  },
  {
   "cell_type": "code",
   "execution_count": 22,
   "id": "8f96722a-c453-4663-9e67-725950c6cf8c",
   "metadata": {},
   "outputs": [
    {
     "name": "stdout",
     "output_type": "stream",
     "text": [
      "ACTGACT\n"
     ]
    }
   ],
   "source": [
    "my_dna = \"ACTGACT\"\n",
    "print(my_dna)\n",
    "my_dna = \"GATACCA\""
   ]
  },
  {
   "cell_type": "code",
   "execution_count": 23,
   "id": "ea2b406e-1bb7-46a5-85f4-24806d5d0a34",
   "metadata": {},
   "outputs": [
    {
     "name": "stdout",
     "output_type": "stream",
     "text": [
      "GATACCA\n"
     ]
    }
   ],
   "source": [
    "print(my_dna)"
   ]
  },
  {
   "cell_type": "markdown",
   "id": "cec3d5b7-5bb0-4566-802a-056fa2e71f3a",
   "metadata": {},
   "source": [
    "### Manipulating strings\n"
   ]
  },
  {
   "cell_type": "code",
   "execution_count": 24,
   "id": "0036fc9f-19ec-4d41-88ff-f78329d79e5a",
   "metadata": {},
   "outputs": [
    {
     "name": "stdout",
     "output_type": "stream",
     "text": [
      "AATTGGCC\n"
     ]
    }
   ],
   "source": [
    "my_dna = \"AATT\" + \"GGCC\"\n",
    "print(my_dna)"
   ]
  },
  {
   "cell_type": "code",
   "execution_count": 25,
   "id": "7b29eba1-8e21-419f-92c5-6a022f7a1b7b",
   "metadata": {},
   "outputs": [
    {
     "name": "stdout",
     "output_type": "stream",
     "text": [
      "AAAATGC\n"
     ]
    }
   ],
   "source": [
    "upstream = \"AAA\"\n",
    "my_dna = upstream + \"ATGC\"\n",
    "print(my_dna)"
   ]
  },
  {
   "cell_type": "code",
   "execution_count": 26,
   "id": "b2695dfa-5ce9-4a2d-8948-8df860bef9ad",
   "metadata": {},
   "outputs": [
    {
     "name": "stdout",
     "output_type": "stream",
     "text": [
      "TCATCA\n"
     ]
    }
   ],
   "source": [
    "codon = \"TCA\"\n",
    "my_dna = codon + codon\n",
    "print(my_dna)"
   ]
  },
  {
   "cell_type": "code",
   "execution_count": 27,
   "id": "027f22f0-1885-48d7-885e-f6206429ceec",
   "metadata": {},
   "outputs": [
    {
     "name": "stdout",
     "output_type": "stream",
     "text": [
      "AAAATGCGGG\n"
     ]
    }
   ],
   "source": [
    "upstream = \"AAA\"\n",
    "downstream = \"GGG\"\n",
    "my_dna = upstream + \"ATGC\" + downstream\n",
    "print(my_dna)"
   ]
  },
  {
   "cell_type": "code",
   "execution_count": 28,
   "id": "f9267411-c89b-4053-aad1-9f22801afa0f",
   "metadata": {},
   "outputs": [
    {
     "name": "stdout",
     "output_type": "stream",
     "text": [
      "2\n"
     ]
    }
   ],
   "source": [
    "print(1 + 1)"
   ]
  },
  {
   "cell_type": "code",
   "execution_count": 29,
   "id": "7eafc2d8-aacf-4b51-872d-30e6caa294a4",
   "metadata": {},
   "outputs": [
    {
     "ename": "TypeError",
     "evalue": "can only concatenate str (not \"int\") to str",
     "output_type": "error",
     "traceback": [
      "\u001b[0;31m---------------------------------------------------------------------------\u001b[0m",
      "\u001b[0;31mTypeError\u001b[0m                                 Traceback (most recent call last)",
      "\u001b[0;32m/tmp/ipykernel_343362/1680818292.py\u001b[0m in \u001b[0;36m<module>\u001b[0;34m\u001b[0m\n\u001b[0;32m----> 1\u001b[0;31m \u001b[0mmy_dna\u001b[0m \u001b[0;34m=\u001b[0m \u001b[0;34m\"ACTG\"\u001b[0m \u001b[0;34m+\u001b[0m \u001b[0;36m2\u001b[0m\u001b[0;34m\u001b[0m\u001b[0;34m\u001b[0m\u001b[0m\n\u001b[0m\u001b[1;32m      2\u001b[0m \u001b[0mprint\u001b[0m\u001b[0;34m(\u001b[0m\u001b[0mmy_dna\u001b[0m\u001b[0;34m)\u001b[0m\u001b[0;34m\u001b[0m\u001b[0;34m\u001b[0m\u001b[0m\n",
      "\u001b[0;31mTypeError\u001b[0m: can only concatenate str (not \"int\") to str"
     ]
    }
   ],
   "source": [
    "my_dna = \"ACTG\" + 2\n",
    "print(my_dna)"
   ]
  },
  {
   "cell_type": "code",
   "execution_count": 30,
   "id": "9a7364aa-dafd-4c92-a55a-073d4aada49c",
   "metadata": {},
   "outputs": [
    {
     "name": "stdout",
     "output_type": "stream",
     "text": [
      "ACTG2\n"
     ]
    }
   ],
   "source": [
    "my_dna = \"ACTG\" + \"2\"\n",
    "print(my_dna)"
   ]
  },
  {
   "cell_type": "code",
   "execution_count": 31,
   "id": "981ab1db-997d-4f74-ad8a-54ff7b4ad9fe",
   "metadata": {},
   "outputs": [
    {
     "name": "stdout",
     "output_type": "stream",
     "text": [
      "4\n"
     ]
    }
   ],
   "source": [
    "dna_length = len(\"ATGC\")\n",
    "print(dna_length)"
   ]
  },
  {
   "cell_type": "code",
   "execution_count": 32,
   "id": "7ed84b69-ddee-4106-8fa0-ed189670dcb6",
   "metadata": {},
   "outputs": [
    {
     "data": {
      "text/plain": [
       "4"
      ]
     },
     "execution_count": 32,
     "metadata": {},
     "output_type": "execute_result"
    }
   ],
   "source": [
    "len(\"ATGC\")"
   ]
  },
  {
   "cell_type": "code",
   "execution_count": 33,
   "id": "ef1ff901-06c7-46e4-9664-6916f7f5f969",
   "metadata": {},
   "outputs": [
    {
     "ename": "TypeError",
     "evalue": "can only concatenate str (not \"int\") to str",
     "output_type": "error",
     "traceback": [
      "\u001b[0;31m---------------------------------------------------------------------------\u001b[0m",
      "\u001b[0;31mTypeError\u001b[0m                                 Traceback (most recent call last)",
      "\u001b[0;32m/tmp/ipykernel_343362/3527528705.py\u001b[0m in \u001b[0;36m<module>\u001b[0;34m\u001b[0m\n\u001b[1;32m      4\u001b[0m \u001b[0mdna_length\u001b[0m \u001b[0;34m=\u001b[0m \u001b[0mlen\u001b[0m\u001b[0;34m(\u001b[0m\u001b[0mmy_dna\u001b[0m\u001b[0;34m)\u001b[0m\u001b[0;34m\u001b[0m\u001b[0;34m\u001b[0m\u001b[0m\n\u001b[1;32m      5\u001b[0m \u001b[0;31m# print a message telling us the DNA sequence length\u001b[0m\u001b[0;34m\u001b[0m\u001b[0;34m\u001b[0m\u001b[0m\n\u001b[0;32m----> 6\u001b[0;31m \u001b[0mprint\u001b[0m\u001b[0;34m(\u001b[0m\u001b[0;34m\"The length of the DNA sequence is\"\u001b[0m \u001b[0;34m+\u001b[0m \u001b[0mdna_length\u001b[0m\u001b[0;34m)\u001b[0m\u001b[0;34m\u001b[0m\u001b[0;34m\u001b[0m\u001b[0m\n\u001b[0m",
      "\u001b[0;31mTypeError\u001b[0m: can only concatenate str (not \"int\") to str"
     ]
    }
   ],
   "source": [
    "# store the DNA sequence in a variable\n",
    "my_dna = \"ATGCGAGT\"\n",
    "# calculate the length of the sequence and store it in a variable\n",
    "dna_length = len(my_dna)\n",
    "# print a message telling us the DNA sequence length\n",
    "print(\"The length of the DNA sequence is\" + dna_length)"
   ]
  },
  {
   "cell_type": "code",
   "execution_count": 37,
   "id": "9e8843bb-71bc-4f8c-a58d-32772ff19baa",
   "metadata": {},
   "outputs": [
    {
     "name": "stdout",
     "output_type": "stream",
     "text": [
      "The length of the DNA sequence is dna_length\n"
     ]
    }
   ],
   "source": [
    "# store the DNA sequence in a variable\n",
    "my_dna = \"ATGCGAGT\"\n",
    "# calculate the length of the sequence and store it in a variable\n",
    "dna_length = len(my_dna)\n",
    "# print a message telling us the DNA sequence length\n",
    "print(\"The length of the DNA sequence is \" + \"dna_length\")"
   ]
  },
  {
   "cell_type": "code",
   "execution_count": 36,
   "id": "d50fc496-e97f-4057-97ff-95f467e216be",
   "metadata": {},
   "outputs": [
    {
     "name": "stdout",
     "output_type": "stream",
     "text": [
      "The length of the DNA sequence is 8\n"
     ]
    }
   ],
   "source": [
    "# store the DNA sequence in a variable\n",
    "my_dna = \"ATGCGAGT\"\n",
    "# calculate the length of the sequence and store it in a variable\n",
    "dna_length = len(my_dna)\n",
    "# print a message telling us the DNA sequence length\n",
    "print(\"The length of the DNA sequence is \" + str(dna_length))"
   ]
  },
  {
   "cell_type": "code",
   "execution_count": 38,
   "id": "617e437f-c62a-410b-93a1-5f2337579ea0",
   "metadata": {},
   "outputs": [
    {
     "ename": "TypeError",
     "evalue": "can only concatenate str (not \"int\") to str",
     "output_type": "error",
     "traceback": [
      "\u001b[0;31m---------------------------------------------------------------------------\u001b[0m",
      "\u001b[0;31mTypeError\u001b[0m                                 Traceback (most recent call last)",
      "\u001b[0;32m/tmp/ipykernel_343362/296736209.py\u001b[0m in \u001b[0;36m<module>\u001b[0;34m\u001b[0m\n\u001b[1;32m      1\u001b[0m \u001b[0mmy_number_str\u001b[0m \u001b[0;34m=\u001b[0m \u001b[0;34m\"1234\"\u001b[0m\u001b[0;34m\u001b[0m\u001b[0;34m\u001b[0m\u001b[0m\n\u001b[0;32m----> 2\u001b[0;31m \u001b[0mmy_total\u001b[0m \u001b[0;34m=\u001b[0m \u001b[0mmy_number_str\u001b[0m \u001b[0;34m+\u001b[0m \u001b[0;36m1\u001b[0m\u001b[0;34m\u001b[0m\u001b[0;34m\u001b[0m\u001b[0m\n\u001b[0m\u001b[1;32m      3\u001b[0m \u001b[0mprint\u001b[0m\u001b[0;34m(\u001b[0m\u001b[0mmy_total\u001b[0m\u001b[0;34m)\u001b[0m\u001b[0;34m\u001b[0m\u001b[0;34m\u001b[0m\u001b[0m\n",
      "\u001b[0;31mTypeError\u001b[0m: can only concatenate str (not \"int\") to str"
     ]
    }
   ],
   "source": [
    "my_number_str = \"1234\"\n",
    "my_total = my_number_str + 1\n",
    "print(my_total)"
   ]
  },
  {
   "cell_type": "code",
   "execution_count": 39,
   "id": "880e1548-6552-48a4-bf75-c86a7f14be26",
   "metadata": {},
   "outputs": [
    {
     "name": "stdout",
     "output_type": "stream",
     "text": [
      "1235\n"
     ]
    }
   ],
   "source": [
    "my_number_str = \"1234\"\n",
    "my_number = int(my_number_str)\n",
    "my_total = my_number + 1\n",
    "print(my_total)"
   ]
  },
  {
   "cell_type": "code",
   "execution_count": 40,
   "id": "6c439d2f-c296-4687-b10d-d7cba6b6d073",
   "metadata": {},
   "outputs": [
    {
     "ename": "ValueError",
     "evalue": "invalid literal for int() with base 10: 'hello'",
     "output_type": "error",
     "traceback": [
      "\u001b[0;31m---------------------------------------------------------------------------\u001b[0m",
      "\u001b[0;31mValueError\u001b[0m                                Traceback (most recent call last)",
      "\u001b[0;32m/tmp/ipykernel_343362/3952165420.py\u001b[0m in \u001b[0;36m<module>\u001b[0;34m\u001b[0m\n\u001b[0;32m----> 1\u001b[0;31m \u001b[0mint\u001b[0m\u001b[0;34m(\u001b[0m\u001b[0;34m\"hello\"\u001b[0m\u001b[0;34m)\u001b[0m\u001b[0;34m\u001b[0m\u001b[0;34m\u001b[0m\u001b[0m\n\u001b[0m",
      "\u001b[0;31mValueError\u001b[0m: invalid literal for int() with base 10: 'hello'"
     ]
    }
   ],
   "source": [
    "int(\"hello\")"
   ]
  },
  {
   "cell_type": "code",
   "execution_count": 41,
   "id": "d90c240d-5156-4bca-9f03-c2a2e4e13faa",
   "metadata": {},
   "outputs": [
    {
     "name": "stdout",
     "output_type": "stream",
     "text": [
      "atgc\n"
     ]
    }
   ],
   "source": [
    "my_dna = \"ATGC\"\n",
    "# print my_dna in lower case\n",
    "print(my_dna.lower())"
   ]
  },
  {
   "cell_type": "code",
   "execution_count": 42,
   "id": "eb0e9053-2cce-4197-ab49-06529a67aad8",
   "metadata": {},
   "outputs": [
    {
     "ename": "NameError",
     "evalue": "name 'lower' is not defined",
     "output_type": "error",
     "traceback": [
      "\u001b[0;31m---------------------------------------------------------------------------\u001b[0m",
      "\u001b[0;31mNameError\u001b[0m                                 Traceback (most recent call last)",
      "\u001b[0;32m/tmp/ipykernel_343362/2136988457.py\u001b[0m in \u001b[0;36m<module>\u001b[0;34m\u001b[0m\n\u001b[0;32m----> 1\u001b[0;31m \u001b[0mprint\u001b[0m\u001b[0;34m(\u001b[0m\u001b[0mlower\u001b[0m\u001b[0;34m(\u001b[0m\u001b[0mmy_dna\u001b[0m\u001b[0;34m)\u001b[0m\u001b[0;34m)\u001b[0m\u001b[0;34m\u001b[0m\u001b[0;34m\u001b[0m\u001b[0m\n\u001b[0m",
      "\u001b[0;31mNameError\u001b[0m: name 'lower' is not defined"
     ]
    }
   ],
   "source": [
    "print(lower(my_dna))"
   ]
  },
  {
   "cell_type": "code",
   "execution_count": 43,
   "id": "456fc651-5921-4a75-83c4-f9b046417a9e",
   "metadata": {},
   "outputs": [
    {
     "name": "stdout",
     "output_type": "stream",
     "text": [
      "ATGC\n"
     ]
    }
   ],
   "source": [
    "my_lc_dna = 'atgc'\n",
    "print(my_lc_dna.upper())"
   ]
  },
  {
   "cell_type": "code",
   "execution_count": 44,
   "id": "b454f057-1aed-41c9-836e-942822f28f10",
   "metadata": {},
   "outputs": [
    {
     "name": "stdout",
     "output_type": "stream",
     "text": [
      "ATGC\n"
     ]
    }
   ],
   "source": [
    "print('atgc'.upper())"
   ]
  },
  {
   "cell_type": "code",
   "execution_count": 46,
   "id": "0bf9aeef-f450-4411-b04d-921b9cb587bf",
   "metadata": {},
   "outputs": [
    {
     "ename": "SyntaxError",
     "evalue": "invalid syntax (1749335697.py, line 1)",
     "output_type": "error",
     "traceback": [
      "\u001b[0;36m  File \u001b[0;32m\"/tmp/ipykernel_343362/1749335697.py\"\u001b[0;36m, line \u001b[0;32m1\u001b[0m\n\u001b[0;31m    print(2.upper())\u001b[0m\n\u001b[0m            ^\u001b[0m\n\u001b[0;31mSyntaxError\u001b[0m\u001b[0;31m:\u001b[0m invalid syntax\n"
     ]
    }
   ],
   "source": [
    "print(2.upper())"
   ]
  },
  {
   "cell_type": "code",
   "execution_count": 48,
   "id": "3025ccc7-1186-4b4c-b420-c18ff360eab0",
   "metadata": {},
   "outputs": [
    {
     "ename": "AttributeError",
     "evalue": "'int' object has no attribute 'upper'",
     "output_type": "error",
     "traceback": [
      "\u001b[0;31m---------------------------------------------------------------------------\u001b[0m",
      "\u001b[0;31mAttributeError\u001b[0m                            Traceback (most recent call last)",
      "\u001b[0;32m/tmp/ipykernel_343362/1285186640.py\u001b[0m in \u001b[0;36m<module>\u001b[0;34m\u001b[0m\n\u001b[1;32m      1\u001b[0m \u001b[0mmy_num\u001b[0m \u001b[0;34m=\u001b[0m \u001b[0;36m2\u001b[0m\u001b[0;34m\u001b[0m\u001b[0;34m\u001b[0m\u001b[0m\n\u001b[0;32m----> 2\u001b[0;31m \u001b[0mprint\u001b[0m\u001b[0;34m(\u001b[0m\u001b[0mmy_num\u001b[0m\u001b[0;34m.\u001b[0m\u001b[0mupper\u001b[0m\u001b[0;34m(\u001b[0m\u001b[0;34m)\u001b[0m\u001b[0;34m)\u001b[0m\u001b[0;34m\u001b[0m\u001b[0;34m\u001b[0m\u001b[0m\n\u001b[0m",
      "\u001b[0;31mAttributeError\u001b[0m: 'int' object has no attribute 'upper'"
     ]
    }
   ],
   "source": [
    "my_num = 2\n",
    "print(my_num.upper())"
   ]
  },
  {
   "cell_type": "code",
   "execution_count": 49,
   "id": "165bb181-1da9-42d9-b87b-8d700954a7f5",
   "metadata": {},
   "outputs": [
    {
     "name": "stdout",
     "output_type": "stream",
     "text": [
      "CAFÉ\n"
     ]
    }
   ],
   "source": [
    "my_string = 'café'\n",
    "print(my_string.upper())"
   ]
  },
  {
   "cell_type": "code",
   "execution_count": 50,
   "id": "ba602dea-10a0-47ca-8d20-c4a594cd921b",
   "metadata": {},
   "outputs": [
    {
     "name": "stdout",
     "output_type": "stream",
     "text": [
      "before: ATGC\n",
      "after: ATGC\n"
     ]
    }
   ],
   "source": [
    "my_dna = \"ATGC\"\n",
    "print(\"before: \" + my_dna)\n",
    "lowercase_dna = my_dna.lower()\n",
    "print(\"after: \" + my_dna)"
   ]
  },
  {
   "cell_type": "code",
   "execution_count": 51,
   "id": "5a3f9782-3d50-401f-abb2-e2347071b14f",
   "metadata": {},
   "outputs": [
    {
     "name": "stdout",
     "output_type": "stream",
     "text": [
      "atgc\n"
     ]
    }
   ],
   "source": [
    "print(lowercase_dna)"
   ]
  },
  {
   "cell_type": "code",
   "execution_count": 52,
   "id": "edbeb455-5e81-48bf-94b8-78206281e5d9",
   "metadata": {},
   "outputs": [
    {
     "name": "stdout",
     "output_type": "stream",
     "text": [
      "Peter\n"
     ]
    }
   ],
   "source": [
    "print(\"peter\".capitalize())"
   ]
  },
  {
   "cell_type": "code",
   "execution_count": 53,
   "id": "ff2ab32f-5382-4070-8a5a-654c8cfa7a2e",
   "metadata": {},
   "outputs": [
    {
     "name": "stdout",
     "output_type": "stream",
     "text": [
      "<built-in method capitalize of str object at 0x7f7270542c70>\n"
     ]
    }
   ],
   "source": [
    "print(\"peter\".capitalize)"
   ]
  },
  {
   "cell_type": "code",
   "execution_count": 54,
   "id": "5b9f3f38-f414-486f-87cb-54b0909c1f34",
   "metadata": {},
   "outputs": [
    {
     "ename": "TypeError",
     "evalue": "str.upper() takes no arguments (1 given)",
     "output_type": "error",
     "traceback": [
      "\u001b[0;31m---------------------------------------------------------------------------\u001b[0m",
      "\u001b[0;31mTypeError\u001b[0m                                 Traceback (most recent call last)",
      "\u001b[0;32m/tmp/ipykernel_343362/4292976631.py\u001b[0m in \u001b[0;36m<module>\u001b[0;34m\u001b[0m\n\u001b[0;32m----> 1\u001b[0;31m \u001b[0mprint\u001b[0m\u001b[0;34m(\u001b[0m\u001b[0;34m\"peter\"\u001b[0m\u001b[0;34m.\u001b[0m\u001b[0mupper\u001b[0m\u001b[0;34m(\u001b[0m\u001b[0;34m\"ACTG\"\u001b[0m\u001b[0;34m)\u001b[0m\u001b[0;34m)\u001b[0m\u001b[0;34m\u001b[0m\u001b[0;34m\u001b[0m\u001b[0m\n\u001b[0m",
      "\u001b[0;31mTypeError\u001b[0m: str.upper() takes no arguments (1 given)"
     ]
    }
   ],
   "source": [
    "print(\"peter\".upper(\"ACTG\"))"
   ]
  },
  {
   "cell_type": "code",
   "execution_count": 55,
   "id": "5b8a86c5-4330-4efb-850e-066f39234c0a",
   "metadata": {},
   "outputs": [
    {
     "name": "stdout",
     "output_type": "stream",
     "text": [
      "ylspadktny\n"
     ]
    }
   ],
   "source": [
    "protein = \"vlspadktnv\"\n",
    "# replace valine with tyrosine\n",
    "print(protein.replace(\"v\", \"y\"))"
   ]
  },
  {
   "cell_type": "code",
   "execution_count": 56,
   "id": "c878f424-6cea-4855-86cc-c5c9a76c67ff",
   "metadata": {},
   "outputs": [
    {
     "name": "stdout",
     "output_type": "stream",
     "text": [
      "ymtpadktnv\n"
     ]
    }
   ],
   "source": [
    "print(protein.replace(\"vls\", \"ymt\"))"
   ]
  },
  {
   "cell_type": "code",
   "execution_count": 57,
   "id": "1d516857-2c58-4723-b120-c67fb74e733c",
   "metadata": {},
   "outputs": [
    {
     "name": "stdout",
     "output_type": "stream",
     "text": [
      "vlspadktnv\n"
     ]
    }
   ],
   "source": [
    "print(protein)"
   ]
  },
  {
   "cell_type": "code",
   "execution_count": 61,
   "id": "2d5a0690-d4e2-4119-aa14-838fed486ef4",
   "metadata": {},
   "outputs": [
    {
     "name": "stdout",
     "output_type": "stream",
     "text": [
      "My name is Thandi\n"
     ]
    },
    {
     "ename": "TypeError",
     "evalue": "replace expected at least 2 arguments, got 1",
     "output_type": "error",
     "traceback": [
      "\u001b[0;31m---------------------------------------------------------------------------\u001b[0m",
      "\u001b[0;31mTypeError\u001b[0m                                 Traceback (most recent call last)",
      "\u001b[0;32m/tmp/ipykernel_343362/3734237470.py\u001b[0m in \u001b[0;36m<module>\u001b[0;34m\u001b[0m\n\u001b[1;32m      1\u001b[0m \u001b[0mname\u001b[0m \u001b[0;34m=\u001b[0m \u001b[0;34m\"My name is Peter\"\u001b[0m\u001b[0;34m\u001b[0m\u001b[0;34m\u001b[0m\u001b[0m\n\u001b[1;32m      2\u001b[0m \u001b[0mprint\u001b[0m\u001b[0;34m(\u001b[0m\u001b[0mname\u001b[0m\u001b[0;34m.\u001b[0m\u001b[0mreplace\u001b[0m\u001b[0;34m(\u001b[0m\u001b[0;34m\"Peter\"\u001b[0m\u001b[0;34m,\u001b[0m \u001b[0;34m\"Thandi\"\u001b[0m\u001b[0;34m)\u001b[0m\u001b[0;34m)\u001b[0m\u001b[0;34m\u001b[0m\u001b[0;34m\u001b[0m\u001b[0m\n\u001b[0;32m----> 3\u001b[0;31m \u001b[0mprint\u001b[0m\u001b[0;34m(\u001b[0m\u001b[0mname\u001b[0m\u001b[0;34m.\u001b[0m\u001b[0mreplace\u001b[0m\u001b[0;34m(\u001b[0m\u001b[0;34m\"Peter\"\u001b[0m\u001b[0;34m)\u001b[0m\u001b[0;34m)\u001b[0m\u001b[0;34m\u001b[0m\u001b[0;34m\u001b[0m\u001b[0m\n\u001b[0m",
      "\u001b[0;31mTypeError\u001b[0m: replace expected at least 2 arguments, got 1"
     ]
    }
   ],
   "source": [
    "name = \"My name is Peter\"\n",
    "print(name.replace(\"Peter\", \"Thandi\"))\n",
    "print(name.replace(\"Peter\"))"
   ]
  },
  {
   "cell_type": "code",
   "execution_count": 63,
   "id": "eb21d278-4015-491a-94f6-a93d1bffdafe",
   "metadata": {},
   "outputs": [
    {
     "name": "stdout",
     "output_type": "stream",
     "text": [
      "ylspadktnv\n"
     ]
    }
   ],
   "source": [
    "print(protein.replace(\"v\", \"y\", 1))"
   ]
  },
  {
   "cell_type": "code",
   "execution_count": 66,
   "id": "709a6be1-8037-4ae1-acbf-e73dc6020276",
   "metadata": {},
   "outputs": [
    {
     "name": "stdout",
     "output_type": "stream",
     "text": [
      "pa\n",
      "vlspad\n",
      "vlspadktnv\n"
     ]
    }
   ],
   "source": [
    "protein = \"vlspadktnv\"\n",
    "#          0123456789\n",
    "# print positions three to five\n",
    "print(protein[3:5])\n",
    "# slices on Python are \"half open\"\n",
    "# - we include the character at the first position\n",
    "# - we stop before the final position\n",
    "print(protein[0:6])\n",
    "# a stop position past the end is the same as using the end\n",
    "print(protein[0:60])"
   ]
  },
  {
   "cell_type": "code",
   "execution_count": 70,
   "id": "02e4af66-9581-4411-8950-94969e7ba445",
   "metadata": {},
   "outputs": [
    {
     "name": "stdout",
     "output_type": "stream",
     "text": [
      "v\n",
      "v\n",
      "l\n",
      "s\n"
     ]
    }
   ],
   "source": [
    "print(protein[0])\n",
    "print(protein[0:1])\n",
    "print(protein[1])\n",
    "print(protein[2])\n"
   ]
  },
  {
   "cell_type": "code",
   "execution_count": 71,
   "id": "0416516f-1322-4597-993a-8770850f489b",
   "metadata": {},
   "outputs": [
    {
     "ename": "SyntaxError",
     "evalue": "invalid syntax (3415945783.py, line 1)",
     "output_type": "error",
     "traceback": [
      "\u001b[0;36m  File \u001b[0;32m\"/tmp/ipykernel_343362/3415945783.py\"\u001b[0;36m, line \u001b[0;32m1\u001b[0m\n\u001b[0;31m    print(protein(0:3))\u001b[0m\n\u001b[0m                   ^\u001b[0m\n\u001b[0;31mSyntaxError\u001b[0m\u001b[0;31m:\u001b[0m invalid syntax\n"
     ]
    }
   ],
   "source": [
    "print(protein(0:3))"
   ]
  },
  {
   "cell_type": "code",
   "execution_count": 72,
   "id": "87ccfcf1-be4b-4b09-bd70-03dff641329c",
   "metadata": {},
   "outputs": [
    {
     "ename": "TypeError",
     "evalue": "'str' object is not callable",
     "output_type": "error",
     "traceback": [
      "\u001b[0;31m---------------------------------------------------------------------------\u001b[0m",
      "\u001b[0;31mTypeError\u001b[0m                                 Traceback (most recent call last)",
      "\u001b[0;32m/tmp/ipykernel_343362/1968234836.py\u001b[0m in \u001b[0;36m<module>\u001b[0;34m\u001b[0m\n\u001b[0;32m----> 1\u001b[0;31m \u001b[0mprint\u001b[0m\u001b[0;34m(\u001b[0m\u001b[0mprotein\u001b[0m\u001b[0;34m(\u001b[0m\u001b[0;36m0\u001b[0m\u001b[0;34m)\u001b[0m\u001b[0;34m)\u001b[0m\u001b[0;34m\u001b[0m\u001b[0;34m\u001b[0m\u001b[0m\n\u001b[0m",
      "\u001b[0;31mTypeError\u001b[0m: 'str' object is not callable"
     ]
    }
   ],
   "source": [
    "print(protein(0))"
   ]
  },
  {
   "cell_type": "code",
   "execution_count": 73,
   "id": "dab4d0be-720f-4f1d-b9aa-ddbe23c1fd24",
   "metadata": {},
   "outputs": [
    {
     "ename": "TypeError",
     "evalue": "'builtin_function_or_method' object is not subscriptable",
     "output_type": "error",
     "traceback": [
      "\u001b[0;31m---------------------------------------------------------------------------\u001b[0m",
      "\u001b[0;31mTypeError\u001b[0m                                 Traceback (most recent call last)",
      "\u001b[0;32m/tmp/ipykernel_343362/4207485898.py\u001b[0m in \u001b[0;36m<module>\u001b[0;34m\u001b[0m\n\u001b[0;32m----> 1\u001b[0;31m \u001b[0mprint\u001b[0m\u001b[0;34m[\u001b[0m\u001b[0;34m\"Hello world\"\u001b[0m\u001b[0;34m]\u001b[0m\u001b[0;34m\u001b[0m\u001b[0;34m\u001b[0m\u001b[0m\n\u001b[0m",
      "\u001b[0;31mTypeError\u001b[0m: 'builtin_function_or_method' object is not subscriptable"
     ]
    }
   ],
   "source": [
    "print[\"Hello world\"]"
   ]
  },
  {
   "cell_type": "code",
   "execution_count": 74,
   "id": "b6464fea-db06-47db-b626-5fc3e33494a8",
   "metadata": {},
   "outputs": [
    {
     "name": "stdout",
     "output_type": "stream",
     "text": [
      "valines: 2\n",
      "lsp: 1\n",
      "tryptophans: 0\n"
     ]
    }
   ],
   "source": [
    "protein = \"vlspadktnv\"\n",
    "# count amino acid resides\n",
    "valine_count = protein.count(\"v\")\n",
    "lsp_count = protein.count(\"lsp\")\n",
    "tryptophan_count = protein.count(\"w\")\n",
    "\n",
    "print(\"valines: \" + str(valine_count))\n",
    "print(\"lsp: \" + str(lsp_count))\n",
    "print(\"tryptophans: \" + str(tryptophan_count))"
   ]
  },
  {
   "cell_type": "code",
   "execution_count": 75,
   "id": "9ff75cfb-fe1b-4aa5-8481-506bde8eb175",
   "metadata": {},
   "outputs": [
    {
     "ename": "TypeError",
     "evalue": "can only concatenate str (not \"int\") to str",
     "output_type": "error",
     "traceback": [
      "\u001b[0;31m---------------------------------------------------------------------------\u001b[0m",
      "\u001b[0;31mTypeError\u001b[0m                                 Traceback (most recent call last)",
      "\u001b[0;32m/tmp/ipykernel_343362/757786314.py\u001b[0m in \u001b[0;36m<module>\u001b[0;34m\u001b[0m\n\u001b[0;32m----> 1\u001b[0;31m \u001b[0mprint\u001b[0m\u001b[0;34m(\u001b[0m\u001b[0;34m\"lsp: \"\u001b[0m \u001b[0;34m+\u001b[0m \u001b[0mlsp_count\u001b[0m\u001b[0;34m)\u001b[0m\u001b[0;34m\u001b[0m\u001b[0;34m\u001b[0m\u001b[0m\n\u001b[0m",
      "\u001b[0;31mTypeError\u001b[0m: can only concatenate str (not \"int\") to str"
     ]
    }
   ],
   "source": [
    "print(\"lsp: \" + lsp_count)"
   ]
  },
  {
   "cell_type": "code",
   "execution_count": 76,
   "id": "68b499e1-da57-4296-88eb-308eaf4661c9",
   "metadata": {},
   "outputs": [
    {
     "name": "stdout",
     "output_type": "stream",
     "text": [
      "3\n",
      "6\n",
      "-1\n"
     ]
    }
   ],
   "source": [
    "protein = \"vlspadktnv\"\n",
    "#          0123456789\n",
    "print(str(protein.find(\"p\")))\n",
    "print(str(protein.find(\"kt\")))\n",
    "print(str(protein.find('w')))"
   ]
  },
  {
   "cell_type": "code",
   "execution_count": 78,
   "id": "26e8b508-cdb2-4ef9-aea5-8ea0e2a2ef1d",
   "metadata": {},
   "outputs": [
    {
     "name": "stdout",
     "output_type": "stream",
     "text": [
      "0\n"
     ]
    }
   ],
   "source": [
    "print(str(protein.find(\"v\")))"
   ]
  },
  {
   "cell_type": "code",
   "execution_count": 80,
   "id": "88a9ac99-f71c-44f9-9524-dd954c35cd9a",
   "metadata": {},
   "outputs": [
    {
     "name": "stdout",
     "output_type": "stream",
     "text": [
      "3\n",
      "-1\n"
     ]
    }
   ],
   "source": [
    "amino_acid = \"p\"\n",
    "protein = \"vlspadktnv\"\n",
    "#          0123456789\n",
    "print(str(protein.find(amino_acid)))  # look for p in vlspadktnv\n",
    "print(str(amino_acid.find(protein)))  # look for vlspadktnv in p"
   ]
  },
  {
   "cell_type": "markdown",
   "id": "841eae2e-d56e-4f97-af7a-4f313c63142a",
   "metadata": {},
   "source": [
    "### Exercises"
   ]
  },
  {
   "cell_type": "markdown",
   "id": "85d46d6c-8f71-4b1d-a516-b2dfe6da39ac",
   "metadata": {},
   "source": [
    "#### Calculating AT content"
   ]
  },
  {
   "cell_type": "code",
   "execution_count": 87,
   "id": "befe1773-b652-4d20-89f4-7150a4770566",
   "metadata": {},
   "outputs": [
    {
     "name": "stdout",
     "output_type": "stream",
     "text": [
      "16\n",
      "21\n",
      "0.6851851851851852\n"
     ]
    }
   ],
   "source": [
    "my_dna = \"ACTGATCGATTACGTATAGTATTTGCTATCATACATATATATCGATGCGTTCAT\"\n",
    "# challenge: calculate AT content of my_dna\n",
    "# Python maths operators\n",
    "# + - plus\n",
    "# - - minus\n",
    "# / - division\n",
    "# * - multiplication\n",
    "a_count = my_dna.count(\"A\")\n",
    "print(a_count)\n",
    "t_count = my_dna.count(\"T\")\n",
    "print(t_count)\n",
    "g_count = my_dna.count(\"G\")\n",
    "c_count = my_dna.count(\"C\")\n",
    "at_content = (a_count + t_count) / (a_count + t_count + g_count + c_count)\n",
    "print(at_content)"
   ]
  },
  {
   "cell_type": "code",
   "execution_count": 89,
   "id": "af23fbf2-ad19-4a67-9c51-b353bcb10a89",
   "metadata": {},
   "outputs": [
    {
     "name": "stdout",
     "output_type": "stream",
     "text": [
      "16\n",
      "0.6851851851851852\n"
     ]
    }
   ],
   "source": [
    "a_count = my_dna.count(\"A\")\n",
    "print(a_count)\n",
    "t_count = my_dna.count(\"T\")\n",
    "total_count = len(my_dna)\n",
    "at_content = (a_count + t_count) / total_count\n",
    "print(at_content)"
   ]
  },
  {
   "cell_type": "code",
   "execution_count": 93,
   "id": "9a0d9743-4976-44a2-bbe6-4ebeb2a06f8a",
   "metadata": {},
   "outputs": [
    {
     "name": "stdout",
     "output_type": "stream",
     "text": [
      "16\n",
      "0.6851851851851852\n",
      "ACTGATcgattaCGTATAGTATTTGCTATCATACATATATATCGATGCGTTCAT\n"
     ]
    }
   ],
   "source": [
    "my_dna = \"ACTGATcgattaCGTATAGTATTTGCTATCATACATATATATCGATGCGTTCAT\"\n",
    "my_upper_dna = my_dna.upper()\n",
    "a_count = my_upper_dna.count(\"A\")\n",
    "print(a_count)\n",
    "t_count = my_upper_dna.count(\"T\")\n",
    "total_count = len(my_upper_dna)\n",
    "at_content = (a_count + t_count) / total_count\n",
    "print(at_content)\n",
    "print(my_dna)"
   ]
  },
  {
   "cell_type": "code",
   "execution_count": 94,
   "id": "28f73e02-b162-496f-a686-066159b6cf95",
   "metadata": {},
   "outputs": [
    {
     "name": "stdout",
     "output_type": "stream",
     "text": [
      "16\n",
      "0.6851851851851852\n",
      "ACTGATCGATTACGTATAGTATTTGCTATCATACATATATATCGATGCGTTCAT\n"
     ]
    }
   ],
   "source": [
    "my_dna = \"ACTGATcgattaCGTATAGTATTTGCTATCATACATATATATCGATGCGTTCAT\"\n",
    "my_dna = my_dna.upper()\n",
    "a_count = my_dna.count(\"A\")\n",
    "print(a_count)\n",
    "t_count = my_dna.count(\"T\")\n",
    "total_count = len(my_dna)\n",
    "at_content = (a_count + t_count) / total_count\n",
    "print(at_content)\n",
    "print(my_dna)"
   ]
  },
  {
   "cell_type": "code",
   "execution_count": 98,
   "id": "217a3e56-93a8-4563-9fd3-0847ed0be769",
   "metadata": {},
   "outputs": [
    {
     "name": "stdout",
     "output_type": "stream",
     "text": [
      "16\n",
      "21\n",
      "0.6851851851851852\n",
      "0.6379310344827587\n",
      "0.6851851851851852\n"
     ]
    }
   ],
   "source": [
    "my_dna = \"ACTGATCGATTNNNNACGTATAGTATTTGCTATCATACATATATATCGATGCGTTCAT\"\n",
    "a_count = my_dna.count(\"A\")\n",
    "print(a_count)\n",
    "t_count = my_dna.count(\"T\")\n",
    "print(t_count)\n",
    "g_count = my_dna.count(\"G\")\n",
    "c_count = my_dna.count(\"C\")\n",
    "at_content = (a_count + t_count) / (a_count + t_count + g_count + c_count)\n",
    "print(at_content)\n",
    "total_count = len(my_dna)\n",
    "at_content = (a_count + t_count) / total_count\n",
    "print(at_content)\n",
    "total_count = len(my_dna.replace('N','')) # remove Ns before computing total_count\n",
    "at_content = (a_count + t_count) / total_count\n",
    "print(at_content)"
   ]
  },
  {
   "cell_type": "code",
   "execution_count": 96,
   "id": "3987d2e7-1a16-430d-9aad-7727874296b9",
   "metadata": {},
   "outputs": [
    {
     "name": "stdout",
     "output_type": "stream",
     "text": [
      "ACTGATCGATTACGTATAGTATTTGCTATCATACATATATATCGATGCGTTCAT\n"
     ]
    }
   ],
   "source": [
    "print(my_dna.replace('N', ''))"
   ]
  },
  {
   "cell_type": "markdown",
   "id": "ab2d2b30-8ed7-48c8-b1a2-3a9a9b3b7a07",
   "metadata": {},
   "source": [
    "#### Complementing DNA\n"
   ]
  },
  {
   "cell_type": "code",
   "execution_count": 8,
   "id": "d3c08888-8aff-4ee0-aff6-efacc9d701b4",
   "metadata": {},
   "outputs": [
    {
     "name": "stdout",
     "output_type": "stream",
     "text": [
      "ACTGATCGATTACGTATAGTATTTGCTATCATACATATATATCGATGCGTTCAT\n",
      "WCTGWTCGWTTWCGTWTWGTWTTTGCTWTCWTWCWTWTWTWTCGWTGCGTTCWT\n",
      "WCAGWACGWAAWCGAWAWGAWAAAGCAWACWAWCWAWAWAWACGWAGCGAACWA\n",
      "WCASWACSWAAWCSAWAWSAWAAASCAWACWAWCWAWAWAWACSWASCSAACWA\n",
      "TGACTAGCTAATGCATATCATAAACGATAGTATGTATATATAGCTACGCAAGTA\n"
     ]
    }
   ],
   "source": [
    "my_dna = 'ACTGATCGATTACGTATAGTATTTGCTATCATACATATATATCGATGCGTTCAT'\n",
    "# challenge: print the complement (not reverse complement) of my_dna\n",
    "print(my_dna)\n",
    "my_dna1 = my_dna.replace('A','W')\n",
    "print(my_dna1)\n",
    "my_dna2 = my_dna1.replace('T', 'A')\n",
    "print(my_dna2)\n",
    "my_dna3 = my_dna2.replace('G', 'S')\n",
    "print(my_dna3)\n",
    "my_dna4 = my_dna3.replace('C', 'G')\n",
    "my_complementary_dna = my_dna4.replace('W','T').replace('S', 'C')\n",
    "print(my_complementary_dna)\n",
    "# GATTACA\n",
    "# CTAATGT"
   ]
  },
  {
   "cell_type": "code",
   "execution_count": 12,
   "id": "c2a030c2-4c9a-47e4-aa06-7df837375c7f",
   "metadata": {},
   "outputs": [
    {
     "name": "stdout",
     "output_type": "stream",
     "text": [
      "ACTGATCGATTACGTATAGTATTTGCTATCATACATATATATCGATGCGTTCAT\n",
      "TGACTAGCTAATGCATATCATAAACGATAGTATGTATATATAGCTACGCAAGTA\n"
     ]
    }
   ],
   "source": [
    "my_dna = 'ACTGATCGATTACGTATAGTATTTGCTATCATACATATATATCGATGCGTTCAT'\n",
    "# you can use brackets to split things across multiple lines\n",
    "my_complementary_dna = (my_dna.replace('A','W')\n",
    "                              .replace('T','A')\n",
    "                              .replace('G', 'S')\n",
    "                              .replace('C', 'G')\n",
    "                              .replace('W', 'T')\n",
    "                              .replace('S', 'C'))\n",
    "print(my_dna)\n",
    "print(my_complementary_dna)"
   ]
  },
  {
   "cell_type": "markdown",
   "id": "dc5d3e42-879f-44ea-a83d-359b1c421a26",
   "metadata": {},
   "source": [
    "#### Restriction fragment lengths"
   ]
  },
  {
   "cell_type": "code",
   "execution_count": 17,
   "id": "f7582e89-c4a7-407d-a4da-5e5d5fde713f",
   "metadata": {},
   "outputs": [
    {
     "name": "stdout",
     "output_type": "stream",
     "text": [
      "21\n",
      "22\n"
     ]
    }
   ],
   "source": [
    "my_dna = 'ACTGATCGATTACGTATAGTAGAATTCTATCATACATATATATCGATGCGTTCAT'\n",
    "# G*AATTC\n",
    "pos = my_dna.find('GAATTC')\n",
    "print(pos)\n",
    "cut_position = pos + 1\n",
    "print(cut_position)"
   ]
  },
  {
   "cell_type": "code",
   "execution_count": 26,
   "id": "b474ed4a-5dca-4e53-ac00-7bb4e8c37dc5",
   "metadata": {},
   "outputs": [
    {
     "name": "stdout",
     "output_type": "stream",
     "text": [
      "length of part1: 2\n",
      "length of part2: 4\n"
     ]
    }
   ],
   "source": [
    "# the three parameters of my algorithm\n",
    "my_dna = 'ACTGAT'\n",
    "cut_offset = 1\n",
    "motif = 'CTG' # motif is really C*TG\n",
    "\n",
    "# the algorithm itself\n",
    "# how long are my DNA fragments?\n",
    "string_length = len(my_dna)\n",
    "match_pos = my_dna.find(motif)\n",
    "length_of_part1 = match_pos + cut_offset\n",
    "print(\"length of part1: \" + str(length_of_part1))\n",
    "length_of_part2 = string_length - length_of_part1\n",
    "print(\"length of part2: \" + str(length_of_part2))"
   ]
  },
  {
   "cell_type": "code",
   "execution_count": 27,
   "id": "633ba04f-79ea-4a94-9f99-3ac8326a86ed",
   "metadata": {},
   "outputs": [
    {
     "name": "stdout",
     "output_type": "stream",
     "text": [
      "length of part1: 22\n",
      "length of part2: 33\n"
     ]
    }
   ],
   "source": [
    "# the three parameters of my algorithm\n",
    "my_dna = 'ACTGATCGATTACGTATAGTAGAATTCTATCATACATATATATCGATGCGTTCAT'\n",
    "cut_offset = 1\n",
    "# motif is G*AATTC\n",
    "motif = 'GAATTC'\n",
    "# restriction enzyme motif GAA*TTC\n",
    "\n",
    "\n",
    "# the algorithm itself\n",
    "# how long are my DNA fragments?\n",
    "string_length = len(my_dna)\n",
    "match_pos = my_dna.find(motif)\n",
    "length_of_part1 = match_pos + cut_offset\n",
    "print(\"length of part1: \" + str(length_of_part1))\n",
    "length_of_part2 = string_length - length_of_part1\n",
    "print(\"length of part2: \" + str(length_of_part2))"
   ]
  },
  {
   "cell_type": "code",
   "execution_count": null,
   "id": "9efe645f-ebe4-46cf-8ca3-6adf36faa22f",
   "metadata": {},
   "outputs": [],
   "source": [
    "# the three parameters of my algorithm\n",
    "my_dna = 'ACTGATCGATTACGTATAGTAGAATTCTATCATACATATATATCGATGCGTTCAT'\n",
    "cut_offset = 3\n",
    "# restriction enzyme motif GAA*TTC\n",
    "motif = 'GAATTC'\n",
    "\n",
    "\n",
    "# the algorithm itself\n",
    "# how long are my DNA fragments?\n",
    "string_length = len(my_dna)\n",
    "match_pos = my_dna.find(motif)\n",
    "length_of_part1 = match_pos + cut_offset\n",
    "print(\"length of part1: \" + str(length_of_part1))\n",
    "length_of_part2 = string_length - length_of_part1\n",
    "print(\"length of part2: \" + str(length_of_part2))"
   ]
  }
 ],
 "metadata": {
  "kernelspec": {
   "display_name": "Python 3 (ipykernel)",
   "language": "python",
   "name": "python3"
  },
  "language_info": {
   "codemirror_mode": {
    "name": "ipython",
    "version": 3
   },
   "file_extension": ".py",
   "mimetype": "text/x-python",
   "name": "python",
   "nbconvert_exporter": "python",
   "pygments_lexer": "ipython3",
   "version": "3.9.7"
  }
 },
 "nbformat": 4,
 "nbformat_minor": 5
}
