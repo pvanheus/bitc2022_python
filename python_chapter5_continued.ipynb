{
 "cells": [
  {
   "cell_type": "code",
   "execution_count": 7,
   "id": "7b05b5e9-ff62-484e-8cfc-80487430e2cc",
   "metadata": {},
   "outputs": [],
   "source": [
    "def aa_percentage(prot, amino):\n",
    "    \"\"\"Calculate the percentage of prot that is made up out of\n",
    "       amino acid amino\"\"\"\n",
    "    # the \"\"\" \"\"\" string is a docstring\n",
    "    # read more about them here: https://peps.python.org/pep-0257/ \n",
    "    prot = prot.upper()\n",
    "    amino = amino.upper()\n",
    "    amino_count = prot.count(amino)  # how many times have we seen the amino acid in the protein\n",
    "    # print(\"amino count\", amino_count)\n",
    "    protein_length = len(prot)\n",
    "    # print(\"protein length\", protein_length)\n",
    "    percentage = amino_count / protein_length * 100\n",
    "    return percentage"
   ]
  },
  {
   "cell_type": "code",
   "execution_count": 3,
   "id": "f7becf5c-169e-4c12-a76c-76c794fc8a32",
   "metadata": {},
   "outputs": [],
   "source": [
    "aa_perc = aa_percentage(\"MSRSLLL\", \"L\")"
   ]
  },
  {
   "cell_type": "code",
   "execution_count": 4,
   "id": "d43bb304-5197-4719-9060-bdc247c6378e",
   "metadata": {},
   "outputs": [
    {
     "name": "stdout",
     "output_type": "stream",
     "text": [
      "None\n"
     ]
    }
   ],
   "source": [
    "print(aa_perc)"
   ]
  },
  {
   "cell_type": "code",
   "execution_count": 5,
   "id": "5558eb82-038a-4b33-af06-6d7f8dad56ea",
   "metadata": {},
   "outputs": [
    {
     "name": "stdout",
     "output_type": "stream",
     "text": [
      "Help on built-in function print in module builtins:\n",
      "\n",
      "print(...)\n",
      "    print(value, ..., sep=' ', end='\\n', file=sys.stdout, flush=False)\n",
      "    \n",
      "    Prints the values to a stream, or to sys.stdout by default.\n",
      "    Optional keyword arguments:\n",
      "    file:  a file-like object (stream); defaults to the current sys.stdout.\n",
      "    sep:   string inserted between values, default a space.\n",
      "    end:   string appended after the last value, default a newline.\n",
      "    flush: whether to forcibly flush the stream.\n",
      "\n"
     ]
    }
   ],
   "source": [
    "help(print)"
   ]
  },
  {
   "cell_type": "code",
   "execution_count": 8,
   "id": "a528ab28-5875-4e51-939e-d880d9f70241",
   "metadata": {},
   "outputs": [
    {
     "name": "stdout",
     "output_type": "stream",
     "text": [
      "Help on function aa_percentage in module __main__:\n",
      "\n",
      "aa_percentage(prot, amino)\n",
      "    Calculate the percentage of prot that is made up out of\n",
      "    amino acid amino\n",
      "\n"
     ]
    }
   ],
   "source": [
    "help(aa_percentage)"
   ]
  },
  {
   "cell_type": "markdown",
   "id": "2f5d38ac-5781-4c2d-8819-219f730e0528",
   "metadata": {},
   "source": [
    "## Challenge: \n",
    "Adapt `aa_percentage(prot, amino)` to make a new function:\n",
    "`aa_percentages(prot, aminos)` where `aminos` is a list\n",
    "and the function returns a list of percentages"
   ]
  },
  {
   "cell_type": "code",
   "execution_count": 16,
   "id": "e423af3f-1b75-4ec4-8920-029ded02ff91",
   "metadata": {},
   "outputs": [],
   "source": [
    "def aa_percentages(prot, aminos):\n",
    "    \"\"\"Calculate the percentage of prot that is made up out of\n",
    "       amino acids aminos and return the list of percentages\"\"\"\n",
    "    # the \"\"\" \"\"\" string is a docstring\n",
    "    # read more about them here: https://peps.python.org/pep-0257/ \n",
    "    prot = prot.upper()\n",
    "    percentages = []\n",
    "    for amino in aminos:\n",
    "        amino = amino.upper()\n",
    "        amino_count = prot.count(amino)  # how many times have we seen the amino acid in the protein\n",
    "        protein_length = len(prot)\n",
    "        percentage = amino_count / protein_length * 100\n",
    "        # percentages = percentages + [percentage]\n",
    "        percentages.append(percentage)\n",
    "    return percentages"
   ]
  },
  {
   "cell_type": "code",
   "execution_count": 17,
   "id": "96b7d869-80c0-4e0d-8bb3-bf6044372c8b",
   "metadata": {},
   "outputs": [
    {
     "name": "stdout",
     "output_type": "stream",
     "text": [
      "[42.857142857142854, 14.285714285714285]\n"
     ]
    }
   ],
   "source": [
    "aminos = [\"L\", \"R\"]\n",
    "prot = \"MSRSLLL\"\n",
    "\n",
    "percentages = aa_percentages(prot, aminos)\n",
    "print(percentages)"
   ]
  },
  {
   "cell_type": "code",
   "execution_count": 15,
   "id": "4d984e92-a18c-4ba2-a197-6bc553353d6b",
   "metadata": {},
   "outputs": [
    {
     "name": "stdout",
     "output_type": "stream",
     "text": [
      "6\n"
     ]
    }
   ],
   "source": [
    "numbers = [1,2,3]\n",
    "total = 0\n",
    "for number in numbers:\n",
    "    total = total + number\n",
    "print(total)"
   ]
  },
  {
   "cell_type": "code",
   "execution_count": null,
   "id": "9df29eeb-b1e5-4057-aea3-64c43366bb0c",
   "metadata": {},
   "outputs": [],
   "source": []
  }
 ],
 "metadata": {
  "kernelspec": {
   "display_name": "Python 3 (ipykernel)",
   "language": "python",
   "name": "python3"
  },
  "language_info": {
   "codemirror_mode": {
    "name": "ipython",
    "version": 3
   },
   "file_extension": ".py",
   "mimetype": "text/x-python",
   "name": "python",
   "nbconvert_exporter": "python",
   "pygments_lexer": "ipython3",
   "version": "3.9.7"
  }
 },
 "nbformat": 4,
 "nbformat_minor": 5
}
