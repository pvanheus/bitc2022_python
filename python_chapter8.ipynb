{
 "cells": [
  {
   "cell_type": "markdown",
   "id": "dbe7427a-fe95-4750-a2fe-7bde51ebcf0b",
   "metadata": {},
   "source": [
    "# Chapter 8: Dictionaries"
   ]
  },
  {
   "cell_type": "code",
   "execution_count": 2,
   "id": "de5542e5-b437-4ed4-a040-0db75739c5e0",
   "metadata": {},
   "outputs": [],
   "source": [
    "dna = \"ATCGATCGATCGTaCGCTGA\"\n",
    "dna = dna.upper()\n",
    "a_count = dna.count(\"A\")\n",
    "t_count = dna.count(\"T\")\n",
    "g_count = dna.count(\"G\")\n",
    "c_count = dna.count(\"C\")"
   ]
  },
  {
   "cell_type": "code",
   "execution_count": null,
   "id": "217bbe69-9caa-4f75-b509-934d0fc6d1af",
   "metadata": {},
   "outputs": [],
   "source": [
    "dna = \"ATCGATCGATCGTaCGCTGA\"\n",
    "a_count = dna.count(\"A\") + dna.count(\"a\")\n",
    "t_count = dna.count(\"T\") + dna.count(\"t\")\n",
    "g_count = dna.count(\"G\") + dna.count(\"g\")\n",
    "c_count = dna.count(\"C\") + dna.count(\"c\")"
   ]
  },
  {
   "cell_type": "code",
   "execution_count": null,
   "id": "2e3b824a-91ef-4f1e-989c-e4c43eab8acd",
   "metadata": {},
   "outputs": [],
   "source": [
    "dna = \"ATCGATCGATCGTaCGCTGA\"\n",
    "dna = dna.upper()\n",
    "a_count = 0\n",
    "t_count = 0\n",
    "g_count = 0\n",
    "c_count = 0\n",
    "for base in dna:\n",
    "    if base == 'A':\n",
    "        a_count += 1\n",
    "    elif base == 'C':\n",
    "        c_count += 1\n",
    "    elif base == 'G':\n",
    "        g_count += 1\n",
    "    elif base == 'T':\n",
    "        t_count += 1\n"
   ]
  },
  {
   "cell_type": "code",
   "execution_count": null,
   "id": "4346caae-3cf7-4b87-b5e5-1bba784cf04f",
   "metadata": {},
   "outputs": [],
   "source": [
    "dna = \"ATCGATCGATCGTaCGCTGA\"\n",
    "a_count = dna.count(\"A\")\n",
    "a_rep_count = dna.count(\"a\")\n",
    "t_count = dna.count(\"T\")\n",
    "g_count = dna.count(\"G\")\n",
    "c_count = dna.count(\"C\")"
   ]
  },
  {
   "cell_type": "code",
   "execution_count": 3,
   "id": "17c0f7c5-a78e-46ff-9e64-04170e5d2e10",
   "metadata": {},
   "outputs": [],
   "source": [
    "dna = \"ATCGATCGATCGTaCGCTGA\"\n",
    "dna = dna.upper()\n",
    "at_count = dna.count(\"AT\")\n",
    "aa_count = dna.count(\"AA\")\n",
    "ag_count = dna.count(\"AG\")\n"
   ]
  },
  {
   "cell_type": "code",
   "execution_count": 8,
   "id": "e205ec9a-6454-4125-9a7c-269a9246e541",
   "metadata": {},
   "outputs": [
    {
     "name": "stdout",
     "output_type": "stream",
     "text": [
      "count is 0 for AAA\n",
      "count is 0 for AAC\n",
      "count is 0 for AAC\n",
      "count is 0 for AAG\n",
      "count is 0 for ACA\n",
      "count is 0 for ACC\n",
      "count is 0 for ACC\n",
      "count is 1 for ACG\n",
      "count is 0 for ATA\n",
      "count is 3 for ATC\n",
      "count is 3 for ATC\n",
      "count is 0 for ATG\n",
      "count is 0 for AGA\n",
      "count is 0 for AGC\n",
      "count is 0 for AGC\n",
      "count is 0 for AGG\n",
      "count is 0 for CAA\n",
      "count is 0 for CAC\n",
      "count is 0 for CAC\n",
      "count is 0 for CAG\n",
      "count is 0 for CCA\n",
      "count is 0 for CCC\n",
      "count is 0 for CCC\n",
      "count is 0 for CCG\n",
      "count is 0 for CTA\n",
      "count is 0 for CTC\n",
      "count is 0 for CTC\n",
      "count is 1 for CTG\n",
      "count is 2 for CGA\n",
      "count is 1 for CGC\n",
      "count is 1 for CGC\n",
      "count is 0 for CGG\n",
      "count is 0 for TAA\n",
      "count is 1 for TAC\n",
      "count is 1 for TAC\n",
      "count is 0 for TAG\n",
      "count is 0 for TCA\n",
      "count is 0 for TCC\n",
      "count is 0 for TCC\n",
      "count is 3 for TCG\n",
      "count is 0 for TTA\n",
      "count is 0 for TTC\n",
      "count is 0 for TTC\n",
      "count is 0 for TTG\n",
      "count is 1 for TGA\n",
      "count is 0 for TGC\n",
      "count is 0 for TGC\n",
      "count is 0 for TGG\n",
      "count is 0 for GAA\n",
      "count is 0 for GAC\n",
      "count is 0 for GAC\n",
      "count is 0 for GAG\n",
      "count is 0 for GCA\n",
      "count is 0 for GCC\n",
      "count is 0 for GCC\n",
      "count is 0 for GCG\n",
      "count is 1 for GTA\n",
      "count is 0 for GTC\n",
      "count is 0 for GTC\n",
      "count is 0 for GTG\n",
      "count is 0 for GGA\n",
      "count is 0 for GGC\n",
      "count is 0 for GGC\n",
      "count is 0 for GGG\n",
      "[0, 0, 0, 0, 0, 0, 0, 1, 0, 3, 3, 0, 0, 0, 0, 0, 0, 0, 0, 0, 0, 0, 0, 0, 0, 0, 0, 1, 2, 1, 1, 0, 0, 1, 1, 0, 0, 0, 0, 3, 0, 0, 0, 0, 1, 0, 0, 0, 0, 0, 0, 0, 0, 0, 0, 0, 1, 0, 0, 0, 0, 0, 0, 0]\n",
      "['AAA', 'AAC', 'AAC', 'AAG', 'ACA', 'ACC', 'ACC', 'ACG', 'ATA', 'ATC', 'ATC', 'ATG', 'AGA', 'AGC', 'AGC', 'AGG', 'CAA', 'CAC', 'CAC', 'CAG', 'CCA', 'CCC', 'CCC', 'CCG', 'CTA', 'CTC', 'CTC', 'CTG', 'CGA', 'CGC', 'CGC', 'CGG', 'TAA', 'TAC', 'TAC', 'TAG', 'TCA', 'TCC', 'TCC', 'TCG', 'TTA', 'TTC', 'TTC', 'TTG', 'TGA', 'TGC', 'TGC', 'TGG', 'GAA', 'GAC', 'GAC', 'GAG', 'GCA', 'GCC', 'GCC', 'GCG', 'GTA', 'GTC', 'GTC', 'GTG', 'GGA', 'GGC', 'GGC', 'GGG']\n"
     ]
    }
   ],
   "source": [
    "dna = \"ATCGATCGATCGTaCGCTGA\"\n",
    "dna = dna.upper()\n",
    "\n",
    "all_counts = []\n",
    "trinucleotides = []\n",
    "\n",
    "for base1 in ['A', 'C', 'T', 'G']:\n",
    "    for base2 in ['A', 'C', 'T', 'G']:\n",
    "        for base3 in ['A', 'C', 'C', 'G']:\n",
    "            trinucleotide = base1 + base2 + base3\n",
    "            count = dna.count(trinucleotide)\n",
    "            print(\"count is\", count, \"for\", trinucleotide)\n",
    "            all_counts.append(count)\n",
    "            trinucleotides.append(trinucleotide)\n",
    "print(all_counts)\n",
    "print(trinucleotides)"
   ]
  },
  {
   "cell_type": "code",
   "execution_count": 9,
   "id": "79f28e91-2342-4413-8dd2-4f9c9a690f67",
   "metadata": {},
   "outputs": [],
   "source": [
    "enzymes = { 'EcoRI': r'GAATTC', 'AvaII': r'GG(A|T)CC', 'BisI': r'GC[ATGC]GC' }"
   ]
  },
  {
   "cell_type": "code",
   "execution_count": 10,
   "id": "cfcbb96f-6f32-49d3-a3c9-a6809c0bb532",
   "metadata": {},
   "outputs": [],
   "source": [
    "enzyme_names = [ 'EcoRI', 'AvaII', 'BisI' ] "
   ]
  },
  {
   "cell_type": "code",
   "execution_count": 11,
   "id": "b7693ac7-fd6e-4845-84a1-aa82c8d8c6cf",
   "metadata": {},
   "outputs": [
    {
     "data": {
      "text/plain": [
       "dict"
      ]
     },
     "execution_count": 11,
     "metadata": {},
     "output_type": "execute_result"
    }
   ],
   "source": [
    "type(enzymes)"
   ]
  },
  {
   "cell_type": "code",
   "execution_count": 12,
   "id": "b55bf240-6d1e-400f-8b54-f4cbae2c4102",
   "metadata": {},
   "outputs": [
    {
     "data": {
      "text/plain": [
       "list"
      ]
     },
     "execution_count": 12,
     "metadata": {},
     "output_type": "execute_result"
    }
   ],
   "source": [
    "type(enzyme_names)"
   ]
  },
  {
   "cell_type": "code",
   "execution_count": 13,
   "id": "69a380ef-ef79-40d2-a47c-cd4b5047dba1",
   "metadata": {},
   "outputs": [
    {
     "name": "stdout",
     "output_type": "stream",
     "text": [
      "Hello World\n"
     ]
    }
   ],
   "source": [
    "print(\"Hello\",\n",
    "      \"World\")"
   ]
  },
  {
   "cell_type": "code",
   "execution_count": 14,
   "id": "3f0457fe-321b-4835-8225-aa38f78e9e3f",
   "metadata": {},
   "outputs": [],
   "source": [
    "enzymes = { 'EcoRI': r'GAATTC', \n",
    "            'AvaII': r'GG(A|T)CC', \n",
    "            'BisI': r'GC[ATGC]GC' \n",
    "          }"
   ]
  },
  {
   "cell_type": "code",
   "execution_count": 15,
   "id": "2ab5662e-d581-4794-9258-60d91e096c97",
   "metadata": {},
   "outputs": [],
   "source": [
    "enzyme_names = [ 'EcoRI', \n",
    "                 'AvaII', \n",
    "                 'BisI' \n",
    "               ] "
   ]
  },
  {
   "cell_type": "code",
   "execution_count": 16,
   "id": "66663089-0318-490e-bfc2-54d7d20976ff",
   "metadata": {},
   "outputs": [
    {
     "name": "stdout",
     "output_type": "stream",
     "text": [
      "BisI\n"
     ]
    }
   ],
   "source": [
    "print(enzyme_names[2])"
   ]
  },
  {
   "cell_type": "code",
   "execution_count": 17,
   "id": "758c4471-5435-4419-a75d-3ecd7a6ef092",
   "metadata": {},
   "outputs": [
    {
     "name": "stdout",
     "output_type": "stream",
     "text": [
      "BisI\n"
     ]
    }
   ],
   "source": [
    "print(enzyme_names[-1])"
   ]
  },
  {
   "cell_type": "code",
   "execution_count": 18,
   "id": "3199f17c-e17a-445a-b069-2d55cb9a2394",
   "metadata": {},
   "outputs": [
    {
     "name": "stdout",
     "output_type": "stream",
     "text": [
      "GC[ATGC]GC\n"
     ]
    }
   ],
   "source": [
    "print(enzymes['BisI'])"
   ]
  },
  {
   "cell_type": "code",
   "execution_count": 19,
   "id": "b564befd-7d95-4c19-96d8-876252df57e2",
   "metadata": {},
   "outputs": [],
   "source": [
    "mylist = ['Fish', 1, ['a', 'c']]"
   ]
  },
  {
   "cell_type": "code",
   "execution_count": 20,
   "id": "a28cccc9-0589-4102-ae00-776df5b97766",
   "metadata": {},
   "outputs": [],
   "source": [
    "mydict = { 'one': 1,\n",
    "           'apple': 'fruit',\n",
    "           'another': ['abc', 'def']\n",
    "         }"
   ]
  },
  {
   "cell_type": "code",
   "execution_count": 21,
   "id": "db75df70-3428-4a95-bfaf-247b5eda992b",
   "metadata": {},
   "outputs": [],
   "source": [
    "mydict = { 21: 'twentyone',\n",
    "           35: 'thirtyfive'\n",
    "         }"
   ]
  },
  {
   "cell_type": "code",
   "execution_count": 22,
   "id": "c1d77eab-64d8-4c49-9d40-5f8fc18c7088",
   "metadata": {},
   "outputs": [
    {
     "data": {
      "text/plain": [
       "'thirtyfive'"
      ]
     },
     "execution_count": 22,
     "metadata": {},
     "output_type": "execute_result"
    }
   ],
   "source": [
    "mydict[35]"
   ]
  },
  {
   "cell_type": "code",
   "execution_count": 23,
   "id": "d2a29520-ea92-4ef6-9584-f2c1448f5c1f",
   "metadata": {},
   "outputs": [
    {
     "ename": "KeyError",
     "evalue": "34",
     "output_type": "error",
     "traceback": [
      "\u001b[0;31m---------------------------------------------------------------------------\u001b[0m",
      "\u001b[0;31mKeyError\u001b[0m                                  Traceback (most recent call last)",
      "Input \u001b[0;32mIn [23]\u001b[0m, in \u001b[0;36m<cell line: 1>\u001b[0;34m()\u001b[0m\n\u001b[0;32m----> 1\u001b[0m \u001b[43mmydict\u001b[49m\u001b[43m[\u001b[49m\u001b[38;5;241;43m34\u001b[39;49m\u001b[43m]\u001b[49m\n",
      "\u001b[0;31mKeyError\u001b[0m: 34"
     ]
    }
   ],
   "source": [
    "mydict[34]"
   ]
  },
  {
   "cell_type": "code",
   "execution_count": 24,
   "id": "ac7f5a8c-9fa7-4652-aba9-9cbbd3f87152",
   "metadata": {},
   "outputs": [],
   "source": [
    "mydict = { None: 'nothing' }"
   ]
  },
  {
   "cell_type": "code",
   "execution_count": 25,
   "id": "be366f1f-a30d-4e5f-a375-62d06d2eec64",
   "metadata": {},
   "outputs": [],
   "source": [
    "mydict = { None: 'nothing', 'None': 'a nothing string' }"
   ]
  },
  {
   "cell_type": "code",
   "execution_count": 26,
   "id": "dced67e9-6add-47dd-970f-c6285300c863",
   "metadata": {},
   "outputs": [
    {
     "data": {
      "text/plain": [
       "'nothing'"
      ]
     },
     "execution_count": 26,
     "metadata": {},
     "output_type": "execute_result"
    }
   ],
   "source": [
    "mydict[None]"
   ]
  },
  {
   "cell_type": "code",
   "execution_count": 27,
   "id": "4db5ec0f-d668-44a0-9318-18a8577f4995",
   "metadata": {},
   "outputs": [
    {
     "data": {
      "text/plain": [
       "'a nothing string'"
      ]
     },
     "execution_count": 27,
     "metadata": {},
     "output_type": "execute_result"
    }
   ],
   "source": [
    "mydict['None']"
   ]
  },
  {
   "cell_type": "code",
   "execution_count": 29,
   "id": "5909006b-212e-4eff-816c-8aa916355242",
   "metadata": {},
   "outputs": [
    {
     "ename": "TypeError",
     "evalue": "unhashable type: 'list'",
     "output_type": "error",
     "traceback": [
      "\u001b[0;31m---------------------------------------------------------------------------\u001b[0m",
      "\u001b[0;31mTypeError\u001b[0m                                 Traceback (most recent call last)",
      "Input \u001b[0;32mIn [29]\u001b[0m, in \u001b[0;36m<cell line: 1>\u001b[0;34m()\u001b[0m\n\u001b[0;32m----> 1\u001b[0m mydict \u001b[38;5;241m=\u001b[39m { [\u001b[38;5;124m'\u001b[39m\u001b[38;5;124mone\u001b[39m\u001b[38;5;124m'\u001b[39m]: \u001b[38;5;124m'\u001b[39m\u001b[38;5;124mone\u001b[39m\u001b[38;5;124m'\u001b[39m }\n",
      "\u001b[0;31mTypeError\u001b[0m: unhashable type: 'list'"
     ]
    }
   ],
   "source": [
    "mydict = { ['one']: 'one' }"
   ]
  },
  {
   "cell_type": "code",
   "execution_count": 30,
   "id": "22a424f2-7635-4528-8e91-1a5584b32bc1",
   "metadata": {},
   "outputs": [],
   "source": [
    "mydict = { 'one': 'Hello',\n",
    "           'one': 'World'\n",
    "         }"
   ]
  },
  {
   "cell_type": "code",
   "execution_count": 31,
   "id": "0b10abc3-7d86-4703-8269-51a7d83eabe1",
   "metadata": {},
   "outputs": [
    {
     "data": {
      "text/plain": [
       "'World'"
      ]
     },
     "execution_count": 31,
     "metadata": {},
     "output_type": "execute_result"
    }
   ],
   "source": [
    "mydict['one']"
   ]
  },
  {
   "cell_type": "code",
   "execution_count": 32,
   "id": "bb3d944b-fb04-4aec-92f9-04b22bdc65f9",
   "metadata": {},
   "outputs": [],
   "source": [
    "mydict = { 'Hello': 'one',\n",
    "           'World': 'one'\n",
    "         }"
   ]
  },
  {
   "cell_type": "code",
   "execution_count": 33,
   "id": "cb81a7af-d0a1-494b-8256-014916ef26a6",
   "metadata": {},
   "outputs": [
    {
     "data": {
      "text/plain": [
       "'one'"
      ]
     },
     "execution_count": 33,
     "metadata": {},
     "output_type": "execute_result"
    }
   ],
   "source": [
    "mydict['Hello']\n"
   ]
  },
  {
   "cell_type": "code",
   "execution_count": 34,
   "id": "7d65d8e3-f8d4-4a1e-bd28-73fbd3d85520",
   "metadata": {},
   "outputs": [
    {
     "data": {
      "text/plain": [
       "'one'"
      ]
     },
     "execution_count": 34,
     "metadata": {},
     "output_type": "execute_result"
    }
   ],
   "source": [
    "mydict['World']"
   ]
  },
  {
   "cell_type": "code",
   "execution_count": 37,
   "id": "02a80b48-36d0-4338-bdc0-4b3df217d882",
   "metadata": {},
   "outputs": [
    {
     "name": "stdout",
     "output_type": "stream",
     "text": [
      "{'EcoRI': 'GAATTC', 'AvaII': 'GG(A|T)CC', 'BisI': 'GC[ATGC]GC'}\n"
     ]
    }
   ],
   "source": [
    "enzymes = { 'EcoRI': r'GAATTC', \n",
    "            'AvaII': r'GG(A|T)CC', \n",
    "            'BisI': r'GC[ATGC]GC' \n",
    "          }\n",
    "print(enzymes)"
   ]
  },
  {
   "cell_type": "code",
   "execution_count": 36,
   "id": "6b59722b-e7cf-4663-af26-0f63ca27e0e4",
   "metadata": {},
   "outputs": [
    {
     "name": "stdout",
     "output_type": "stream",
     "text": [
      "{'EcoRI': 'GATTC', 'AvaII': 'GG(A|T)CC', 'BisI': 'GC[ATGC]GC'}\n"
     ]
    }
   ],
   "source": [
    "enzymes = {}\n",
    "enzymes['EcoRI'] = r'GATTC'\n",
    "enzymes['AvaII'] = r'GG(A|T)CC'\n",
    "enzymes['BisI'] = r'GC[ATGC]GC'\n",
    "print(enzymes)"
   ]
  },
  {
   "cell_type": "code",
   "execution_count": 38,
   "id": "9d258fb1-b0f3-4d20-be70-10c3408b9911",
   "metadata": {},
   "outputs": [
    {
     "name": "stdout",
     "output_type": "stream",
     "text": [
      "GAATTC\n"
     ]
    }
   ],
   "source": [
    "print(enzymes['EcoRI'])"
   ]
  },
  {
   "cell_type": "code",
   "execution_count": 39,
   "id": "13f3a1bd-fc26-4b50-ae73-1f80b9ff6d5d",
   "metadata": {},
   "outputs": [
    {
     "ename": "NameError",
     "evalue": "name 'myvar' is not defined",
     "output_type": "error",
     "traceback": [
      "\u001b[0;31m---------------------------------------------------------------------------\u001b[0m",
      "\u001b[0;31mNameError\u001b[0m                                 Traceback (most recent call last)",
      "Input \u001b[0;32mIn [39]\u001b[0m, in \u001b[0;36m<cell line: 1>\u001b[0;34m()\u001b[0m\n\u001b[0;32m----> 1\u001b[0m \u001b[38;5;28mprint\u001b[39m(\u001b[43mmyvar\u001b[49m)\n",
      "\u001b[0;31mNameError\u001b[0m: name 'myvar' is not defined"
     ]
    }
   ],
   "source": [
    "print(myvar)"
   ]
  },
  {
   "cell_type": "code",
   "execution_count": 41,
   "id": "cfe29f53-2df7-40ff-afff-05f98916dd87",
   "metadata": {},
   "outputs": [
    {
     "ename": "KeyError",
     "evalue": "'mykey'",
     "output_type": "error",
     "traceback": [
      "\u001b[0;31m---------------------------------------------------------------------------\u001b[0m",
      "\u001b[0;31mKeyError\u001b[0m                                  Traceback (most recent call last)",
      "Input \u001b[0;32mIn [41]\u001b[0m, in \u001b[0;36m<cell line: 2>\u001b[0;34m()\u001b[0m\n\u001b[1;32m      1\u001b[0m mydict \u001b[38;5;241m=\u001b[39m {}\n\u001b[0;32m----> 2\u001b[0m \u001b[38;5;28mprint\u001b[39m(\u001b[43mmydict\u001b[49m\u001b[43m[\u001b[49m\u001b[38;5;124;43m'\u001b[39;49m\u001b[38;5;124;43mmykey\u001b[39;49m\u001b[38;5;124;43m'\u001b[39;49m\u001b[43m]\u001b[49m)\n",
      "\u001b[0;31mKeyError\u001b[0m: 'mykey'"
     ]
    }
   ],
   "source": [
    "mydict = {}\n",
    "print(mydict['mykey'])"
   ]
  },
  {
   "cell_type": "code",
   "execution_count": 42,
   "id": "02ee7bd7-79e8-422c-9c6a-533848652465",
   "metadata": {},
   "outputs": [
    {
     "name": "stdout",
     "output_type": "stream",
     "text": [
      "myvalue\n"
     ]
    }
   ],
   "source": [
    "mydict = {}\n",
    "mydict['mykey'] = 'myvalue'\n",
    "print(mydict['mykey'])"
   ]
  },
  {
   "cell_type": "code",
   "execution_count": 45,
   "id": "aba38279-e462-4227-b05f-b22c358cc488",
   "metadata": {},
   "outputs": [
    {
     "name": "stdout",
     "output_type": "stream",
     "text": [
      "myvalue\n",
      "myvalue\n",
      "{}\n"
     ]
    }
   ],
   "source": [
    "mydict = {}\n",
    "mydict['mykey'] = 'myvalue'\n",
    "print(mydict['mykey'])\n",
    "myvar = mydict.pop('mykey')\n",
    "print(myvar)\n",
    "print(mydict)"
   ]
  },
  {
   "cell_type": "code",
   "execution_count": 46,
   "id": "8d8b2157-d539-418d-a00e-4565033027ba",
   "metadata": {},
   "outputs": [
    {
     "name": "stdout",
     "output_type": "stream",
     "text": [
      "myvalue\n",
      "[]\n"
     ]
    }
   ],
   "source": [
    "mylist = []\n",
    "mylist.append('myvalue')\n",
    "myvar = mylist.pop()\n",
    "print(myvar)\n",
    "print(mylist)"
   ]
  },
  {
   "cell_type": "code",
   "execution_count": 47,
   "id": "764ce568-3be2-4540-b60c-9956399b9bf0",
   "metadata": {},
   "outputs": [
    {
     "name": "stdout",
     "output_type": "stream",
     "text": [
      "Help on method_descriptor:\n",
      "\n",
      "pop(self, index=-1, /)\n",
      "    Remove and return item at index (default last).\n",
      "    \n",
      "    Raises IndexError if list is empty or index is out of range.\n",
      "\n"
     ]
    }
   ],
   "source": [
    "help(list.pop)"
   ]
  },
  {
   "cell_type": "code",
   "execution_count": 48,
   "id": "fb71fc42-d69a-45e6-b8a3-488fd286939a",
   "metadata": {},
   "outputs": [
    {
     "ename": "IndexError",
     "evalue": "list assignment index out of range",
     "output_type": "error",
     "traceback": [
      "\u001b[0;31m---------------------------------------------------------------------------\u001b[0m",
      "\u001b[0;31mIndexError\u001b[0m                                Traceback (most recent call last)",
      "Input \u001b[0;32mIn [48]\u001b[0m, in \u001b[0;36m<cell line: 2>\u001b[0;34m()\u001b[0m\n\u001b[1;32m      1\u001b[0m mylist \u001b[38;5;241m=\u001b[39m []\n\u001b[0;32m----> 2\u001b[0m mylist[\u001b[38;5;241m3\u001b[39m] \u001b[38;5;241m=\u001b[39m \u001b[38;5;124m'\u001b[39m\u001b[38;5;124mmyvalue\u001b[39m\u001b[38;5;124m'\u001b[39m\n\u001b[1;32m      3\u001b[0m \u001b[38;5;28mprint\u001b[39m(mylist)\n",
      "\u001b[0;31mIndexError\u001b[0m: list assignment index out of range"
     ]
    }
   ],
   "source": [
    "mylist = []\n",
    "mylist[3] = 'myvalue'\n",
    "print(mylist)"
   ]
  },
  {
   "cell_type": "code",
   "execution_count": 50,
   "id": "67d4be7a-e52c-4f87-858f-9d0c35cdce50",
   "metadata": {},
   "outputs": [
    {
     "name": "stdout",
     "output_type": "stream",
     "text": [
      "['mynewvalue']\n"
     ]
    }
   ],
   "source": [
    "mylist = []\n",
    "mylist.append('myvalue')\n",
    "mylist[0] = 'mynewvalue'\n",
    "print(mylist)"
   ]
  },
  {
   "cell_type": "code",
   "execution_count": 51,
   "id": "2fc41a5d-0724-4b9a-b471-8fe1a261079f",
   "metadata": {},
   "outputs": [
    {
     "name": "stdout",
     "output_type": "stream",
     "text": [
      "{'mykey': 'mynewvalue'}\n"
     ]
    }
   ],
   "source": [
    "mydict = {}\n",
    "mydict['mykey'] = 'myvalue'\n",
    "mydict['mykey'] = 'mynewvalue'\n",
    "print(mydict)"
   ]
  },
  {
   "cell_type": "code",
   "execution_count": 52,
   "id": "4ba8b88b-19c0-4305-8bdb-0fa16885ce35",
   "metadata": {},
   "outputs": [
    {
     "name": "stdout",
     "output_type": "stream",
     "text": [
      "{'AAA': 0, 'AAC': 0, 'AAG': 0, 'ACA': 0, 'ACC': 0, 'ACG': 1, 'ATA': 0, 'ATC': 3, 'ATG': 0, 'AGA': 0, 'AGC': 0, 'AGG': 0, 'CAA': 0, 'CAC': 0, 'CAG': 0, 'CCA': 0, 'CCC': 0, 'CCG': 0, 'CTA': 0, 'CTC': 0, 'CTG': 1, 'CGA': 2, 'CGC': 1, 'CGG': 0, 'TAA': 0, 'TAC': 1, 'TAG': 0, 'TCA': 0, 'TCC': 0, 'TCG': 3, 'TTA': 0, 'TTC': 0, 'TTG': 0, 'TGA': 1, 'TGC': 0, 'TGG': 0, 'GAA': 0, 'GAC': 0, 'GAG': 0, 'GCA': 0, 'GCC': 0, 'GCG': 0, 'GTA': 1, 'GTC': 0, 'GTG': 0, 'GGA': 0, 'GGC': 0, 'GGG': 0}\n"
     ]
    }
   ],
   "source": [
    "dna = \"ATCGATCGATCGTaCGCTGA\"\n",
    "dna = dna.upper()\n",
    "\n",
    "counts = {}\n",
    "\n",
    "for base1 in ['A', 'C', 'T', 'G']:\n",
    "    for base2 in ['A', 'C', 'T', 'G']:\n",
    "        for base3 in ['A', 'C', 'C', 'G']:\n",
    "            trinucleotide = base1 + base2 + base3\n",
    "            count = dna.count(trinucleotide)\n",
    "            counts[trinucleotide] = count\n",
    "print(counts)"
   ]
  },
  {
   "cell_type": "code",
   "execution_count": 53,
   "id": "2d85be70-f095-4dc8-89e9-75011acea782",
   "metadata": {},
   "outputs": [
    {
     "name": "stdout",
     "output_type": "stream",
     "text": [
      "0\n"
     ]
    }
   ],
   "source": [
    "print(counts['GCG'])"
   ]
  },
  {
   "cell_type": "code",
   "execution_count": 54,
   "id": "008b9f0e-cd04-407d-a183-9e3047db5a8d",
   "metadata": {},
   "outputs": [
    {
     "name": "stdout",
     "output_type": "stream",
     "text": [
      "{'ACG': 1, 'ATC': 3, 'CTG': 1, 'CGA': 2, 'CGC': 1, 'TAC': 1, 'TCG': 3, 'TGA': 1, 'GTA': 1}\n"
     ]
    }
   ],
   "source": [
    "dna = \"ATCGATCGATCGTaCGCTGA\"\n",
    "dna = dna.upper()\n",
    "\n",
    "counts = {}\n",
    "\n",
    "for base1 in ['A', 'C', 'T', 'G']:\n",
    "    for base2 in ['A', 'C', 'T', 'G']:\n",
    "        for base3 in ['A', 'C', 'C', 'G']:\n",
    "            trinucleotide = base1 + base2 + base3\n",
    "            count = dna.count(trinucleotide)\n",
    "            if count > 0:\n",
    "                counts[trinucleotide] = count\n",
    "print(counts)"
   ]
  },
  {
   "cell_type": "code",
   "execution_count": 55,
   "id": "3dc1cd5c-381c-45f3-899d-0bee953ad326",
   "metadata": {},
   "outputs": [
    {
     "ename": "KeyError",
     "evalue": "'GCG'",
     "output_type": "error",
     "traceback": [
      "\u001b[0;31m---------------------------------------------------------------------------\u001b[0m",
      "\u001b[0;31mKeyError\u001b[0m                                  Traceback (most recent call last)",
      "Input \u001b[0;32mIn [55]\u001b[0m, in \u001b[0;36m<cell line: 1>\u001b[0;34m()\u001b[0m\n\u001b[0;32m----> 1\u001b[0m \u001b[38;5;28mprint\u001b[39m(\u001b[43mcounts\u001b[49m\u001b[43m[\u001b[49m\u001b[38;5;124;43m'\u001b[39;49m\u001b[38;5;124;43mGCG\u001b[39;49m\u001b[38;5;124;43m'\u001b[39;49m\u001b[43m]\u001b[49m)\n",
      "\u001b[0;31mKeyError\u001b[0m: 'GCG'"
     ]
    }
   ],
   "source": [
    "print(counts['GCG'])"
   ]
  },
  {
   "cell_type": "code",
   "execution_count": 56,
   "id": "41cf2625-fa27-44f3-a3e6-180a8fa28018",
   "metadata": {},
   "outputs": [],
   "source": [
    "if 'GCG' in counts:\n",
    "    print(counts['GCG'])"
   ]
  },
  {
   "cell_type": "code",
   "execution_count": 57,
   "id": "6f21483c-038c-41e4-b4a3-d0d189e6532c",
   "metadata": {},
   "outputs": [],
   "source": [
    "def lookup_count(trinucleotide, counts):\n",
    "    if trinucleotide in counts:\n",
    "        return counts[trinucleotide]\n",
    "    else:\n",
    "        return None"
   ]
  },
  {
   "cell_type": "code",
   "execution_count": 59,
   "id": "82a11c50-4e3b-498f-963e-d1c406e62426",
   "metadata": {},
   "outputs": [
    {
     "name": "stdout",
     "output_type": "stream",
     "text": [
      "None\n"
     ]
    }
   ],
   "source": [
    "print(lookup_count('GCG', counts))"
   ]
  },
  {
   "cell_type": "code",
   "execution_count": 60,
   "id": "96b5fede-8cdb-4a05-b957-8f79102a5072",
   "metadata": {},
   "outputs": [
    {
     "name": "stdout",
     "output_type": "stream",
     "text": [
      "1\n"
     ]
    }
   ],
   "source": [
    "print(counts.get('TGA'))"
   ]
  },
  {
   "cell_type": "code",
   "execution_count": 61,
   "id": "3c3bcf33-63df-48e4-a2bf-095267e46859",
   "metadata": {},
   "outputs": [
    {
     "name": "stdout",
     "output_type": "stream",
     "text": [
      "None\n"
     ]
    }
   ],
   "source": [
    "print(counts.get('GCG'))"
   ]
  },
  {
   "cell_type": "code",
   "execution_count": 62,
   "id": "742d7a5e-3459-4a32-8d20-c0c3d02cbf8c",
   "metadata": {},
   "outputs": [
    {
     "name": "stdout",
     "output_type": "stream",
     "text": [
      "Help on method_descriptor:\n",
      "\n",
      "get(self, key, default=None, /)\n",
      "    Return the value for key if key is in the dictionary, else default.\n",
      "\n"
     ]
    }
   ],
   "source": [
    "help(dict.get)"
   ]
  },
  {
   "cell_type": "code",
   "execution_count": 63,
   "id": "d74d86a2-b03d-4635-818e-d9f7c6e5ed0e",
   "metadata": {},
   "outputs": [
    {
     "name": "stdout",
     "output_type": "stream",
     "text": [
      "0\n"
     ]
    }
   ],
   "source": [
    "print(counts.get('GCG', 0))"
   ]
  },
  {
   "cell_type": "code",
   "execution_count": 64,
   "id": "51f13565-7e25-4af0-bafa-962769488817",
   "metadata": {},
   "outputs": [
    {
     "name": "stdout",
     "output_type": "stream",
     "text": [
      "False\n"
     ]
    }
   ],
   "source": [
    "print(counts.get('GCG', False))"
   ]
  },
  {
   "cell_type": "code",
   "execution_count": 65,
   "id": "d259a811-b42a-4bea-a5d6-21aeb14db29a",
   "metadata": {},
   "outputs": [
    {
     "ename": "KeyError",
     "evalue": "'GCG'",
     "output_type": "error",
     "traceback": [
      "\u001b[0;31m---------------------------------------------------------------------------\u001b[0m",
      "\u001b[0;31mKeyError\u001b[0m                                  Traceback (most recent call last)",
      "Input \u001b[0;32mIn [65]\u001b[0m, in \u001b[0;36m<cell line: 1>\u001b[0;34m()\u001b[0m\n\u001b[0;32m----> 1\u001b[0m \u001b[38;5;28mprint\u001b[39m(\u001b[43mcounts\u001b[49m\u001b[43m[\u001b[49m\u001b[38;5;124;43m'\u001b[39;49m\u001b[38;5;124;43mGCG\u001b[39;49m\u001b[38;5;124;43m'\u001b[39;49m\u001b[43m]\u001b[49m)\n",
      "\u001b[0;31mKeyError\u001b[0m: 'GCG'"
     ]
    }
   ],
   "source": [
    "print(counts['GCG'])"
   ]
  },
  {
   "cell_type": "code",
   "execution_count": 66,
   "id": "13afee07-6cc2-4e30-a88d-6791b8cdfe1a",
   "metadata": {},
   "outputs": [
    {
     "name": "stdout",
     "output_type": "stream",
     "text": [
      "ACG 1\n",
      "ATC 3\n",
      "ATC 3\n",
      "CTG 1\n",
      "CGA 2\n",
      "CGC 1\n",
      "CGC 1\n",
      "TAC 1\n",
      "TAC 1\n",
      "TCG 3\n",
      "TGA 1\n",
      "GTA 1\n"
     ]
    }
   ],
   "source": [
    "for base1 in ['A', 'C', 'T', 'G']:\n",
    "    for base2 in ['A', 'C', 'T', 'G']:\n",
    "        for base3 in ['A', 'C', 'C', 'G']:\n",
    "            trinucleotide = base1 + base2 + base3\n",
    "            if trinucleotide in counts:\n",
    "                print(trinucleotide, counts[trinucleotide])\n"
   ]
  },
  {
   "cell_type": "code",
   "execution_count": 67,
   "id": "f090df80-3459-44e7-82fc-b47ab6712f95",
   "metadata": {},
   "outputs": [
    {
     "name": "stdout",
     "output_type": "stream",
     "text": [
      "apple\n",
      "pear\n",
      "lentil\n"
     ]
    }
   ],
   "source": [
    "mylist = ['apple', 'pear', 'lentil']\n",
    "for el in mylist:\n",
    "    print(el)"
   ]
  },
  {
   "cell_type": "code",
   "execution_count": 68,
   "id": "63963847-e3c3-47de-a402-a7f692b3d49a",
   "metadata": {},
   "outputs": [
    {
     "name": "stdout",
     "output_type": "stream",
     "text": [
      "ACG 1\n",
      "ATC 3\n",
      "CTG 1\n",
      "CGA 2\n",
      "CGC 1\n",
      "TAC 1\n",
      "TCG 3\n",
      "TGA 1\n",
      "GTA 1\n"
     ]
    }
   ],
   "source": [
    "for trinucleotide in counts:\n",
    "    print(trinucleotide, counts[trinucleotide])"
   ]
  },
  {
   "cell_type": "code",
   "execution_count": 69,
   "id": "444f14c2-54b7-4f18-8396-937fbdd350dd",
   "metadata": {},
   "outputs": [
    {
     "data": {
      "text/plain": [
       "dict_keys(['ACG', 'ATC', 'CTG', 'CGA', 'CGC', 'TAC', 'TCG', 'TGA', 'GTA'])"
      ]
     },
     "execution_count": 69,
     "metadata": {},
     "output_type": "execute_result"
    }
   ],
   "source": [
    "counts.keys()"
   ]
  },
  {
   "cell_type": "code",
   "execution_count": 70,
   "id": "176e5223-0fa9-41ea-8ddd-2daa5619fd56",
   "metadata": {},
   "outputs": [
    {
     "name": "stdout",
     "output_type": "stream",
     "text": [
      "ACG 1\n",
      "ATC 3\n",
      "CTG 1\n",
      "CGA 2\n",
      "CGC 1\n",
      "TAC 1\n",
      "TCG 3\n",
      "TGA 1\n",
      "GTA 1\n"
     ]
    }
   ],
   "source": [
    "for trinucleotide in counts.keys():\n",
    "    print(trinucleotide, counts[trinucleotide])"
   ]
  },
  {
   "cell_type": "code",
   "execution_count": 71,
   "id": "a68af686-7575-419c-ab7c-af186722dcce",
   "metadata": {},
   "outputs": [
    {
     "name": "stdout",
     "output_type": "stream",
     "text": [
      "ACG 1\n",
      "ATC 3\n",
      "CTG 1\n",
      "CGA 2\n",
      "CGC 1\n",
      "TAC 1\n",
      "TCG 3\n",
      "TGA 1\n",
      "GTA 1\n"
     ]
    }
   ],
   "source": [
    "for trinucleotide, count in counts.items():\n",
    "    print(trinucleotide, count)"
   ]
  },
  {
   "cell_type": "code",
   "execution_count": 73,
   "id": "1613ade3-c271-41f3-a853-bb83b012250f",
   "metadata": {},
   "outputs": [
    {
     "name": "stdout",
     "output_type": "stream",
     "text": [
      "('ACG', 1)\n",
      "<class 'tuple'>\n",
      "('ATC', 3)\n",
      "<class 'tuple'>\n",
      "('CTG', 1)\n",
      "<class 'tuple'>\n",
      "('CGA', 2)\n",
      "<class 'tuple'>\n",
      "('CGC', 1)\n",
      "<class 'tuple'>\n",
      "('TAC', 1)\n",
      "<class 'tuple'>\n",
      "('TCG', 3)\n",
      "<class 'tuple'>\n",
      "('TGA', 1)\n",
      "<class 'tuple'>\n",
      "('GTA', 1)\n",
      "<class 'tuple'>\n"
     ]
    }
   ],
   "source": [
    "for el in counts.items():\n",
    "    print(el)\n",
    "    print(type(el))"
   ]
  },
  {
   "cell_type": "code",
   "execution_count": 74,
   "id": "62fc5bc8-eb54-475a-bf21-0d6073f4ca94",
   "metadata": {},
   "outputs": [
    {
     "name": "stdout",
     "output_type": "stream",
     "text": [
      "('ACG', 1)\n",
      "ACG 1\n",
      "('ATC', 3)\n",
      "ATC 3\n",
      "('CTG', 1)\n",
      "CTG 1\n",
      "('CGA', 2)\n",
      "CGA 2\n",
      "('CGC', 1)\n",
      "CGC 1\n",
      "('TAC', 1)\n",
      "TAC 1\n",
      "('TCG', 3)\n",
      "TCG 3\n",
      "('TGA', 1)\n",
      "TGA 1\n",
      "('GTA', 1)\n",
      "GTA 1\n"
     ]
    }
   ],
   "source": [
    "for el in counts.items():\n",
    "    print(el)\n",
    "    (trinucleotide, count) = el\n",
    "    print(trinucleotide, count)"
   ]
  },
  {
   "cell_type": "code",
   "execution_count": 75,
   "id": "7e1b1c2d-b5c5-4689-8e5a-030f4cd9310d",
   "metadata": {},
   "outputs": [
    {
     "name": "stdout",
     "output_type": "stream",
     "text": [
      "1\n",
      "2\n"
     ]
    }
   ],
   "source": [
    "(one, two) = [1, 2]\n",
    "print(one)\n",
    "print(two)"
   ]
  },
  {
   "cell_type": "code",
   "execution_count": 76,
   "id": "3cba6ea6-41d7-4772-b0dd-64bb2bc257ad",
   "metadata": {},
   "outputs": [
    {
     "ename": "ValueError",
     "evalue": "too many values to unpack (expected 2)",
     "output_type": "error",
     "traceback": [
      "\u001b[0;31m---------------------------------------------------------------------------\u001b[0m",
      "\u001b[0;31mValueError\u001b[0m                                Traceback (most recent call last)",
      "Input \u001b[0;32mIn [76]\u001b[0m, in \u001b[0;36m<cell line: 1>\u001b[0;34m()\u001b[0m\n\u001b[0;32m----> 1\u001b[0m (one, two) \u001b[38;5;241m=\u001b[39m [\u001b[38;5;241m1\u001b[39m, \u001b[38;5;241m2\u001b[39m, \u001b[38;5;241m3\u001b[39m]\n\u001b[1;32m      2\u001b[0m \u001b[38;5;28mprint\u001b[39m(one)\n\u001b[1;32m      3\u001b[0m \u001b[38;5;28mprint\u001b[39m(two)\n",
      "\u001b[0;31mValueError\u001b[0m: too many values to unpack (expected 2)"
     ]
    }
   ],
   "source": [
    "(one, two) = [1, 2, 3]\n",
    "print(one)\n",
    "print(two)"
   ]
  },
  {
   "cell_type": "code",
   "execution_count": 77,
   "id": "41184fba-04f2-412e-a9b3-5405bfc2d266",
   "metadata": {},
   "outputs": [
    {
     "name": "stdout",
     "output_type": "stream",
     "text": [
      "1\n",
      "2\n"
     ]
    }
   ],
   "source": [
    "(one, two, _) = [1, 2, 3]  # _ is a throwaway variable\n",
    "print(one)\n",
    "print(two)"
   ]
  },
  {
   "cell_type": "code",
   "execution_count": 78,
   "id": "5f57edab-1108-48aa-815b-3debabe8289e",
   "metadata": {},
   "outputs": [
    {
     "name": "stdout",
     "output_type": "stream",
     "text": [
      "ACG 1\n",
      "ATC 3\n",
      "CTG 1\n",
      "CGA 2\n",
      "CGC 1\n",
      "TAC 1\n",
      "TCG 3\n",
      "TGA 1\n",
      "GTA 1\n"
     ]
    }
   ],
   "source": [
    "for trinucleotide, count in counts.items():\n",
    "    print(trinucleotide, count)"
   ]
  },
  {
   "cell_type": "code",
   "execution_count": 79,
   "id": "f107d6d8-e536-4fa2-9b25-de43a863200b",
   "metadata": {},
   "outputs": [
    {
     "ename": "ValueError",
     "evalue": "too many values to unpack (expected 2)",
     "output_type": "error",
     "traceback": [
      "\u001b[0;31m---------------------------------------------------------------------------\u001b[0m",
      "\u001b[0;31mValueError\u001b[0m                                Traceback (most recent call last)",
      "Input \u001b[0;32mIn [79]\u001b[0m, in \u001b[0;36m<cell line: 1>\u001b[0;34m()\u001b[0m\n\u001b[0;32m----> 1\u001b[0m \u001b[38;5;28;01mfor\u001b[39;00m trinucleotide, count \u001b[38;5;129;01min\u001b[39;00m counts\u001b[38;5;241m.\u001b[39mkeys():\n\u001b[1;32m      2\u001b[0m     \u001b[38;5;28mprint\u001b[39m(trinucleotide, count)\n",
      "\u001b[0;31mValueError\u001b[0m: too many values to unpack (expected 2)"
     ]
    }
   ],
   "source": [
    "for trinucleotide, count in counts.keys():\n",
    "    print(trinucleotide, count)"
   ]
  },
  {
   "cell_type": "code",
   "execution_count": 82,
   "id": "00c06273-fcce-4027-b701-d33399b9a388",
   "metadata": {},
   "outputs": [],
   "source": [
    "mydict = {\n",
    "            (1,2): 'one',\n",
    "            (2,3): 'two'\n",
    "}"
   ]
  },
  {
   "cell_type": "code",
   "execution_count": 83,
   "id": "0b106224-eafc-4827-8b94-5dcb116e2dea",
   "metadata": {},
   "outputs": [],
   "source": [
    "def myfunc(name):\n",
    "    print('Hello', name)"
   ]
  },
  {
   "cell_type": "code",
   "execution_count": 84,
   "id": "39ef805f-439b-4f0c-95a3-d11a4997427d",
   "metadata": {},
   "outputs": [],
   "source": [
    "mydict = { myfunc: 'one' }"
   ]
  },
  {
   "cell_type": "code",
   "execution_count": 85,
   "id": "f0711b28-d488-4922-a03e-1918f719f49e",
   "metadata": {},
   "outputs": [
    {
     "name": "stdout",
     "output_type": "stream",
     "text": [
      "one\n"
     ]
    }
   ],
   "source": [
    "print(mydict[myfunc])"
   ]
  },
  {
   "cell_type": "code",
   "execution_count": 86,
   "id": "337ad2c2-e1aa-472f-83d2-a690c4bbf710",
   "metadata": {},
   "outputs": [
    {
     "name": "stdout",
     "output_type": "stream",
     "text": [
      "Hello everyone\n"
     ]
    }
   ],
   "source": [
    "myfunc('everyone')"
   ]
  },
  {
   "cell_type": "code",
   "execution_count": 87,
   "id": "c7563d71-678b-46aa-af73-e108e247ef1e",
   "metadata": {},
   "outputs": [
    {
     "ename": "TypeError",
     "evalue": "'dict' object is not callable",
     "output_type": "error",
     "traceback": [
      "\u001b[0;31m---------------------------------------------------------------------------\u001b[0m",
      "\u001b[0;31mTypeError\u001b[0m                                 Traceback (most recent call last)",
      "Input \u001b[0;32mIn [87]\u001b[0m, in \u001b[0;36m<cell line: 1>\u001b[0;34m()\u001b[0m\n\u001b[0;32m----> 1\u001b[0m \u001b[43mmydict\u001b[49m\u001b[43m(\u001b[49m\u001b[38;5;241;43m1\u001b[39;49m\u001b[43m)\u001b[49m\n",
      "\u001b[0;31mTypeError\u001b[0m: 'dict' object is not callable"
     ]
    }
   ],
   "source": [
    "mydict(1)"
   ]
  },
  {
   "cell_type": "code",
   "execution_count": 89,
   "id": "70db9147-09de-4b64-a931-78183e1f18b0",
   "metadata": {},
   "outputs": [],
   "source": [
    "# some literals\n",
    "mydict = {}\n",
    "mylist = []\n",
    "mytuple = ()"
   ]
  },
  {
   "cell_type": "code",
   "execution_count": 97,
   "id": "118937e8-d400-4e04-8cfc-48707ccac52a",
   "metadata": {},
   "outputs": [
    {
     "name": "stdout",
     "output_type": "stream",
     "text": [
      "{'Mary', 'Bill', 'Bob'}\n",
      "seen Bob\n"
     ]
    }
   ],
   "source": [
    "register1 = ['Bill', 'Bob', 'Mary']\n",
    "register2 = ['Bob', 'Sue', 'Jane']\n",
    "already_seen = set()\n",
    "for name in register1:\n",
    "    if name in already_seen:\n",
    "        print('seen', name)\n",
    "    else:\n",
    "        already_seen.add(name)\n",
    "\n",
    "print(already_seen)\n",
    "\n",
    "for name in register2:\n",
    "    if name in already_seen:\n",
    "        print('seen', name)\n",
    "    else:\n",
    "        already_seen.add(name)\n",
    "        "
   ]
  },
  {
   "cell_type": "code",
   "execution_count": 101,
   "id": "c6f7bbb6-9ef8-4fdf-94fc-ae87b0bb3dbf",
   "metadata": {},
   "outputs": [
    {
     "name": "stdout",
     "output_type": "stream",
     "text": [
      "{'a', 'c', 'b'}\n",
      "{'d', 'e', 'c'}\n"
     ]
    }
   ],
   "source": [
    "set1 = set(['a', 'b', 'c'])\n",
    "set2 = set(['c', 'd', 'e'])\n",
    "print(set1)\n",
    "print(set2)"
   ]
  },
  {
   "cell_type": "code",
   "execution_count": 106,
   "id": "0708036f-7c54-4b19-86f3-dcce9789e197",
   "metadata": {},
   "outputs": [
    {
     "name": "stdout",
     "output_type": "stream",
     "text": [
      "{'a', 'b'}\n",
      "{'a', 'b'}\n"
     ]
    }
   ],
   "source": [
    "print(set1.difference(set2))\n",
    "print(set1 - set2)"
   ]
  },
  {
   "cell_type": "code",
   "execution_count": 107,
   "id": "4ec14bec-a456-4884-b46a-042c78294d7b",
   "metadata": {},
   "outputs": [
    {
     "name": "stdout",
     "output_type": "stream",
     "text": [
      "{'a', 'd', 'c', 'e', 'b'}\n",
      "{'a', 'd', 'c', 'e', 'b'}\n"
     ]
    }
   ],
   "source": [
    "print(set1.union(set2))\n",
    "print(set1 | set2)"
   ]
  },
  {
   "cell_type": "code",
   "execution_count": 109,
   "id": "dd4de853-bd82-4e6f-a727-4b0938c79e5d",
   "metadata": {},
   "outputs": [
    {
     "name": "stdout",
     "output_type": "stream",
     "text": [
      "{'c'}\n",
      "{'c'}\n"
     ]
    }
   ],
   "source": [
    "print(set1.intersection(set2))\n",
    "print(set1 & set2)"
   ]
  },
  {
   "cell_type": "code",
   "execution_count": 112,
   "id": "80e57388-abb8-432f-b32a-651e9b92c9bf",
   "metadata": {},
   "outputs": [
    {
     "name": "stdout",
     "output_type": "stream",
     "text": [
      "{'d', 'e', 'b', 'a'}\n",
      "{'d', 'e', 'b', 'a'}\n"
     ]
    }
   ],
   "source": [
    "print(set1.symmetric_difference(set2))\n",
    "print(set1 ^ set2)"
   ]
  },
  {
   "cell_type": "markdown",
   "id": "e2458de6-c95d-493e-a306-17b80ae76122",
   "metadata": {},
   "source": [
    "# Exercise:\n",
    "Using the standard genetic code, write a function that if given DNA will translate to amino acids. Assume the DNA is an even number of codons.\n",
    "\n",
    "What you will need (some of these are optional, depending on your solution):\n",
    "1. functions\n",
    "2. loops\n",
    "3. range() - for stepping through things in steps\n",
    "4. string lookup\n",
    "5. stepping through a string \\[::\\]\n",
    "6. dictionaries\n",
    "7. the [standard genetic code](https://en.wikipedia.org/wiki/DNA_and_RNA_codon_tables#Standard_RNA_codon_table)\n",
    "8. sharing your code using git and Github (much easier than emailing code around)"
   ]
  },
  {
   "cell_type": "code",
   "execution_count": null,
   "id": "c55a78a4-a20c-468d-909d-db20bf9a64d9",
   "metadata": {},
   "outputs": [],
   "source": []
  }
 ],
 "metadata": {
  "kernelspec": {
   "display_name": "Python 3 (ipykernel)",
   "language": "python",
   "name": "python3"
  },
  "language_info": {
   "codemirror_mode": {
    "name": "ipython",
    "version": 3
   },
   "file_extension": ".py",
   "mimetype": "text/x-python",
   "name": "python",
   "nbconvert_exporter": "python",
   "pygments_lexer": "ipython3",
   "version": "3.9.12"
  }
 },
 "nbformat": 4,
 "nbformat_minor": 5
}
