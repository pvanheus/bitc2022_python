{
 "cells": [
  {
   "cell_type": "markdown",
   "id": "5da52570-b562-440b-a36b-c7d4080a685e",
   "metadata": {},
   "source": [
    "## Chapter 5: Writing our own functions"
   ]
  },
  {
   "cell_type": "code",
   "execution_count": 1,
   "id": "3e80fa21-82fb-4b2f-9e39-390bcdcc2f9e",
   "metadata": {},
   "outputs": [],
   "source": [
    "mystring = \"abcdef\"\n",
    "length_of_string = len(mystring)  # function len\n",
    "uppercase_string = mystring.upper()  # method upper"
   ]
  },
  {
   "cell_type": "code",
   "execution_count": 2,
   "id": "02c8c5d1-9978-4749-a0e9-b681d2c0d4f5",
   "metadata": {},
   "outputs": [
    {
     "name": "stdout",
     "output_type": "stream",
     "text": [
      "AT content is 0.6851851851851852\n"
     ]
    }
   ],
   "source": [
    "my_dna = \"ACTGATCGATTACGTATAGTATTTGCTATCATACATATATATCGATGCGTTCAT\"\n",
    "length = len(my_dna)\n",
    "a_count = my_dna.count('A')\n",
    "t_count = my_dna.count('T')\n",
    "at_content = (a_count + t_count) / length\n",
    "print(\"AT content is\", at_content)"
   ]
  },
  {
   "cell_type": "code",
   "execution_count": 5,
   "id": "5ea9f660-8316-4f9b-8707-112060c8645d",
   "metadata": {},
   "outputs": [
    {
     "name": "stdout",
     "output_type": "stream",
     "text": [
      "AT content is 2.4285714285714284\n"
     ]
    }
   ],
   "source": [
    "# violating the DRY principle\n",
    "# Don't Repeat Yourself\n",
    "my_other_dna = \"GATACCA\"\n",
    "\n",
    "length = len(my_other_dna)\n",
    "a_count = my_dna.count('A')\n",
    "t_count = my_other_dna.count('T')\n",
    "at_content = (a_count + t_count) / length\n",
    "print(\"AT content is\", at_content)"
   ]
  },
  {
   "cell_type": "code",
   "execution_count": 6,
   "id": "0bfcffb9-db1a-4d2f-8292-d4dfbdbe61f4",
   "metadata": {},
   "outputs": [
    {
     "ename": "NameError",
     "evalue": "name 'get_at_content' is not defined",
     "output_type": "error",
     "traceback": [
      "\u001b[0;31m---------------------------------------------------------------------------\u001b[0m",
      "\u001b[0;31mNameError\u001b[0m                                 Traceback (most recent call last)",
      "\u001b[0;32m/tmp/ipykernel_747880/2162980042.py\u001b[0m in \u001b[0;36m<module>\u001b[0;34m\u001b[0m\n\u001b[1;32m      1\u001b[0m \u001b[0mmy_dna\u001b[0m \u001b[0;34m=\u001b[0m \u001b[0;34m\"ACTGATCGATTACGTATAGTATTTGCTATCATACATATATATCGATGCGTTCAT\"\u001b[0m\u001b[0;34m\u001b[0m\u001b[0;34m\u001b[0m\u001b[0m\n\u001b[1;32m      2\u001b[0m \u001b[0;34m\u001b[0m\u001b[0m\n\u001b[0;32m----> 3\u001b[0;31m \u001b[0mat_content\u001b[0m \u001b[0;34m=\u001b[0m \u001b[0mget_at_content\u001b[0m\u001b[0;34m(\u001b[0m\u001b[0mmy_dna\u001b[0m\u001b[0;34m)\u001b[0m\u001b[0;34m\u001b[0m\u001b[0;34m\u001b[0m\u001b[0m\n\u001b[0m",
      "\u001b[0;31mNameError\u001b[0m: name 'get_at_content' is not defined"
     ]
    }
   ],
   "source": [
    "my_dna = \"ACTGATCGATTACGTATAGTATTTGCTATCATACATATATATCGATGCGTTCAT\"\n",
    "\n",
    "at_content = get_at_content(my_dna)"
   ]
  },
  {
   "cell_type": "code",
   "execution_count": 7,
   "id": "3ac57316-eadf-41b2-891d-4112128dc154",
   "metadata": {},
   "outputs": [],
   "source": []
  },
  {
   "cell_type": "code",
   "execution_count": 11,
   "id": "bfd021fc-ba2c-4381-8626-8f5c2d9ceb20",
   "metadata": {},
   "outputs": [
    {
     "name": "stdout",
     "output_type": "stream",
     "text": [
      "AT content: 0.6851851851851852\n"
     ]
    }
   ],
   "source": [
    "def get_at_content(dna):\n",
    "    length = len(dna)\n",
    "    a_count = dna.count('A')\n",
    "    t_count = dna.count('T')\n",
    "    at_content = (a_count + t_count) / length\n",
    "    return at_content\n",
    "\n",
    "my_dna = \"ACTGATCGATTACGTATAGTATTTGCTATCATACATATATATCGATGCGTTCAT\"\n",
    "\n",
    "at_content = get_at_content(my_dna)\n",
    "print(\"AT content:\", at_content)"
   ]
  },
  {
   "cell_type": "code",
   "execution_count": 10,
   "id": "029c3f2b-00f4-4116-8135-93afcd79e321",
   "metadata": {},
   "outputs": [
    {
     "name": "stdout",
     "output_type": "stream",
     "text": [
      "AT content: None\n"
     ]
    }
   ],
   "source": [
    "def get_at_content(dna):\n",
    "    length = len(dna)\n",
    "    a_count = dna.count('A')\n",
    "    t_count = dna.count('T')\n",
    "    at_content = (a_count + t_count) / length\n",
    "\n",
    "my_dna = \"ACTGATCGATTACGTATAGTATTTGCTATCATACATATATATCGATGCGTTCAT\"\n",
    "\n",
    "at_content = get_at_content(my_dna)\n",
    "print(\"AT content:\", at_content)"
   ]
  },
  {
   "cell_type": "code",
   "execution_count": 13,
   "id": "2df9264c-d38a-46b3-ac03-50f451bfdb5e",
   "metadata": {},
   "outputs": [
    {
     "name": "stdout",
     "output_type": "stream",
     "text": [
      "Hello World\n",
      "value is: None\n",
      "value is: None\n"
     ]
    }
   ],
   "source": [
    "val = print(\"Hello World\")\n",
    "print(\"value is:\", val)\n",
    "my_list = [\"a\", \"b\"]\n",
    "val = my_list.sort()\n",
    "print(\"value is:\", val)"
   ]
  },
  {
   "cell_type": "code",
   "execution_count": 19,
   "id": "dd593686-45c0-4ebf-ba7d-3349d596017e",
   "metadata": {},
   "outputs": [
    {
     "name": "stdout",
     "output_type": "stream",
     "text": [
      "AT content: 0.5\n"
     ]
    }
   ],
   "source": [
    "def get_at_content():\n",
    "    length = len(my_dna)\n",
    "    a_count = my_dna.count('A')\n",
    "    t_count = my_dna.count('T')\n",
    "    at_content = (a_count + t_count) / length\n",
    "    return at_content\n",
    "\n",
    "my_dna = \"AATTGGCC\"\n",
    "at_content = get_at_content()\n",
    "print(\"AT content:\", at_content)"
   ]
  },
  {
   "cell_type": "code",
   "execution_count": 21,
   "id": "ca1c81d3-fc32-4f0f-b9a3-8f7f917102ce",
   "metadata": {},
   "outputs": [
    {
     "name": "stdout",
     "output_type": "stream",
     "text": [
      "Hello Peter\n"
     ]
    },
    {
     "ename": "NameError",
     "evalue": "name 'name' is not defined",
     "output_type": "error",
     "traceback": [
      "\u001b[0;31m---------------------------------------------------------------------------\u001b[0m",
      "\u001b[0;31mNameError\u001b[0m                                 Traceback (most recent call last)",
      "\u001b[0;32m/tmp/ipykernel_747880/3817888548.py\u001b[0m in \u001b[0;36m<module>\u001b[0;34m\u001b[0m\n\u001b[1;32m      3\u001b[0m \u001b[0;34m\u001b[0m\u001b[0m\n\u001b[1;32m      4\u001b[0m \u001b[0msay_hello\u001b[0m\u001b[0;34m(\u001b[0m\u001b[0;34m\"Peter\"\u001b[0m\u001b[0;34m)\u001b[0m\u001b[0;34m\u001b[0m\u001b[0;34m\u001b[0m\u001b[0m\n\u001b[0;32m----> 5\u001b[0;31m \u001b[0mprint\u001b[0m\u001b[0;34m(\u001b[0m\u001b[0;34m\"Hello\"\u001b[0m\u001b[0;34m,\u001b[0m \u001b[0mname\u001b[0m\u001b[0;34m)\u001b[0m\u001b[0;34m\u001b[0m\u001b[0;34m\u001b[0m\u001b[0m\n\u001b[0m",
      "\u001b[0;31mNameError\u001b[0m: name 'name' is not defined"
     ]
    }
   ],
   "source": [
    "def say_hello(name):\n",
    "    print(\"Hello\", name)\n",
    "\n",
    "say_hello(\"Peter\")\n",
    "print(\"Hello\", name)"
   ]
  },
  {
   "cell_type": "code",
   "execution_count": 31,
   "id": "8e7e8af2-bbdf-4f1b-8a9b-45dfde6d097c",
   "metadata": {},
   "outputs": [
    {
     "name": "stdout",
     "output_type": "stream",
     "text": [
      "AT content: 0.5\n",
      "0.5\n",
      "aaccttgg\n",
      "0.53\n"
     ]
    }
   ],
   "source": [
    "def get_at_content(dna):\n",
    "    dna = dna.upper()\n",
    "    length = len(dna)\n",
    "    a_count = dna.count('A')\n",
    "    t_count = dna.count('T')\n",
    "    at_content = round((a_count + t_count) / length, 2)\n",
    "    \n",
    "    return at_content\n",
    "\n",
    "my_dna = \"AATTGGCC\"\n",
    "\n",
    "at_content = get_at_content(my_dna)\n",
    "print(\"AT content:\", at_content)\n",
    "my_lc_dna = \"aaccttgg\"\n",
    "print(get_at_content(my_lc_dna))\n",
    "print(my_lc_dna)\n",
    "my_longer_dna = \"ATGCATGCAACTGTAGC\"\n",
    "print(get_at_content(my_longer_dna))"
   ]
  },
  {
   "cell_type": "code",
   "execution_count": 34,
   "id": "ec5d1e18-de40-41a6-851a-290a60c3c818",
   "metadata": {},
   "outputs": [
    {
     "name": "stdout",
     "output_type": "stream",
     "text": [
      "AT content: 0.57\n",
      "value is: None\n"
     ]
    }
   ],
   "source": [
    "def print_at_content(dna):\n",
    "    at_content = get_at_content(dna)\n",
    "    print(\"AT content:\", at_content)\n",
    "    \n",
    "val = print_at_content(\"GATACCA\")\n",
    "print(\"value is:\", val) "
   ]
  },
  {
   "cell_type": "markdown",
   "id": "a5e4b881-9aed-4001-bb0f-2ad4d35f81da",
   "metadata": {},
   "source": [
    "### Named parameters"
   ]
  },
  {
   "cell_type": "code",
   "execution_count": 43,
   "id": "cb04dc41-b607-428a-a4ed-322f32673702",
   "metadata": {},
   "outputs": [
    {
     "name": "stdout",
     "output_type": "stream",
     "text": [
      "0.71\n",
      "0.714\n",
      "0.714\n",
      "0.714\n",
      "0.714\n"
     ]
    }
   ],
   "source": [
    "def get_at_content(dna, num_digits):\n",
    "    dna = dna.upper()\n",
    "    length = len(dna)\n",
    "    a_count = dna.count('A')\n",
    "    t_count = dna.count('T')\n",
    "    at_content = round((a_count + t_count) / length, num_digits)\n",
    "    \n",
    "    return at_content\n",
    "\n",
    "print(get_at_content(\"GATTACA\", 2))\n",
    "print(get_at_content(\"GATTACA\", 3))\n",
    "print(get_at_content(\"GATTACA\", num_digits=3))\n",
    "print(get_at_content(dna=\"GATTACA\", num_digits=3))\n",
    "# print(get_at_content(dna=\"GATTACA\", 3))  # ERROR - named parameters must always follow unnamed parameters\n",
    "print(get_at_content(num_digits=3, dna=\"GATTACA\"))  # named parameters can be in any order\n",
    "# print(get_at_content(3, \"GATTACA\"))  # unnamed parameters need to be the in same order as in the function definition"
   ]
  },
  {
   "cell_type": "markdown",
   "id": "8ce92d69-ee95-4684-9ed9-31bce22fb3c9",
   "metadata": {},
   "source": [
    "### Default parameters"
   ]
  },
  {
   "cell_type": "code",
   "execution_count": 47,
   "id": "d882c0ed-2cd7-4301-aff4-930028287a96",
   "metadata": {},
   "outputs": [
    {
     "name": "stdout",
     "output_type": "stream",
     "text": [
      "0.571\n",
      "0.57\n"
     ]
    }
   ],
   "source": [
    "def get_at_content(dna, num_digits=2):\n",
    "    dna = dna.upper()\n",
    "    length = len(dna)\n",
    "    a_count = dna.count('A')\n",
    "    t_count = dna.count('T')\n",
    "    at_content = round((a_count + t_count) / length, num_digits)\n",
    "    \n",
    "    return at_content    \n",
    "\n",
    "print(get_at_content(\"GATACCA\", 3))\n",
    "print(get_at_content(\"GATACCA\"))  # leave the num_digits parameter as its default"
   ]
  },
  {
   "cell_type": "code",
   "execution_count": 48,
   "id": "2ee128c8-9782-43a5-9f96-9b25e6bbb14c",
   "metadata": {},
   "outputs": [],
   "source": [
    "def greet(name=''):\n",
    "    print(\"Hello\", name)"
   ]
  },
  {
   "cell_type": "code",
   "execution_count": 49,
   "id": "abd62a55-3e20-4c6e-a6c3-bca2759eb4e9",
   "metadata": {},
   "outputs": [
    {
     "name": "stdout",
     "output_type": "stream",
     "text": [
      "Hello Peter\n"
     ]
    }
   ],
   "source": [
    "greet(\"Peter\")"
   ]
  },
  {
   "cell_type": "code",
   "execution_count": 50,
   "id": "033618da-92a5-4fea-a3d1-ed103f47407b",
   "metadata": {},
   "outputs": [
    {
     "name": "stdout",
     "output_type": "stream",
     "text": [
      "Hello \n"
     ]
    }
   ],
   "source": [
    "greet()"
   ]
  },
  {
   "cell_type": "code",
   "execution_count": 51,
   "id": "b40d8ee1-f9da-46fa-a769-ba4d6d7b0c23",
   "metadata": {},
   "outputs": [
    {
     "data": {
      "text/plain": [
       "3"
      ]
     },
     "execution_count": 51,
     "metadata": {},
     "output_type": "execute_result"
    }
   ],
   "source": [
    "len(\"abc\")"
   ]
  },
  {
   "cell_type": "code",
   "execution_count": 52,
   "id": "c6fa0c5e-a7ff-4498-a3b7-c04e4ef3170c",
   "metadata": {},
   "outputs": [
    {
     "ename": "TypeError",
     "evalue": "len() takes exactly one argument (0 given)",
     "output_type": "error",
     "traceback": [
      "\u001b[0;31m---------------------------------------------------------------------------\u001b[0m",
      "\u001b[0;31mTypeError\u001b[0m                                 Traceback (most recent call last)",
      "\u001b[0;32m/tmp/ipykernel_747880/3175031574.py\u001b[0m in \u001b[0;36m<module>\u001b[0;34m\u001b[0m\n\u001b[0;32m----> 1\u001b[0;31m \u001b[0mlen\u001b[0m\u001b[0;34m(\u001b[0m\u001b[0;34m)\u001b[0m\u001b[0;34m\u001b[0m\u001b[0;34m\u001b[0m\u001b[0m\n\u001b[0m",
      "\u001b[0;31mTypeError\u001b[0m: len() takes exactly one argument (0 given)"
     ]
    }
   ],
   "source": [
    "len()"
   ]
  },
  {
   "cell_type": "code",
   "execution_count": 53,
   "id": "de42a8b3-2aaa-4c48-8c42-481e48a0d35f",
   "metadata": {},
   "outputs": [],
   "source": [
    "my_file = open(\"dna.txt\")"
   ]
  },
  {
   "cell_type": "code",
   "execution_count": 54,
   "id": "ad531aef-3fbc-4426-bf8e-f337161a4713",
   "metadata": {},
   "outputs": [
    {
     "ename": "TypeError",
     "evalue": "open() missing required argument 'file' (pos 1)",
     "output_type": "error",
     "traceback": [
      "\u001b[0;31m---------------------------------------------------------------------------\u001b[0m",
      "\u001b[0;31mTypeError\u001b[0m                                 Traceback (most recent call last)",
      "\u001b[0;32m/tmp/ipykernel_747880/1976818279.py\u001b[0m in \u001b[0;36m<module>\u001b[0;34m\u001b[0m\n\u001b[0;32m----> 1\u001b[0;31m \u001b[0mmy_file\u001b[0m \u001b[0;34m=\u001b[0m \u001b[0mopen\u001b[0m\u001b[0;34m(\u001b[0m\u001b[0;34m)\u001b[0m\u001b[0;34m\u001b[0m\u001b[0;34m\u001b[0m\u001b[0m\n\u001b[0m",
      "\u001b[0;31mTypeError\u001b[0m: open() missing required argument 'file' (pos 1)"
     ]
    }
   ],
   "source": [
    "my_file = open()"
   ]
  },
  {
   "cell_type": "code",
   "execution_count": 55,
   "id": "8b4dcf27-688b-4cdc-b725-73573bb3a235",
   "metadata": {},
   "outputs": [
    {
     "ename": "TypeError",
     "evalue": "replace expected at least 2 arguments, got 0",
     "output_type": "error",
     "traceback": [
      "\u001b[0;31m---------------------------------------------------------------------------\u001b[0m",
      "\u001b[0;31mTypeError\u001b[0m                                 Traceback (most recent call last)",
      "\u001b[0;32m/tmp/ipykernel_747880/2068441824.py\u001b[0m in \u001b[0;36m<module>\u001b[0;34m\u001b[0m\n\u001b[0;32m----> 1\u001b[0;31m \u001b[0;34m\"abc\"\u001b[0m\u001b[0;34m.\u001b[0m\u001b[0mreplace\u001b[0m\u001b[0;34m(\u001b[0m\u001b[0;34m)\u001b[0m\u001b[0;34m\u001b[0m\u001b[0;34m\u001b[0m\u001b[0m\n\u001b[0m",
      "\u001b[0;31mTypeError\u001b[0m: replace expected at least 2 arguments, got 0"
     ]
    }
   ],
   "source": [
    "\"abc\".replace()"
   ]
  },
  {
   "cell_type": "code",
   "execution_count": 56,
   "id": "74cfbba5-1691-41a2-80a8-2283b09cd3b3",
   "metadata": {},
   "outputs": [
    {
     "ename": "TypeError",
     "evalue": "replace expected at least 2 arguments, got 1",
     "output_type": "error",
     "traceback": [
      "\u001b[0;31m---------------------------------------------------------------------------\u001b[0m",
      "\u001b[0;31mTypeError\u001b[0m                                 Traceback (most recent call last)",
      "\u001b[0;32m/tmp/ipykernel_747880/673089771.py\u001b[0m in \u001b[0;36m<module>\u001b[0;34m\u001b[0m\n\u001b[0;32m----> 1\u001b[0;31m \u001b[0;34m\"abc\"\u001b[0m\u001b[0;34m.\u001b[0m\u001b[0mreplace\u001b[0m\u001b[0;34m(\u001b[0m\u001b[0;34m\"a\"\u001b[0m\u001b[0;34m)\u001b[0m\u001b[0;34m\u001b[0m\u001b[0;34m\u001b[0m\u001b[0m\n\u001b[0m",
      "\u001b[0;31mTypeError\u001b[0m: replace expected at least 2 arguments, got 1"
     ]
    }
   ],
   "source": [
    "\"abc\".replace(\"a\")"
   ]
  },
  {
   "cell_type": "code",
   "execution_count": 58,
   "id": "a2722d19-e1cb-414b-8124-e8d8b5d73b7d",
   "metadata": {},
   "outputs": [
    {
     "data": {
      "text/plain": [
       "'bc'"
      ]
     },
     "execution_count": 58,
     "metadata": {},
     "output_type": "execute_result"
    }
   ],
   "source": [
    "\"abc\".replace(\"a\", \"\")"
   ]
  },
  {
   "cell_type": "code",
   "execution_count": 59,
   "id": "7202621c-cc7a-4211-942c-b5b21ae19b03",
   "metadata": {},
   "outputs": [
    {
     "name": "stdout",
     "output_type": "stream",
     "text": [
      "\n"
     ]
    }
   ],
   "source": [
    "print()"
   ]
  },
  {
   "cell_type": "code",
   "execution_count": 60,
   "id": "cf29d821-0473-45f2-8a92-c72add2a777a",
   "metadata": {},
   "outputs": [
    {
     "name": "stdout",
     "output_type": "stream",
     "text": [
      "abc^def\n"
     ]
    }
   ],
   "source": [
    "print(\"abc\", \"def\", sep=\"^\")"
   ]
  },
  {
   "cell_type": "code",
   "execution_count": 61,
   "id": "43af5396-10e7-4e62-88c8-db9fd01b32ab",
   "metadata": {},
   "outputs": [
    {
     "name": "stdout",
     "output_type": "stream",
     "text": [
      "abc def\n"
     ]
    }
   ],
   "source": [
    "print(\"abc\", \"def\")"
   ]
  },
  {
   "cell_type": "code",
   "execution_count": 63,
   "id": "752958f4-1b03-4ddb-a266-0ba022eddca3",
   "metadata": {},
   "outputs": [
    {
     "name": "stdout",
     "output_type": "stream",
     "text": [
      "abcdef\n"
     ]
    }
   ],
   "source": [
    "print(\"abc\", end=\"\")\n",
    "print(\"def\")"
   ]
  },
  {
   "cell_type": "code",
   "execution_count": 64,
   "id": "a7eacd5f-8cda-4667-ac8e-cb8be4517a40",
   "metadata": {},
   "outputs": [
    {
     "name": "stdout",
     "output_type": "stream",
     "text": [
      "abc\n",
      "def\n"
     ]
    }
   ],
   "source": [
    "print(\"abc\")\n",
    "print(\"def\")"
   ]
  },
  {
   "cell_type": "code",
   "execution_count": 75,
   "id": "7ff438dc-c305-4765-a83e-34aa956f44da",
   "metadata": {},
   "outputs": [
    {
     "name": "stdout",
     "output_type": "stream",
     "text": [
      "25.0\n",
      "50.0\n",
      "15.0\n"
     ]
    }
   ],
   "source": [
    "protein = \"MSRSLLLRFLLFLLLLPPLP\"\n",
    "aa = \"R\"\n",
    "# write a function to return the percentage of the protein that is made up of an amino acid\n",
    "\n",
    "def aa_percentage(prot, amino):\n",
    "    prot = prot.upper()\n",
    "    amino = amino.upper()\n",
    "    amino_count = prot.count(amino)  # how many times have we seen the amino acid in the protein\n",
    "    # print(\"amino count\", amino_count)\n",
    "    protein_length = len(prot)\n",
    "    # print(\"protein length\", protein_length)\n",
    "    percentage = amino_count / protein_length * 100\n",
    "    return percentage\n",
    "\n",
    "# equals in python\n",
    "# num = 5 # make num equal to 5\n",
    "# num == 5 # is num equal to 5\n",
    "assert aa_percentage(\"MSRS\", \"R\") == 25.0  # this will cause an error if the result of aa_percentage(\"MSRS\", \"R\") is not equal to 25.0\n",
    "print(aa_percentage(\"MSRS\", \"R\"))\n",
    "print(aa_percentage(protein, \"L\"))\n",
    "print(aa_percentage(protein, \"P\"))"
   ]
  },
  {
   "cell_type": "code",
   "execution_count": 81,
   "id": "567925c9-3638-4350-83fc-bef4731c07da",
   "metadata": {},
   "outputs": [
    {
     "ename": "TypeError",
     "evalue": "can only concatenate list (not \"float\") to list",
     "output_type": "error",
     "traceback": [
      "\u001b[0;31m---------------------------------------------------------------------------\u001b[0m",
      "\u001b[0;31mTypeError\u001b[0m                                 Traceback (most recent call last)",
      "\u001b[0;32m/tmp/ipykernel_747880/2249222180.py\u001b[0m in \u001b[0;36m<module>\u001b[0;34m\u001b[0m\n\u001b[1;32m     19\u001b[0m \u001b[0mprotein\u001b[0m \u001b[0;34m=\u001b[0m \u001b[0;34m\"MSRS\"\u001b[0m\u001b[0;34m\u001b[0m\u001b[0;34m\u001b[0m\u001b[0m\n\u001b[1;32m     20\u001b[0m \u001b[0mamino_acid_list\u001b[0m \u001b[0;34m=\u001b[0m \u001b[0;34m[\u001b[0m\u001b[0;34m\"R\"\u001b[0m\u001b[0;34m,\u001b[0m \u001b[0;34m\"S\"\u001b[0m\u001b[0;34m]\u001b[0m\u001b[0;34m\u001b[0m\u001b[0;34m\u001b[0m\u001b[0m\n\u001b[0;32m---> 21\u001b[0;31m \u001b[0mpercentages\u001b[0m \u001b[0;34m=\u001b[0m \u001b[0maa_list_percentage\u001b[0m\u001b[0;34m(\u001b[0m\u001b[0;34m\"MSRS\"\u001b[0m\u001b[0;34m,\u001b[0m \u001b[0;34m[\u001b[0m\u001b[0;34m\"R\"\u001b[0m\u001b[0;34m,\u001b[0m \u001b[0;34m\"S\"\u001b[0m\u001b[0;34m]\u001b[0m\u001b[0;34m)\u001b[0m\u001b[0;34m\u001b[0m\u001b[0;34m\u001b[0m\u001b[0m\n\u001b[0m\u001b[1;32m     22\u001b[0m \u001b[0mprint\u001b[0m\u001b[0;34m(\u001b[0m\u001b[0mpercentages\u001b[0m\u001b[0;34m)\u001b[0m\u001b[0;34m\u001b[0m\u001b[0;34m\u001b[0m\u001b[0m\n",
      "\u001b[0;32m/tmp/ipykernel_747880/2249222180.py\u001b[0m in \u001b[0;36maa_list_percentage\u001b[0;34m(prot, amino_list)\u001b[0m\n\u001b[1;32m     11\u001b[0m         \u001b[0mprotein_length\u001b[0m \u001b[0;34m=\u001b[0m \u001b[0mlen\u001b[0m\u001b[0;34m(\u001b[0m\u001b[0mprot\u001b[0m\u001b[0;34m)\u001b[0m\u001b[0;34m\u001b[0m\u001b[0;34m\u001b[0m\u001b[0m\n\u001b[1;32m     12\u001b[0m         \u001b[0mpercentage\u001b[0m \u001b[0;34m=\u001b[0m \u001b[0mamino_count\u001b[0m \u001b[0;34m/\u001b[0m \u001b[0mprotein_length\u001b[0m \u001b[0;34m*\u001b[0m \u001b[0;36m100\u001b[0m\u001b[0;34m\u001b[0m\u001b[0;34m\u001b[0m\u001b[0m\n\u001b[0;32m---> 13\u001b[0;31m         \u001b[0mpercentage_list\u001b[0m \u001b[0;34m=\u001b[0m \u001b[0mpercentage_list\u001b[0m \u001b[0;34m+\u001b[0m \u001b[0mpercentage\u001b[0m       \u001b[0;31m# 1. x\u001b[0m\u001b[0;34m\u001b[0m\u001b[0;34m\u001b[0m\u001b[0m\n\u001b[0m\u001b[1;32m     14\u001b[0m         \u001b[0;31m# percentage_list.append(percentage_list, percentage)  # 2. xx\u001b[0m\u001b[0;34m\u001b[0m\u001b[0;34m\u001b[0m\u001b[0m\n\u001b[1;32m     15\u001b[0m         \u001b[0;31m# percentage_list = percentage_list + [percentage]     # 3.      <---\u001b[0m\u001b[0;34m\u001b[0m\u001b[0;34m\u001b[0m\u001b[0m\n",
      "\u001b[0;31mTypeError\u001b[0m: can only concatenate list (not \"float\") to list"
     ]
    }
   ],
   "source": [
    "# write a function that will return the percentage of each of a list of amino acids in a protein\n",
    "# aa_list_percentage(\"MSRS\", [\"R\", \"S\"]) == [25.0, 50.0]\n",
    "\n",
    "\n",
    "def aa_list_percentage(prot, amino_list):\n",
    "    percentage_list = []\n",
    "    for amino in amino_list:\n",
    "        prot = prot.upper()\n",
    "        amino = amino.upper()\n",
    "        amino_count = prot.count(amino)  # how many times have we seen the amino acid in the protein\n",
    "        protein_length = len(prot)\n",
    "        percentage = amino_count / protein_length * 100\n",
    "        # percentage_list = percentage_list + percentage       # 1. x\n",
    "        # percentage_list.append(percentage_list, percentage)  # 2. xx    \n",
    "        # percentage_list = percentage_list + [percentage]     # 3.      <---\n",
    "        percentage_list.append(percentage)                     # 4. xx   <---\n",
    "        percentage_list = percentage_list.append(percentage)   # 5.  # wrong because .append works \"in place\", updating percentage_list and returns nothing\n",
    "    return percentage_list\n",
    "\n",
    "protein = \"MSRS\"\n",
    "amino_acid_list = [\"R\", \"S\"]\n",
    "percentages = aa_list_percentage(\"MSRS\", [\"R\", \"S\"]) \n",
    "print(percentages)"
   ]
  },
  {
   "cell_type": "code",
   "execution_count": 82,
   "id": "c97e235b-bbfd-477c-82c2-dcca8f7cb9dc",
   "metadata": {},
   "outputs": [
    {
     "name": "stdout",
     "output_type": "stream",
     "text": [
      "None\n",
      "[1, 2, 3]\n"
     ]
    }
   ],
   "source": [
    "my_list = [1,2]\n",
    "val = my_list.append(3)\n",
    "print(val)\n",
    "print(my_list)"
   ]
  },
  {
   "cell_type": "code",
   "execution_count": null,
   "id": "384baf72-6c39-45d0-8601-6657ba4aaf28",
   "metadata": {},
   "outputs": [],
   "source": []
  }
 ],
 "metadata": {
  "kernelspec": {
   "display_name": "Python 3 (ipykernel)",
   "language": "python",
   "name": "python3"
  },
  "language_info": {
   "codemirror_mode": {
    "name": "ipython",
    "version": 3
   },
   "file_extension": ".py",
   "mimetype": "text/x-python",
   "name": "python",
   "nbconvert_exporter": "python",
   "pygments_lexer": "ipython3",
   "version": "3.9.7"
  }
 },
 "nbformat": 4,
 "nbformat_minor": 5
}
