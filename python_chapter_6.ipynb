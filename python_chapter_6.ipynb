{
 "cells": [
  {
   "cell_type": "code",
   "execution_count": 1,
   "id": "6c45ce42-bab2-4c6f-bc75-8fbd1a9cc1ac",
   "metadata": {},
   "outputs": [
    {
     "name": "stdout",
     "output_type": "stream",
     "text": [
      "False\n"
     ]
    }
   ],
   "source": [
    "print(4 == 5)"
   ]
  },
  {
   "cell_type": "code",
   "execution_count": 2,
   "id": "9d687de1-3fe1-429c-b0a3-aa43dd82fada",
   "metadata": {},
   "outputs": [
    {
     "name": "stdout",
     "output_type": "stream",
     "text": [
      "<class 'str'>\n"
     ]
    }
   ],
   "source": [
    "print(type('Hello'))"
   ]
  },
  {
   "cell_type": "code",
   "execution_count": 4,
   "id": "ad581edb-d173-4f71-b082-b0fdeba38ee6",
   "metadata": {},
   "outputs": [
    {
     "name": "stdout",
     "output_type": "stream",
     "text": [
      "<class 'bool'>\n"
     ]
    }
   ],
   "source": [
    "print(type(4 == 5))\n",
    "# A Boolean type"
   ]
  },
  {
   "cell_type": "code",
   "execution_count": 5,
   "id": "faad5033-8e26-4cf5-8f20-78ef0408aeee",
   "metadata": {},
   "outputs": [
    {
     "name": "stdout",
     "output_type": "stream",
     "text": [
      "False\n"
     ]
    }
   ],
   "source": [
    "print('False' == False)"
   ]
  },
  {
   "cell_type": "code",
   "execution_count": 6,
   "id": "a4ce020a-4bcd-4276-b28c-7899ebd12a91",
   "metadata": {},
   "outputs": [
    {
     "name": "stdout",
     "output_type": "stream",
     "text": [
      "Hello World\n",
      "None\n"
     ]
    }
   ],
   "source": [
    "value = print('Hello World')\n",
    "print(value)"
   ]
  },
  {
   "cell_type": "code",
   "execution_count": 7,
   "id": "c18c45f9-a6ba-4dc9-a03b-44184d92ca59",
   "metadata": {},
   "outputs": [
    {
     "name": "stdout",
     "output_type": "stream",
     "text": [
      "False\n"
     ]
    }
   ],
   "source": [
    "print(None == 'None')"
   ]
  },
  {
   "cell_type": "code",
   "execution_count": 8,
   "id": "ed2f4797-a6ea-4789-be30-b7c47a3978bf",
   "metadata": {},
   "outputs": [
    {
     "name": "stdout",
     "output_type": "stream",
     "text": [
      "<class 'NoneType'>\n"
     ]
    }
   ],
   "source": [
    "print(type(None))"
   ]
  },
  {
   "cell_type": "code",
   "execution_count": 9,
   "id": "24a5a052-7754-4185-bfff-f1e132101d85",
   "metadata": {},
   "outputs": [
    {
     "name": "stdout",
     "output_type": "stream",
     "text": [
      "False\n"
     ]
    }
   ],
   "source": [
    "print(True == 'True')"
   ]
  },
  {
   "cell_type": "code",
   "execution_count": 13,
   "id": "5246b581-af42-4190-8785-124c75eeaa27",
   "metadata": {},
   "outputs": [
    {
     "name": "stdout",
     "output_type": "stream",
     "text": [
      "False\n",
      "False\n",
      "True\n",
      "True\n",
      "True\n",
      "True\n",
      "a < b True\n"
     ]
    }
   ],
   "source": [
    "# equality comparison\n",
    "print(4 == 5)  # is equals\n",
    "print(10 != 10)  # not equals\n",
    "# ordinal comparisons\n",
    "print(3 < 10)\n",
    "print(3 <= 3)\n",
    "print(4 > 3)\n",
    "print(4 >= 3)\n",
    "print('a < b', 'a' < 'b')"
   ]
  },
  {
   "cell_type": "code",
   "execution_count": 15,
   "id": "acaab78e-5ad4-4b3f-bcd6-bf9f0bd77146",
   "metadata": {},
   "outputs": [
    {
     "name": "stdout",
     "output_type": "stream",
     "text": [
      "'a' == 1 False\n"
     ]
    }
   ],
   "source": [
    "print(\"'a' == 1\", 'a' == 1)"
   ]
  },
  {
   "cell_type": "code",
   "execution_count": 16,
   "id": "d9fc97b4-9a7a-42fb-af67-3c313cb35d78",
   "metadata": {},
   "outputs": [
    {
     "ename": "TypeError",
     "evalue": "'<' not supported between instances of 'str' and 'int'",
     "output_type": "error",
     "traceback": [
      "\u001b[0;31m---------------------------------------------------------------------------\u001b[0m",
      "\u001b[0;31mTypeError\u001b[0m                                 Traceback (most recent call last)",
      "Input \u001b[0;32mIn [16]\u001b[0m, in \u001b[0;36m<cell line: 1>\u001b[0;34m()\u001b[0m\n\u001b[0;32m----> 1\u001b[0m \u001b[38;5;28mprint\u001b[39m(\u001b[38;5;124m\"\u001b[39m\u001b[38;5;124m'\u001b[39m\u001b[38;5;124ma\u001b[39m\u001b[38;5;124m'\u001b[39m\u001b[38;5;124m < 1\u001b[39m\u001b[38;5;124m\"\u001b[39m, \u001b[38;5;124;43m'\u001b[39;49m\u001b[38;5;124;43ma\u001b[39;49m\u001b[38;5;124;43m'\u001b[39;49m\u001b[43m \u001b[49m\u001b[38;5;241;43m<\u001b[39;49m\u001b[43m \u001b[49m\u001b[38;5;241;43m1\u001b[39;49m)\n",
      "\u001b[0;31mTypeError\u001b[0m: '<' not supported between instances of 'str' and 'int'"
     ]
    }
   ],
   "source": [
    "print(\"'a' < 1\", 'a' < 1)"
   ]
  },
  {
   "cell_type": "code",
   "execution_count": 17,
   "id": "77b0f30d-042a-4d2b-8e71-edc277c33c13",
   "metadata": {},
   "outputs": [
    {
     "name": "stdout",
     "output_type": "stream",
     "text": [
      "3.0 == 3 True\n"
     ]
    }
   ],
   "source": [
    "print('3.0 == 3', 3.0 == 3)"
   ]
  },
  {
   "cell_type": "code",
   "execution_count": 18,
   "id": "17aaf35e-fe6f-40ca-8fa8-9d43a1306c84",
   "metadata": {},
   "outputs": [
    {
     "name": "stdout",
     "output_type": "stream",
     "text": [
      "'3' == 3 False\n"
     ]
    }
   ],
   "source": [
    "print(\"'3' == 3\", '3' == 3)"
   ]
  },
  {
   "cell_type": "code",
   "execution_count": 19,
   "id": "bfeef8ca-9957-4809-910d-ff77306e98bb",
   "metadata": {},
   "outputs": [
    {
     "name": "stdout",
     "output_type": "stream",
     "text": [
      "int('3') == 3 True\n"
     ]
    }
   ],
   "source": [
    "print(\"int('3') == 3\", int('3') == 3)"
   ]
  },
  {
   "cell_type": "code",
   "execution_count": 21,
   "id": "d3b6cb05-f2e0-46d9-9211-264c1d6787ef",
   "metadata": {},
   "outputs": [
    {
     "name": "stdout",
     "output_type": "stream",
     "text": [
      "True\n"
     ]
    }
   ],
   "source": [
    "print(\"ATGCTT\".startswith(\"ATG\"))"
   ]
  },
  {
   "cell_type": "code",
   "execution_count": 22,
   "id": "14035349-5494-4676-9f26-9345d0c5b7da",
   "metadata": {},
   "outputs": [
    {
     "name": "stdout",
     "output_type": "stream",
     "text": [
      "Help on built-in function startswith:\n",
      "\n",
      "startswith(...) method of builtins.str instance\n",
      "    S.startswith(prefix[, start[, end]]) -> bool\n",
      "    \n",
      "    Return True if S starts with the specified prefix, False otherwise.\n",
      "    With optional start, test S beginning at that position.\n",
      "    With optional end, stop comparing S at that position.\n",
      "    prefix can also be a tuple of strings to try.\n",
      "\n"
     ]
    }
   ],
   "source": [
    "help(\"ATGCTT\".startswith)"
   ]
  },
  {
   "cell_type": "code",
   "execution_count": 23,
   "id": "c2f5c5ae-604a-48cf-b5d8-e2f13274cd78",
   "metadata": {},
   "outputs": [
    {
     "name": "stdout",
     "output_type": "stream",
     "text": [
      "True\n"
     ]
    }
   ],
   "source": [
    "print(\"ATGCTT\".isupper())"
   ]
  },
  {
   "cell_type": "code",
   "execution_count": 24,
   "id": "199d78c4-b0e6-4b9d-a326-f9aaf866d0ae",
   "metadata": {},
   "outputs": [
    {
     "name": "stdout",
     "output_type": "stream",
     "text": [
      "False\n"
     ]
    }
   ],
   "source": [
    "print(\"ATGCTT\".islower())"
   ]
  },
  {
   "cell_type": "code",
   "execution_count": 25,
   "id": "0ca61bf2-5e39-410a-ba4e-ef10d5961b2d",
   "metadata": {},
   "outputs": [
    {
     "name": "stdout",
     "output_type": "stream",
     "text": [
      "\"V\" in [\"V\", \"W\", \"L\"] True\n"
     ]
    }
   ],
   "source": [
    "print('\"V\" in [\"V\", \"W\", \"L\"]', \"V\" in [\"V\", \"W\", \"L\"])"
   ]
  },
  {
   "cell_type": "code",
   "execution_count": 26,
   "id": "59df9e28-b35a-4a88-8307-49fcc869914e",
   "metadata": {},
   "outputs": [
    {
     "name": "stdout",
     "output_type": "stream",
     "text": [
      "Hello World\n",
      "True\n"
     ]
    }
   ],
   "source": [
    "value = print('Hello World')\n",
    "print(value is None)"
   ]
  },
  {
   "cell_type": "code",
   "execution_count": 27,
   "id": "12e7ccc7-40a5-47a3-8440-a90b13884c18",
   "metadata": {},
   "outputs": [
    {
     "name": "stdout",
     "output_type": "stream",
     "text": [
      "False\n",
      "True\n",
      "True\n"
     ]
    },
    {
     "name": "stderr",
     "output_type": "stream",
     "text": [
      "<>:1: SyntaxWarning: \"is\" with a literal. Did you mean \"==\"?\n",
      "<>:2: SyntaxWarning: \"is\" with a literal. Did you mean \"==\"?\n",
      "<>:3: SyntaxWarning: \"is\" with a literal. Did you mean \"==\"?\n",
      "<>:1: SyntaxWarning: \"is\" with a literal. Did you mean \"==\"?\n",
      "<>:2: SyntaxWarning: \"is\" with a literal. Did you mean \"==\"?\n",
      "<>:3: SyntaxWarning: \"is\" with a literal. Did you mean \"==\"?\n",
      "/tmp/ipykernel_2240870/2172239110.py:1: SyntaxWarning: \"is\" with a literal. Did you mean \"==\"?\n",
      "  print(3.0 is 3)\n",
      "/tmp/ipykernel_2240870/2172239110.py:2: SyntaxWarning: \"is\" with a literal. Did you mean \"==\"?\n",
      "  print(3 is 3)\n",
      "/tmp/ipykernel_2240870/2172239110.py:3: SyntaxWarning: \"is\" with a literal. Did you mean \"==\"?\n",
      "  print(3.0 is 3.0)\n"
     ]
    }
   ],
   "source": [
    "print(3.0 is 3)\n",
    "print(3 is 3)\n",
    "print(3.0 is 3.0)"
   ]
  },
  {
   "cell_type": "code",
   "execution_count": 28,
   "id": "f88353cb-d54a-4790-887e-fc0353eff04c",
   "metadata": {},
   "outputs": [
    {
     "name": "stdout",
     "output_type": "stream",
     "text": [
      "False\n"
     ]
    }
   ],
   "source": [
    "val1 = 3\n",
    "val2 = 3.0\n",
    "print(val1 is val2)"
   ]
  },
  {
   "cell_type": "code",
   "execution_count": 30,
   "id": "39b05c8e-88b9-409b-84c4-1f9fe858a0f3",
   "metadata": {},
   "outputs": [
    {
     "name": "stdout",
     "output_type": "stream",
     "text": [
      "True\n"
     ]
    }
   ],
   "source": [
    "val1 = 3\n",
    "val2 = 3.0\n",
    "print(val1 is not val2)"
   ]
  },
  {
   "cell_type": "code",
   "execution_count": 31,
   "id": "48f2108d-d11f-473d-b54a-5a2d85be660b",
   "metadata": {},
   "outputs": [
    {
     "name": "stdout",
     "output_type": "stream",
     "text": [
      "True\n"
     ]
    }
   ],
   "source": [
    "val1 = 3\n",
    "print(val1 < 5 and val1 > 2)"
   ]
  },
  {
   "cell_type": "code",
   "execution_count": 32,
   "id": "01b7ee3c-5a4c-4dee-bcc3-4d9dc8536e6d",
   "metadata": {},
   "outputs": [
    {
     "name": "stdout",
     "output_type": "stream",
     "text": [
      "True\n",
      "True\n"
     ]
    }
   ],
   "source": [
    "# Boolean algebra operators\n",
    "# and\n",
    "print(val1 < 5 and val1 > 2)\n",
    "# or\n",
    "print(val1 > 10 or val1 < 5)"
   ]
  },
  {
   "cell_type": "code",
   "execution_count": 34,
   "id": "f3de2320-41b8-4287-844a-303dd1a1cbb4",
   "metadata": {},
   "outputs": [
    {
     "name": "stdout",
     "output_type": "stream",
     "text": [
      "False\n",
      "True\n",
      "False\n"
     ]
    }
   ],
   "source": [
    "# more Boolean operators\n",
    "val1 = True\n",
    "print(not val1)\n",
    "print(not (not val1))\n",
    "print(not 3 < 5)"
   ]
  },
  {
   "cell_type": "code",
   "execution_count": 36,
   "id": "db304a3a-197a-4cc9-a56b-46ed61248c9d",
   "metadata": {},
   "outputs": [
    {
     "name": "stdout",
     "output_type": "stream",
     "text": [
      "False\n"
     ]
    }
   ],
   "source": [
    "val1 = 5\n",
    "val2 = 10\n",
    "print(val1 < 5 and (val2 > 10 or val2 < 3))"
   ]
  },
  {
   "cell_type": "code",
   "execution_count": 41,
   "id": "e4d00f50-e1af-4378-b718-b9bc525af6c3",
   "metadata": {},
   "outputs": [
    {
     "name": "stdout",
     "output_type": "stream",
     "text": [
      "True\n",
      "True\n",
      "True\n",
      "False\n"
     ]
    }
   ],
   "source": [
    "print(bool(\"Hello\"))\n",
    "print(bool(\"Goodbye\"))\n",
    "print(bool(\"dgdfgsdg\"))\n",
    "print(bool(\"\"))"
   ]
  },
  {
   "cell_type": "code",
   "execution_count": 42,
   "id": "fb0a2eae-2cd5-466a-b589-52e4d35c6341",
   "metadata": {},
   "outputs": [
    {
     "name": "stdout",
     "output_type": "stream",
     "text": [
      "True\n",
      "True\n",
      "False\n"
     ]
    }
   ],
   "source": [
    "print(bool(10))\n",
    "print(bool(-10))\n",
    "print(bool(0))"
   ]
  },
  {
   "cell_type": "code",
   "execution_count": 43,
   "id": "b6abe82c-7c79-4371-9c2a-35f4f0ae3ff8",
   "metadata": {},
   "outputs": [
    {
     "name": "stdout",
     "output_type": "stream",
     "text": [
      "True\n",
      "True\n",
      "False\n"
     ]
    }
   ],
   "source": [
    "print(bool(1.0))\n",
    "print(bool(3.1415926535897))\n",
    "print(bool(0.0))"
   ]
  },
  {
   "cell_type": "code",
   "execution_count": 45,
   "id": "7a268e54-f64f-4f25-ba0b-9ed808b2ba36",
   "metadata": {},
   "outputs": [
    {
     "name": "stdout",
     "output_type": "stream",
     "text": [
      "True\n",
      "False\n"
     ]
    }
   ],
   "source": [
    "print(bool([\"my\", \"list\"]))\n",
    "print(bool([]))"
   ]
  },
  {
   "cell_type": "code",
   "execution_count": 46,
   "id": "c0be73ef-8f1b-451b-ae93-c67e57112fce",
   "metadata": {},
   "outputs": [
    {
     "name": "stdout",
     "output_type": "stream",
     "text": [
      "False\n"
     ]
    }
   ],
   "source": [
    "print(bool(None))"
   ]
  },
  {
   "cell_type": "code",
   "execution_count": 47,
   "id": "0b8285d2-780b-4ff0-86bd-24f601f5866a",
   "metadata": {},
   "outputs": [
    {
     "name": "stdout",
     "output_type": "stream",
     "text": [
      "True\n",
      "False\n"
     ]
    }
   ],
   "source": [
    "print(bool(True))\n",
    "print(bool(False))"
   ]
  },
  {
   "cell_type": "markdown",
   "id": "bd2895ae-040d-4d55-a0cc-c14ca3725975",
   "metadata": {},
   "source": [
    "### Conditional statements"
   ]
  },
  {
   "cell_type": "code",
   "execution_count": 37,
   "id": "50569d04-d3b0-4f71-bc7e-1bce3e2d7f2f",
   "metadata": {},
   "outputs": [
    {
     "name": "stdout",
     "output_type": "stream",
     "text": [
      "gene is highly expressed\n"
     ]
    }
   ],
   "source": [
    "gene_expression_level = 125\n",
    "if gene_expression_level > 100:\n",
    "    print(\"gene is highly expressed\")"
   ]
  },
  {
   "cell_type": "code",
   "execution_count": 51,
   "id": "6782dec5-0180-4aa4-b211-90f59cb9f8d1",
   "metadata": {},
   "outputs": [
    {
     "name": "stdout",
     "output_type": "stream",
     "text": [
      "ab56\n",
      "we see this line each time the loop runs\n",
      "we see this line each time the loop runs\n",
      "we see this line each time the loop runs\n",
      "ay93\n",
      "we see this line each time the loop runs\n",
      "ap97\n",
      "we see this line each time the loop runs\n",
      "we see this line each time the loop runs\n",
      "this runs after the loop\n"
     ]
    }
   ],
   "source": [
    "accs = ['ab56', 'bh84', 'hv76', 'ay93', 'ap97', 'bd72']\n",
    "for accession in accs:\n",
    "    if accession.startswith('a'):\n",
    "        print(accession)  # only runs if the condition is true\n",
    "    print(\"we see this line each time the loop runs\")\n",
    "print(\"this runs after the loop\")"
   ]
  },
  {
   "cell_type": "code",
   "execution_count": 52,
   "id": "655b41b1-280f-4372-b2bf-e958450dbbfd",
   "metadata": {},
   "outputs": [
    {
     "name": "stdout",
     "output_type": "stream",
     "text": [
      "['ab56', 'ay93', 'ap97']\n"
     ]
    }
   ],
   "source": [
    "filtered_list = []\n",
    "accs = ['ab56', 'bh84', 'hv76', 'ay93', 'ap97', 'bd72']\n",
    "for accession in accs:\n",
    "    if accession.startswith('a'):\n",
    "        filtered_list.append(accession)\n",
    "print(filtered_list)"
   ]
  },
  {
   "cell_type": "code",
   "execution_count": 56,
   "id": "095a7dcf-725f-4516-9977-43df7a9f1323",
   "metadata": {},
   "outputs": [
    {
     "name": "stdout",
     "output_type": "stream",
     "text": [
      "0\n",
      "0\n",
      "1\n",
      "1\n",
      "3\n",
      "True\n",
      "False\n"
     ]
    }
   ],
   "source": [
    "# module in maths\n",
    "print(4 % 2)\n",
    "print(6 % 3)\n",
    "print(5 % 2)\n",
    "# otherwise known as remainder operator\n",
    "print(10 % 3)\n",
    "print(10 % 7)\n",
    "# is even\n",
    "print((4 % 2) == 0)\n",
    "print((5 % 2) == 0)"
   ]
  },
  {
   "cell_type": "code",
   "execution_count": 58,
   "id": "81c1bd17-970e-4350-bfd2-c1a0e93a32ea",
   "metadata": {},
   "outputs": [],
   "source": [
    "def iseven(number):\n",
    "    return (number % 2) == 0"
   ]
  },
  {
   "cell_type": "code",
   "execution_count": 59,
   "id": "b17c740b-3d34-407f-9ceb-2329a0902262",
   "metadata": {},
   "outputs": [
    {
     "name": "stdout",
     "output_type": "stream",
     "text": [
      "30\n"
     ]
    }
   ],
   "source": [
    "# add up all the even numbers\n",
    "mylist = [1,2,3,4,5,6,7,8,9,10]\n",
    "total = 0\n",
    "for number in mylist:\n",
    "    if iseven(number):\n",
    "        total = total + number\n",
    "print(total)\n"
   ]
  },
  {
   "cell_type": "code",
   "execution_count": 63,
   "id": "e564b232-37a2-4a4f-b633-44373fd4ed23",
   "metadata": {},
   "outputs": [
    {
     "name": "stdout",
     "output_type": "stream",
     "text": [
      "30\n"
     ]
    }
   ],
   "source": [
    "mylist = [1,2,3,4,5,6,7,8,9,10]\n",
    "\n",
    "def add_evens(number_list):\n",
    "    # add up all the even numbers\n",
    "    total = 0\n",
    "    for number in number_list:\n",
    "        if iseven(number):\n",
    "            total = total + number\n",
    "    return total\n",
    "print(add_evens(mylist))\n",
    "assert add_evens([1,2,3,4]) == 6  # assert that running add_evens(...) == 6"
   ]
  },
  {
   "cell_type": "code",
   "execution_count": 64,
   "id": "37e6afcb-a8b4-4ec9-b2a0-424966b39d80",
   "metadata": {},
   "outputs": [
    {
     "name": "stdout",
     "output_type": "stream",
     "text": [
      "this gene is highly expressed\n"
     ]
    }
   ],
   "source": [
    "gene_expression = 125\n",
    "if gene_expression > 100:\n",
    "    print(\"this gene is highly expressed\")\n",
    "else:\n",
    "    print(\"this gene is not highly expressed\")"
   ]
  },
  {
   "cell_type": "code",
   "execution_count": 68,
   "id": "ce641a8f-2dfa-478b-905d-15915bd51660",
   "metadata": {},
   "outputs": [
    {
     "name": "stdout",
     "output_type": "stream",
     "text": [
      "this gene is highly expressed\n",
      "this gene is not highly expressed\n"
     ]
    }
   ],
   "source": [
    "def check_expression(expression_level):\n",
    "    if expression_level > 100:\n",
    "        print(\"this gene is highly expressed\")\n",
    "    else:\n",
    "        print(\"this gene is not highly expressed\")\n",
    "\n",
    "gene_expression = 125\n",
    "check_expression(gene_expression)\n",
    "gene_expression = 80\n",
    "check_expression(gene_expression)"
   ]
  },
  {
   "cell_type": "code",
   "execution_count": 72,
   "id": "de74db70-7617-41b8-a08a-98a530c4963a",
   "metadata": {},
   "outputs": [
    {
     "name": "stdout",
     "output_type": "stream",
     "text": [
      "this gene is highly expressed\n",
      "this gene is not highly expressed\n",
      "this gene is highly expressed\n",
      "this gene is highly expressed\n"
     ]
    }
   ],
   "source": [
    "def check_expression(expression_level, level=100):\n",
    "    if expression_level > level:\n",
    "        print(\"this gene is highly expressed\")\n",
    "    else:\n",
    "        print(\"this gene is not highly expressed\")\n",
    "\n",
    "gene_expression = 125\n",
    "check_expression(gene_expression)\n",
    "gene_expression = 80\n",
    "check_expression(gene_expression)\n",
    "check_expression(gene_expression, 50)\n",
    "check_expression(gene_expression, level=70)"
   ]
  },
  {
   "cell_type": "code",
   "execution_count": 74,
   "id": "809b4a99-3138-40f6-8f9c-dd5f50349dcc",
   "metadata": {},
   "outputs": [
    {
     "name": "stdout",
     "output_type": "stream",
     "text": [
      "this gene is not highly expressed\n",
      "this gene is not highly expressed\n",
      "this gene is highly expressed\n",
      "this gene is highly expressed\n"
     ]
    }
   ],
   "source": [
    "def check_expression(expression_level, level=100):\n",
    "    if gene_expression > level:\n",
    "        print(\"this gene is highly expressed\")\n",
    "    else:\n",
    "        print(\"this gene is not highly expressed\")\n",
    "\n",
    "my_gene_expression = 125\n",
    "check_expression(my_gene_expression)\n",
    "gene_expression = 80\n",
    "check_expression(gene_expression)\n",
    "check_expression(gene_expression, 50)\n",
    "check_expression(gene_expression, level=70)"
   ]
  },
  {
   "cell_type": "code",
   "execution_count": 75,
   "id": "ac27571c-5c78-42aa-afec-ed3d7d4adedd",
   "metadata": {},
   "outputs": [
    {
     "name": "stdout",
     "output_type": "stream",
     "text": [
      "this gene is highly expressed\n",
      "this gene is moderately expressed\n",
      "this gene is expressed at a low level\n"
     ]
    }
   ],
   "source": [
    "def check_expression(expression_level):\n",
    "    if expression_level > 100:\n",
    "        print(\"this gene is highly expressed\")\n",
    "    elif expression_level > 80:\n",
    "        print(\"this gene is moderately expressed\")\n",
    "    else:\n",
    "        print(\"this gene is expressed at a low level\")\n",
    "\n",
    "check_expression(125)\n",
    "check_expression(90)\n",
    "check_expression(50)"
   ]
  },
  {
   "cell_type": "code",
   "execution_count": 76,
   "id": "16d0ef8d-3b9c-4684-b7d3-09103c2ffccb",
   "metadata": {},
   "outputs": [
    {
     "name": "stdout",
     "output_type": "stream",
     "text": [
      "this gene is moderately expressed\n",
      "this gene is moderately expressed\n",
      "this gene is expressed at a low level\n"
     ]
    }
   ],
   "source": [
    "def check_expression(expression_level):\n",
    "    if expression_level > 80:\n",
    "        print(\"this gene is moderately expressed\")\n",
    "    elif expression_level > 100:\n",
    "        print(\"this gene is highly expressed\")\n",
    "    else:\n",
    "        print(\"this gene is expressed at a low level\")\n",
    "\n",
    "check_expression(125)\n",
    "check_expression(90)\n",
    "check_expression(50)"
   ]
  },
  {
   "cell_type": "code",
   "execution_count": 77,
   "id": "a3ca18a4-bb03-488d-ba6b-842345d3c1b2",
   "metadata": {},
   "outputs": [
    {
     "name": "stdout",
     "output_type": "stream",
     "text": [
      "this gene is highly expressed\n",
      "this gene is moderately expressed\n",
      "this gene is expressed at a low level\n"
     ]
    }
   ],
   "source": [
    "def check_expression(expression_level):\n",
    "    if expression_level > 100:\n",
    "        print(\"this gene is highly expressed\")\n",
    "    else:\n",
    "        if expression_level > 80:\n",
    "            print(\"this gene is moderately expressed\")\n",
    "        else:\n",
    "            print(\"this gene is expressed at a low level\")\n",
    "\n",
    "check_expression(125)\n",
    "check_expression(90)\n",
    "check_expression(50)"
   ]
  },
  {
   "cell_type": "code",
   "execution_count": 78,
   "id": "7e5ef411-67da-4681-90fa-1879a85c2f90",
   "metadata": {},
   "outputs": [
    {
     "name": "stdout",
     "output_type": "stream",
     "text": [
      "0\n",
      "1\n",
      "2\n",
      "3\n",
      "4\n",
      "5\n",
      "6\n",
      "7\n",
      "8\n",
      "9\n"
     ]
    }
   ],
   "source": [
    "for number in range(10):\n",
    "    print(number)"
   ]
  },
  {
   "cell_type": "code",
   "execution_count": 79,
   "id": "f0bf4118-5165-43fe-b297-582c0c2eca68",
   "metadata": {},
   "outputs": [
    {
     "name": "stdout",
     "output_type": "stream",
     "text": [
      "['A', 'APPLE', 'B', 'PEAR']\n"
     ]
    }
   ],
   "source": [
    "mylist = ['a', 'apple', 'b', 'pear']\n",
    "#          0     1       2      3\n",
    "for i in range(len(mylist)):\n",
    "    mylist[i] = mylist[i].upper()\n",
    "print(mylist)"
   ]
  },
  {
   "cell_type": "code",
   "execution_count": 81,
   "id": "dca39831-c560-4182-897e-fb7ef7267669",
   "metadata": {},
   "outputs": [
    {
     "name": "stdout",
     "output_type": "stream",
     "text": [
      "['a', 'apple', 'b', 'pear']\n"
     ]
    }
   ],
   "source": [
    "mylist = ['a', 'apple', 'b', 'pear']\n",
    "#          0     1       2      3\n",
    "for element in mylist:\n",
    "    element = element.upper()\n",
    "print(mylist)"
   ]
  },
  {
   "cell_type": "code",
   "execution_count": 82,
   "id": "0454f044-c1e9-4d1a-91c6-60fdcaddaa63",
   "metadata": {},
   "outputs": [
    {
     "name": "stdout",
     "output_type": "stream",
     "text": [
      "1\n",
      "3\n",
      "4\n"
     ]
    }
   ],
   "source": [
    "my_numbers = [1, 3, 4, 10, 7, 6]\n",
    "index = 0\n",
    "while my_numbers[index] < 8:\n",
    "    print(my_numbers[index])\n",
    "    index = index + 1"
   ]
  },
  {
   "cell_type": "code",
   "execution_count": 83,
   "id": "ca6130eb-74a6-41c0-8dcc-52103a77691e",
   "metadata": {},
   "outputs": [
    {
     "name": "stdout",
     "output_type": "stream",
     "text": [
      "1\n",
      "3\n",
      "4\n",
      "7\n",
      "6\n"
     ]
    }
   ],
   "source": [
    "my_numbers = [1, 3, 4, 7, 6, 10]\n",
    "index = 0\n",
    "while my_numbers[index] < 8:\n",
    "    print(my_numbers[index])\n",
    "    index = index + 1"
   ]
  },
  {
   "cell_type": "code",
   "execution_count": null,
   "id": "1c19c7e7-5f54-4266-829a-72cf7361c0d4",
   "metadata": {},
   "outputs": [],
   "source": [
    "my_numbers = [1, 3, 4, 7, 6, 10]\n",
    "index = 0\n",
    "while my_numbers[index] < 8:\n",
    "    print(my_numbers[index])\n"
   ]
  },
  {
   "cell_type": "code",
   "execution_count": null,
   "id": "ef69bda9-31de-400b-979a-c9e388db4abd",
   "metadata": {},
   "outputs": [],
   "source": []
  }
 ],
 "metadata": {
  "kernelspec": {
   "display_name": "Python 3 (ipykernel)",
   "language": "python",
   "name": "python3"
  },
  "language_info": {
   "codemirror_mode": {
    "name": "ipython",
    "version": 3
   },
   "file_extension": ".py",
   "mimetype": "text/x-python",
   "name": "python",
   "nbconvert_exporter": "python",
   "pygments_lexer": "ipython3",
   "version": "3.9.7"
  }
 },
 "nbformat": 4,
 "nbformat_minor": 5
}
