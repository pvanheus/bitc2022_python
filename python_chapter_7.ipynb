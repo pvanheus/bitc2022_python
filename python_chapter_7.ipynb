{
 "cells": [
  {
   "cell_type": "code",
   "execution_count": 1,
   "id": "6050367e-cccd-4500-be8c-8cc5df2786f6",
   "metadata": {},
   "outputs": [],
   "source": [
    "import re"
   ]
  },
  {
   "cell_type": "code",
   "execution_count": 2,
   "id": "532c8212-8156-4f7e-98cb-8f17540c69a9",
   "metadata": {},
   "outputs": [
    {
     "name": "stdout",
     "output_type": "stream",
     "text": [
      "Help on function search in module re:\n",
      "\n",
      "search(pattern, string, flags=0)\n",
      "    Scan through string looking for a match to the pattern, returning\n",
      "    a Match object, or None if no match was found.\n",
      "\n"
     ]
    }
   ],
   "source": [
    "help(re.search)"
   ]
  },
  {
   "cell_type": "code",
   "execution_count": 3,
   "id": "49a1ab5f-4ef4-4ad6-9404-616cbec757ad",
   "metadata": {},
   "outputs": [
    {
     "name": "stdout",
     "output_type": "stream",
     "text": [
      "\t\n",
      "\n"
     ]
    }
   ],
   "source": [
    "print(\"\\t\\n\")"
   ]
  },
  {
   "cell_type": "code",
   "execution_count": 4,
   "id": "757edb89-b8e1-4b30-9ed4-6323056051e3",
   "metadata": {},
   "outputs": [
    {
     "name": "stdout",
     "output_type": "stream",
     "text": [
      "\\t\\n\n"
     ]
    }
   ],
   "source": [
    "# raw string\n",
    "print(r\"\\t\\n\")"
   ]
  },
  {
   "cell_type": "code",
   "execution_count": 5,
   "id": "fe8bc73d-8152-4583-8479-71dc8268d65f",
   "metadata": {},
   "outputs": [
    {
     "name": "stdout",
     "output_type": "stream",
     "text": [
      "restriction site found!\n"
     ]
    }
   ],
   "source": [
    "dna = \"ATCGCGAATTCAC\"\n",
    "if re.search(r\"GAATTC\", dna):\n",
    "    print(\"restriction site found!\")"
   ]
  },
  {
   "cell_type": "code",
   "execution_count": 6,
   "id": "455b5360-ebd3-46a7-a560-dc4440c9322f",
   "metadata": {},
   "outputs": [],
   "source": [
    "dna = \"MICKEYMOUSE\"\n",
    "if re.search(r\"GAATTC\", dna):\n",
    "    print(\"restriction site found!\")"
   ]
  },
  {
   "cell_type": "code",
   "execution_count": 7,
   "id": "943adb1c-a6a8-48d3-9b5b-c905309f1381",
   "metadata": {},
   "outputs": [
    {
     "name": "stdout",
     "output_type": "stream",
     "text": [
      "restriction site found!\n"
     ]
    }
   ],
   "source": [
    "dna = \"ATCGCGAATTCAC\"\n",
    "if dna.find(\"GAATTC\") != -1:\n",
    "    print(\"restriction site found!\")"
   ]
  },
  {
   "cell_type": "code",
   "execution_count": 13,
   "id": "d57985eb-99bd-4198-9ad6-61b4d8a07b79",
   "metadata": {},
   "outputs": [
    {
     "name": "stdout",
     "output_type": "stream",
     "text": [
      "restriction site found!\n"
     ]
    }
   ],
   "source": [
    "dna = \"ATCGCGGACCCAC\"\n",
    "if re.search(r\"GGACC\", dna) or re.search(r\"GGTCC\", dna):\n",
    "    print(\"restriction site found!\")"
   ]
  },
  {
   "cell_type": "code",
   "execution_count": 16,
   "id": "fae310c4-5fcd-4c10-9c5b-c6b7ca66d5f4",
   "metadata": {},
   "outputs": [
    {
     "name": "stdout",
     "output_type": "stream",
     "text": [
      "restriction site found!\n"
     ]
    }
   ],
   "source": [
    "# regex groups with ( ) and alternatives with |\n",
    "dna = \"ATCGCGGACCCAC\"\n",
    "if re.search(r\"GG(A|T)CC\", dna):\n",
    "    print(\"restriction site found!\")"
   ]
  },
  {
   "cell_type": "code",
   "execution_count": 17,
   "id": "f0bd79d2-5c34-4595-a3af-68073b1c08c5",
   "metadata": {},
   "outputs": [
    {
     "name": "stdout",
     "output_type": "stream",
     "text": [
      "string found!\n"
     ]
    }
   ],
   "source": [
    "dna = \"This (is interesting\"\n",
    "if re.search(r\"This \\(is\", dna):\n",
    "    print(\"string found!\")"
   ]
  },
  {
   "cell_type": "code",
   "execution_count": 18,
   "id": "5e807e66-a8e5-4bdc-a4a8-93d8324866cf",
   "metadata": {},
   "outputs": [
    {
     "name": "stdout",
     "output_type": "stream",
     "text": [
      "this is a backslash \\\n"
     ]
    }
   ],
   "source": [
    "print(\"this is a backslash \\\\\")"
   ]
  },
  {
   "cell_type": "code",
   "execution_count": 19,
   "id": "f3ff6258-3b8e-42c1-b48c-8640c702af15",
   "metadata": {},
   "outputs": [
    {
     "name": "stdout",
     "output_type": "stream",
     "text": [
      "restriction site found!\n"
     ]
    }
   ],
   "source": [
    "dna = \"ATCGCGGACCCAC\"\n",
    "if re.search(r\"GG(A|T|C|G)CC\", dna):\n",
    "    print(\"restriction site found!\")"
   ]
  },
  {
   "cell_type": "code",
   "execution_count": 21,
   "id": "71607d4b-3275-4810-b598-0052c09794b0",
   "metadata": {},
   "outputs": [
    {
     "name": "stdout",
     "output_type": "stream",
     "text": [
      "not found\n"
     ]
    }
   ],
   "source": [
    "dna = \"ATCGCGGAACCCAC\"\n",
    "if re.search(r\"GG(A|T|C|G)CC\", dna):\n",
    "    print(\"restriction site found!\")\n",
    "else:\n",
    "    print(\"not found\")"
   ]
  },
  {
   "cell_type": "code",
   "execution_count": 23,
   "id": "1a1c20bd-2044-477a-a198-4b460178e464",
   "metadata": {},
   "outputs": [
    {
     "name": "stdout",
     "output_type": "stream",
     "text": [
      "restriction site found!\n"
     ]
    }
   ],
   "source": [
    "# regex character classes with [ ]\n",
    "dna = \"ATCGCGGACCCAC\"\n",
    "if re.search(r\"GG[ACTG]CC\", dna):\n",
    "    print(\"restriction site found!\")\n",
    "else:\n",
    "    print(\"not found\")"
   ]
  },
  {
   "cell_type": "code",
   "execution_count": 24,
   "id": "a3993930-84c5-4f9e-846e-5381488bac81",
   "metadata": {},
   "outputs": [
    {
     "name": "stdout",
     "output_type": "stream",
     "text": [
      "restriction site found!\n"
     ]
    }
   ],
   "source": [
    "# regex character classes with [ ] and not ^\n",
    "dna = \"ATCGCGGACCCAC\"\n",
    "if re.search(r\"GG[^CG]CC\", dna):\n",
    "    print(\"restriction site found!\")\n",
    "else:\n",
    "    print(\"not found\")"
   ]
  },
  {
   "cell_type": "code",
   "execution_count": 25,
   "id": "bfa22fb8-e614-4400-a30d-f161762ed675",
   "metadata": {},
   "outputs": [
    {
     "name": "stdout",
     "output_type": "stream",
     "text": [
      "restriction site found!\n"
     ]
    }
   ],
   "source": [
    "# regex character classes with [ ] and not ^\n",
    "dna = \"ATCGCGGYCCCAC\"\n",
    "if re.search(r\"GG[^CG]CC\", dna):\n",
    "    print(\"restriction site found!\")\n",
    "else:\n",
    "    print(\"not found\")"
   ]
  },
  {
   "cell_type": "code",
   "execution_count": 26,
   "id": "c8917b27-f8fc-4527-8d30-abb544735ee4",
   "metadata": {},
   "outputs": [
    {
     "name": "stdout",
     "output_type": "stream",
     "text": [
      "restriction site found!\n"
     ]
    }
   ],
   "source": [
    "# regex match any character with .\n",
    "dna = \"ATCGCGGYCCCAC\"\n",
    "if re.search(r\"GG.CC\", dna):\n",
    "    print(\"restriction site found!\")\n",
    "else:\n",
    "    print(\"not found\")"
   ]
  },
  {
   "cell_type": "markdown",
   "id": "a116def9-d176-4734-bd5f-89e0ae734ef0",
   "metadata": {},
   "source": [
    "### Learning more about regular expressions\n",
    "\n",
    "Test your regular expressions at [Debuggex](https://www.debuggex.com/)\n",
    "\n",
    "Check your skills with [Regex Golf](https://www.debuggex.com/)\n",
    "\n",
    "The Official Regex Docs are [here](https://docs.python.org/3/library/re.html#regular-expression-syntax)\n",
    "\n",
    "[W3Schools on Regex](https://www.w3schools.com/python/python_regex.asp#:~:text=A%20RegEx%2C%20or%20Regular%20Expression,contains%20the%20specified%20search%20pattern.)"
   ]
  },
  {
   "cell_type": "code",
   "execution_count": 33,
   "id": "6af842ae-fa0e-4213-8228-2f44ca38f89f",
   "metadata": {},
   "outputs": [
    {
     "name": "stdout",
     "output_type": "stream",
     "text": [
      "restriction site found!\n",
      "restriction site found!\n"
     ]
    }
   ],
   "source": [
    "# regex match 1 or 0 with ?\n",
    "dna = \"GGACCCAC\"\n",
    "if re.search(r\"GGA?CC\", dna):\n",
    "    print(\"restriction site found!\")\n",
    "else:\n",
    "    print(\"not found\")\n",
    "# regex match 1 or 0 with ?\n",
    "dna = \"GGCCCAC\"\n",
    "if re.search(r\"GGA?CC\", dna):\n",
    "    print(\"restriction site found!\")\n",
    "else:\n",
    "    print(\"not found\")    "
   ]
  },
  {
   "cell_type": "code",
   "execution_count": 34,
   "id": "223a1af4-350e-4d65-9145-70d9cff511a7",
   "metadata": {},
   "outputs": [
    {
     "name": "stdout",
     "output_type": "stream",
     "text": [
      "restriction site found!\n",
      "restriction site found!\n"
     ]
    }
   ],
   "source": [
    "# regex match 1 or 0 with ?\n",
    "dna = \"GGAGCCCAC\"\n",
    "if re.search(r\"GG(AG|T)?CC\", dna):\n",
    "    print(\"restriction site found!\")\n",
    "else:\n",
    "    print(\"not found\")\n",
    "# regex match 1 or 0 with ?\n",
    "dna = \"GGCCCAC\"\n",
    "if re.search(r\"GG(AG|T)?CC\", dna):\n",
    "    print(\"restriction site found!\")\n",
    "else:\n",
    "    print(\"not found\")    "
   ]
  },
  {
   "cell_type": "code",
   "execution_count": 37,
   "id": "5a17df29-7d62-4968-b5da-89af6d91a78b",
   "metadata": {},
   "outputs": [
    {
     "name": "stdout",
     "output_type": "stream",
     "text": [
      "restriction site found!\n",
      "not found\n",
      "restriction site found!\n"
     ]
    }
   ],
   "source": [
    "# regex match at least 1 time with +\n",
    "dna = \"GGACCCAC\"\n",
    "if re.search(r\"GGA+CC\", dna):\n",
    "    print(\"restriction site found!\")\n",
    "else:\n",
    "    print(\"not found\")\n",
    "\n",
    "dna = \"GGCCCAC\"\n",
    "if re.search(r\"GGA+CC\", dna):\n",
    "    print(\"restriction site found!\")\n",
    "else:\n",
    "    print(\"not found\")\n",
    "    \n",
    "dna = \"GGAACCCAC\"\n",
    "if re.search(r\"GGA+CC\", dna):\n",
    "    print(\"restriction site found!\")\n",
    "else:\n",
    "    print(\"not found\")"
   ]
  },
  {
   "cell_type": "code",
   "execution_count": 42,
   "id": "8d59dc02-1c29-4559-9d71-dfff0606a410",
   "metadata": {},
   "outputs": [
    {
     "name": "stdout",
     "output_type": "stream",
     "text": [
      "restriction site found!\n",
      "not found\n",
      "restriction site found!\n",
      "not found\n"
     ]
    }
   ],
   "source": [
    "# regex match at least 1 time with +\n",
    "dna = \"GGAGCCCAC\"\n",
    "if re.search(r\"GG(AG)+CC\", dna):\n",
    "    print(\"restriction site found!\")\n",
    "else:\n",
    "    print(\"not found\")\n",
    "\n",
    "dna = \"GGCCCAC\"\n",
    "if re.search(r\"GG(AG)+CC\", dna):\n",
    "    print(\"restriction site found!\")\n",
    "else:\n",
    "    print(\"not found\")\n",
    "\n",
    "dna = \"GGAGAGCCCAC\"\n",
    "if re.search(r\"GG(AG)+CC\", dna):\n",
    "    print(\"restriction site found!\")\n",
    "else:\n",
    "    print(\"not found\")\n",
    "\n",
    "dna = \"GGAGAGCCCAC\"\n",
    "if re.search(r\"GGAG+CC\", dna):\n",
    "    print(\"restriction site found!\")\n",
    "else:\n",
    "    print(\"not found\")"
   ]
  },
  {
   "cell_type": "code",
   "execution_count": 44,
   "id": "5592371d-9a02-4673-9819-8ba6eaa6c5e0",
   "metadata": {},
   "outputs": [
    {
     "name": "stdout",
     "output_type": "stream",
     "text": [
      "it matches\n",
      "it matches\n",
      "it matches\n"
     ]
    }
   ],
   "source": [
    "# regex zero or more of a thing - *\n",
    "dna = \"GGGATTT\"\n",
    "pattern = r\"GGGA*TTT\"\n",
    "if re.search(pattern, dna):\n",
    "    print(\"it matches\")\n",
    "\n",
    "dna = \"GGGTTT\"\n",
    "if re.search(pattern, dna):\n",
    "    print(\"it matches\")\n",
    "\n",
    "dna = \"GGGAAATTT\"\n",
    "if re.search(pattern, dna):\n",
    "    print(\"it matches\")\n"
   ]
  },
  {
   "cell_type": "code",
   "execution_count": 46,
   "id": "b5dd1d61-ac5e-48bc-b202-dce02b9ebb14",
   "metadata": {},
   "outputs": [
    {
     "name": "stdout",
     "output_type": "stream",
     "text": [
      "it matches\n",
      "it matches\n"
     ]
    }
   ],
   "source": [
    "# regex exactly N times - { } \n",
    "dna = \"GGGAAATTT\"\n",
    "pattern = r\"GGGA{3}TTT\"\n",
    "if re.search(pattern, dna):\n",
    "    print(\"it matches\")\n",
    "\n",
    "if re.search(r\"GGGAAATTT\", dna):\n",
    "    print(\"it matches\")"
   ]
  },
  {
   "cell_type": "code",
   "execution_count": 51,
   "id": "3e61091f-2589-4e03-b0dc-0655b161ba8e",
   "metadata": {},
   "outputs": [
    {
     "name": "stdout",
     "output_type": "stream",
     "text": [
      "it matches\n",
      "it matches\n",
      "it matches\n",
      "it doesn't match\n"
     ]
    }
   ],
   "source": [
    "# regex exactly N to M times - { } \n",
    "dna = \"GGGAAATTT\"\n",
    "pattern = r\"GGGA{3,5}TTT\"\n",
    "if re.search(pattern, dna):\n",
    "    print(\"it matches\")\n",
    "\n",
    "dna = \"GGGAAAATTT\"\n",
    "if re.search(pattern, dna):\n",
    "    print(\"it matches\")\n",
    "\n",
    "dna = \"GGGAAAAATTT\"\n",
    "if re.search(pattern, dna):\n",
    "    print(\"it matches\")\n",
    "\n",
    "dna = \"GGGAAAAAATTT\"\n",
    "if re.search(pattern, dna):\n",
    "    print(\"it matches\")\n",
    "else:\n",
    "    print(\"it doesn't match\")"
   ]
  },
  {
   "cell_type": "code",
   "execution_count": 58,
   "id": "680e89e4-5ae9-4a1d-b3da-d8697c9ad2df",
   "metadata": {},
   "outputs": [
    {
     "name": "stdout",
     "output_type": "stream",
     "text": [
      "it matches\n",
      "it doesn't match\n"
     ]
    }
   ],
   "source": [
    "# regex - string starts with: ^\n",
    "dna = \"GGGAAATTT\"\n",
    "pattern = r\"^GG[ACTG]*\"\n",
    "if re.search(pattern, dna):\n",
    "    print(\"it matches\")\n",
    "\n",
    "dna = \"AGGGAAATTT\"\n",
    "if re.search(pattern, dna):\n",
    "    print(\"it matches\")\n",
    "else:\n",
    "    print(\"it doesn't match\")"
   ]
  },
  {
   "cell_type": "code",
   "execution_count": 63,
   "id": "41616779-d8d0-491f-a35a-6d6929d894f8",
   "metadata": {},
   "outputs": [
    {
     "name": "stdout",
     "output_type": "stream",
     "text": [
      "it doesn't match\n",
      "it matches\n"
     ]
    }
   ],
   "source": [
    "# regex - re.match is like putting a ^ in your pattern\n",
    "dna = \"AGGGAAATTT\"\n",
    "pattern = r\"GG[ACTG]*\"\n",
    "\n",
    "if re.match(pattern, dna):\n",
    "    print(\"it matches\")\n",
    "else:\n",
    "    print(\"it doesn't match\")\n",
    "\n",
    "if re.search(pattern, dna):\n",
    "    print(\"it matches\")\n",
    "else:\n",
    "    print(\"it doesn't match\")"
   ]
  },
  {
   "cell_type": "code",
   "execution_count": 70,
   "id": "e0f3d9c0-8064-403a-bd71-418bb3cbba05",
   "metadata": {},
   "outputs": [
    {
     "name": "stdout",
     "output_type": "stream",
     "text": [
      "it matches\n",
      "it doesn't match\n",
      "it matches\n",
      "it matches\n"
     ]
    }
   ],
   "source": [
    "# regex - string ends with: $\n",
    "dna = \"GGGAAATTT\"\n",
    "pattern = r\"GG[ACTG]*TT$\"\n",
    "if re.search(pattern, dna):\n",
    "    print(\"it matches\")\n",
    "else:\n",
    "    print(\"it doesn't match\")\n",
    "\n",
    "dna = \"GGGAAATTAT\"\n",
    "if re.search(pattern, dna):\n",
    "    print(\"it matches\")\n",
    "else:\n",
    "    print(\"it doesn't match\")\n",
    "\n",
    "dna = \"GGGAAATTAT\"\n",
    "pattern = r\"GG[ACTG]*TT\"\n",
    "if re.search(pattern, dna):\n",
    "    print(\"it matches\")\n",
    "else:\n",
    "    print(\"it doesn't match\")\n",
    "\n",
    "dna = \"GGGAAATT\"\n",
    "pattern = r\"^GG[ACTG]*TT$\"\n",
    "if re.search(pattern, dna):\n",
    "    print(\"it matches\")\n",
    "else:\n",
    "    print(\"it doesn't match\")"
   ]
  },
  {
   "cell_type": "code",
   "execution_count": 88,
   "id": "59a9d91f-31e7-4381-bcae-6f8822416d34",
   "metadata": {},
   "outputs": [
    {
     "name": "stdout",
     "output_type": "stream",
     "text": [
      "it matches\n",
      "it doesn't match\n",
      "it matches\n",
      "it doesn't match\n",
      "it matches\n",
      "it doesn't match\n",
      "it matches\n",
      "it doesn't match\n",
      "it matches\n"
     ]
    }
   ],
   "source": [
    "# regex character class ranges with [ ] and -\n",
    "mystring = \"HELLO\"\n",
    "pattern = r\"^[A-Z]*$\"\n",
    "if re.search(pattern, mystring):\n",
    "    print(\"it matches\")\n",
    "else:\n",
    "    print(\"it doesn't match\")\n",
    "\n",
    "mystring = \"hello\"\n",
    "if re.search(pattern, mystring):\n",
    "    print(\"it matches\")\n",
    "else:\n",
    "    print(\"it doesn't match\")\n",
    "\n",
    "mystring = \"HELLO WORLD\"\n",
    "pattern = r\"^[A-Z ]*$\"\n",
    "if re.search(pattern, mystring):\n",
    "    print(\"it matches\")\n",
    "else:\n",
    "    print(\"it doesn't match\")\n",
    "\n",
    "mystring = \"HELLO WORLD\"\n",
    "pattern = r\"^[^A-Z ]*$\"\n",
    "if re.search(pattern, mystring):\n",
    "    print(\"it matches\")\n",
    "else:\n",
    "    print(\"it doesn't match\")\n",
    "\n",
    "mystring = \"hello world\"\n",
    "pattern = r\"^[^A-Z]*$\"\n",
    "if re.search(pattern, mystring):\n",
    "    print(\"it matches\")\n",
    "else:\n",
    "    print(\"it doesn't match\")\n",
    "\n",
    "mystring = \"Hello world\"\n",
    "pattern = r\"^[^A-Z]*$\"\n",
    "if re.search(pattern, mystring):\n",
    "    print(\"it matches\")\n",
    "else:\n",
    "    print(\"it doesn't match\")\n",
    "\n",
    "mystring = \"Hello world\"\n",
    "pattern = r\"^[A-Za-z ]*$\"\n",
    "if re.search(pattern, mystring):\n",
    "    print(\"it matches\")\n",
    "else:\n",
    "    print(\"it doesn't match\")\n",
    "\n",
    "mystring = \"Hello world!\"\n",
    "pattern = r\"^[A-Za-z ]*$\"\n",
    "if re.search(pattern, mystring):\n",
    "    print(\"it matches\")\n",
    "else:\n",
    "    print(\"it doesn't match\")\n",
    "\n",
    "mystring = \"Hello-world\"\n",
    "pattern = r\"^[-A-Za-z ]*$\"\n",
    "if re.search(pattern, mystring):\n",
    "    print(\"it matches\")\n",
    "else:\n",
    "    print(\"it doesn't match\")\n",
    "    "
   ]
  },
  {
   "cell_type": "markdown",
   "id": "9b8a9abe-f5be-456f-95d4-8d417a008f63",
   "metadata": {},
   "source": [
    "### The match object and groups"
   ]
  },
  {
   "cell_type": "code",
   "execution_count": 93,
   "id": "26ee534e-9630-43d1-9353-8dd927e8af41",
   "metadata": {},
   "outputs": [
    {
     "name": "stdout",
     "output_type": "stream",
     "text": [
      "<re.Match object; span=(2, 9), match='GACGTAC'>\n",
      "True\n",
      "None\n",
      "<class 'NoneType'>\n",
      "False\n"
     ]
    }
   ],
   "source": [
    "dna = \"ATGACGTACGTACGACTG\"\n",
    "m = re.search(r\"GA[ATCG]{3}AC\", dna)\n",
    "print(m)\n",
    "print(bool(m))\n",
    "m2 = re.search(r\"Gold\", dna)\n",
    "print(m2)\n",
    "print(type(m2))\n",
    "print(bool(m2))"
   ]
  },
  {
   "cell_type": "code",
   "execution_count": 94,
   "id": "317bcbb5-a793-4d12-991b-2f57ff04ec27",
   "metadata": {},
   "outputs": [
    {
     "name": "stdout",
     "output_type": "stream",
     "text": [
      "GACGTAC\n"
     ]
    }
   ],
   "source": [
    "dna = \"ATGACGTACGTACGACTG\"\n",
    "m = re.search(r\"GA[ATCG]{3}AC\", dna)\n",
    "print(m.group())"
   ]
  },
  {
   "cell_type": "code",
   "execution_count": 96,
   "id": "86deae1c-c6fa-4d01-b225-0b7b0c72053b",
   "metadata": {},
   "outputs": [
    {
     "name": "stdout",
     "output_type": "stream",
     "text": [
      "<re.Match object; span=(2, 13), match='GACGTACGTAC'>\n",
      "GACGTACGTAC\n"
     ]
    }
   ],
   "source": [
    "pattern = r\"GA[ATGC]{3}AC[ATGC]{2}AC\"\n",
    "m = re.search(pattern, dna)\n",
    "print(m)\n",
    "print(m.group())"
   ]
  },
  {
   "cell_type": "code",
   "execution_count": 101,
   "id": "55172257-549f-4dc0-ab2c-fdab921ffae0",
   "metadata": {},
   "outputs": [
    {
     "name": "stdout",
     "output_type": "stream",
     "text": [
      "GACGTACGTAC\n",
      "CGT\n",
      "GT\n"
     ]
    },
    {
     "ename": "IndexError",
     "evalue": "no such group",
     "output_type": "error",
     "traceback": [
      "\u001b[0;31m---------------------------------------------------------------------------\u001b[0m",
      "\u001b[0;31mIndexError\u001b[0m                                Traceback (most recent call last)",
      "Input \u001b[0;32mIn [101]\u001b[0m, in \u001b[0;36m<cell line: 6>\u001b[0;34m()\u001b[0m\n\u001b[1;32m      4\u001b[0m \u001b[38;5;28mprint\u001b[39m(m\u001b[38;5;241m.\u001b[39mgroup(\u001b[38;5;241m1\u001b[39m))\n\u001b[1;32m      5\u001b[0m \u001b[38;5;28mprint\u001b[39m(m\u001b[38;5;241m.\u001b[39mgroup(\u001b[38;5;241m2\u001b[39m))\n\u001b[0;32m----> 6\u001b[0m \u001b[38;5;28mprint\u001b[39m(\u001b[43mm\u001b[49m\u001b[38;5;241;43m.\u001b[39;49m\u001b[43mgroup\u001b[49m\u001b[43m(\u001b[49m\u001b[38;5;241;43m3\u001b[39;49m\u001b[43m)\u001b[49m)\n",
      "\u001b[0;31mIndexError\u001b[0m: no such group"
     ]
    }
   ],
   "source": [
    "pattern = r\"GA([ATGC]{3})AC([ATGC]{2})AC\"\n",
    "m = re.search(pattern, dna)\n",
    "print(m.group(0))\n",
    "print(m.group(1))\n",
    "print(m.group(2))\n",
    "print(m.group(3))\n"
   ]
  },
  {
   "cell_type": "code",
   "execution_count": 104,
   "id": "2077475e-2793-4f95-968f-c47f23cd40dd",
   "metadata": {},
   "outputs": [
    {
     "name": "stdout",
     "output_type": "stream",
     "text": [
      "a752\n",
      "Ab7\n"
     ]
    }
   ],
   "source": [
    "def parse_id(id):\n",
    "    id_pattern = r\"([A-Za-z0-9]+)[.]([A-Z][a-z][0-9]{1,2})\"\n",
    "    match = re.search(id_pattern, id)\n",
    "    if match is not None:\n",
    "        id_part = match.group(1)\n",
    "        primer_part = match.group(2)\n",
    "        return (id_part, primer_part)\n",
    "my_id = \"a752.Ab7\"\n",
    "info = parse_id(id)\n",
    "print(info[0])\n",
    "print(info[1])"
   ]
  },
  {
   "cell_type": "code",
   "execution_count": 109,
   "id": "3809a455-a708-457f-8282-273c2e390522",
   "metadata": {},
   "outputs": [
    {
     "name": "stdout",
     "output_type": "stream",
     "text": [
      "2\n",
      "13\n",
      "GACGTACGTAC\n",
      "GACGTACGTAC\n",
      "4\n"
     ]
    }
   ],
   "source": [
    "dna = \"ATGACGTACGTACGACTG\"\n",
    "pattern = r\"GA([ATGC]{3})AC([ATGC]{2})AC\"\n",
    "m = re.search(pattern, dna)\n",
    "print(m.start())\n",
    "print(m.end())\n",
    "start = m.start()\n",
    "end = m.end()\n",
    "print(dna[start:end])\n",
    "print(m.group())\n",
    "print(m.start(1))"
   ]
  },
  {
   "cell_type": "code",
   "execution_count": null,
   "id": "a72e73c3-e62a-45aa-9fa5-3226e55b7651",
   "metadata": {},
   "outputs": [],
   "source": []
  }
 ],
 "metadata": {
  "kernelspec": {
   "display_name": "Python 3 (ipykernel)",
   "language": "python",
   "name": "python3"
  },
  "language_info": {
   "codemirror_mode": {
    "name": "ipython",
    "version": 3
   },
   "file_extension": ".py",
   "mimetype": "text/x-python",
   "name": "python",
   "nbconvert_exporter": "python",
   "pygments_lexer": "ipython3",
   "version": "3.9.12"
  }
 },
 "nbformat": 4,
 "nbformat_minor": 5
}
